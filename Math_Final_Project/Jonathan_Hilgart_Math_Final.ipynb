{
 "cells": [
  {
   "cell_type": "markdown",
   "metadata": {},
   "source": [
    "# Matrix Inverse using Gauss Jordan elimination"
   ]
  },
  {
   "cell_type": "code",
   "execution_count": 1,
   "metadata": {
    "collapsed": true
   },
   "outputs": [],
   "source": [
    "import numpy as np\n",
    "import pandas as pd"
   ]
  },
  {
   "cell_type": "code",
   "execution_count": 132,
   "metadata": {
    "collapsed": false
   },
   "outputs": [],
   "source": [
    "def gauss_jordan_inverse(A):\n",
    "    \n",
    "    number_of_rows = len(A)\n",
    "    number_of_columns = len(A[0])\n",
    "    identity = np.identity(number_of_rows)\n",
    "    \n",
    "    \n",
    "    for i in range(number_of_columns): ## go through every column\n",
    "        \n",
    "            pass\n",
    "        \n",
    "    for j in range(number_of_rows): ## go through every row\n",
    "            \n",
    "        pivot = max(abs(A[:,i])) \n",
    "        pivot_row_index = [item for item in range(number_of_rows) if pivot in A[item]] \n",
    "        ## test to see if the row index of the largest number equals the row we are on\n",
    "            \n",
    "        print(pivot_row_index,'pivot row index')\n",
    "        if pivot_row_index != j:\n",
    "            #print(A[j],'A[j]')\n",
    "            #print(A[i],'A[i]')\n",
    "            #print(A[j],'j')\n",
    "            #print(A[pivot_row_index],'pivot row index')\n",
    "                \n",
    "            A[j],A[pivot_row_index] = A[pivot_row_index],A[j].copy()\n",
    "                \n",
    "            print(A, '-----------')\n",
    "        \n",
    "        print(pivot,'pivot')    \n",
    "        \n",
    "    return A"
   ]
  },
  {
   "cell_type": "code",
   "execution_count": 144,
   "metadata": {
    "collapsed": true
   },
   "outputs": [],
   "source": [
    "B = np.array([[1,2,3],\n",
    "             [23,43,23],\n",
    "             [1,2,345345]])\n"
   ]
  },
  {
   "cell_type": "code",
   "execution_count": 145,
   "metadata": {
    "collapsed": false
   },
   "outputs": [
    {
     "name": "stdout",
     "output_type": "stream",
     "text": [
      "[2] pivot row index\n",
      "[[     1      2 345345]\n",
      " [    23     43     23]\n",
      " [     1      2      3]] -----------\n",
      "345345 pivot\n",
      "[0] pivot row index\n",
      "[[    23     43     23]\n",
      " [     1      2 345345]\n",
      " [     1      2      3]] -----------\n",
      "345345 pivot\n"
     ]
    },
    {
     "data": {
      "text/plain": [
       "array([[    23,     43,     23],\n",
       "       [     1,      2, 345345],\n",
       "       [     1,      2,      3]])"
      ]
     },
     "execution_count": 145,
     "metadata": {},
     "output_type": "execute_result"
    }
   ],
   "source": [
    "gauss_jordan_inverse(B)"
   ]
  },
  {
   "cell_type": "markdown",
   "metadata": {},
   "source": [
    "# Built in Numpy inverse method"
   ]
  },
  {
   "cell_type": "code",
   "execution_count": 192,
   "metadata": {
    "collapsed": false
   },
   "outputs": [],
   "source": [
    "###Numpy solutions\n",
    "\n",
    "import timeit\n",
    "import numpy as np\n",
    "\n",
    "def numpy_inv_time(A):\n",
    "    shape = np.shape(A)\n",
    "    if shape[0]==shape[1]:\n",
    "    \n",
    "        #print(timeit.timeit('np.linalg.inv(A)',number=100))\n",
    "        \n",
    "        return np.linalg.inv(A)\n",
    "       \n",
    "    else:\n",
    "        return ' not a square matrix '"
   ]
  },
  {
   "cell_type": "code",
   "execution_count": 194,
   "metadata": {
    "collapsed": true
   },
   "outputs": [],
   "source": [
    "def wrapper(func, *args, **kwargs):\n",
    "    def wrapped():\n",
    "        return func(*args, **kwargs)\n",
    "    return wrapped"
   ]
  },
  {
   "cell_type": "code",
   "execution_count": 195,
   "metadata": {
    "collapsed": false
   },
   "outputs": [
    {
     "data": {
      "text/plain": [
       "0.0024997789987537544"
      ]
     },
     "execution_count": 195,
     "metadata": {},
     "output_type": "execute_result"
    }
   ],
   "source": [
    "matrix_wrapper = wrapper(numpy_inv_time,B) ##need to wrap together the matrix and the function in order to time it\n",
    "\n",
    "timeit.timeit(matrix_wrapper,number=100)"
   ]
  },
  {
   "cell_type": "code",
   "execution_count": 221,
   "metadata": {
    "collapsed": false
   },
   "outputs": [
    {
     "name": "stdout",
     "output_type": "stream",
     "text": [
      "Matrix of size 0 takes 0.0005080500013718847 seconds to find the inverse using numpys inverse method\n",
      "Matrix of size 1 takes 0.0019623089974629693 seconds to find the inverse using numpys inverse method\n",
      "Matrix of size 2 takes 0.0016835269998409785 seconds to find the inverse using numpys inverse method\n",
      "Matrix of size 3 takes 0.0016170790004252922 seconds to find the inverse using numpys inverse method\n",
      "Matrix of size 4 takes 0.001722404998872662 seconds to find the inverse using numpys inverse method\n",
      "Matrix of size 5 takes 0.0018827099993359298 seconds to find the inverse using numpys inverse method\n",
      "Matrix of size 6 takes 0.0022107999975560233 seconds to find the inverse using numpys inverse method\n",
      "Matrix of size 7 takes 0.002258929998788517 seconds to find the inverse using numpys inverse method\n",
      "Matrix of size 8 takes 0.0020989500007999595 seconds to find the inverse using numpys inverse method\n",
      "Matrix of size 9 takes 0.0023428370004694443 seconds to find the inverse using numpys inverse method\n",
      "Matrix of size 10 takes 0.004128447999391938 seconds to find the inverse using numpys inverse method\n",
      "Matrix of size 11 takes 0.005998081996949622 seconds to find the inverse using numpys inverse method\n",
      "Matrix of size 12 takes 0.0034957960015162826 seconds to find the inverse using numpys inverse method\n",
      "Matrix of size 13 takes 0.008808575999864843 seconds to find the inverse using numpys inverse method\n",
      "Matrix of size 14 takes 0.0035978449996036943 seconds to find the inverse using numpys inverse method\n",
      "Matrix of size 15 takes 0.004143482998188119 seconds to find the inverse using numpys inverse method\n",
      "Matrix of size 16 takes 0.0042416930009494536 seconds to find the inverse using numpys inverse method\n",
      "Matrix of size 17 takes 0.0036731030013470445 seconds to find the inverse using numpys inverse method\n",
      "Matrix of size 18 takes 0.002683583999896655 seconds to find the inverse using numpys inverse method\n",
      "Matrix of size 19 takes 0.0043926899998041335 seconds to find the inverse using numpys inverse method\n",
      "Matrix of size 20 takes 0.002490498998668045 seconds to find the inverse using numpys inverse method\n",
      "Matrix of size 21 takes 0.0024848670000210404 seconds to find the inverse using numpys inverse method\n",
      "Matrix of size 22 takes 0.0034977069990418386 seconds to find the inverse using numpys inverse method\n",
      "Matrix of size 23 takes 0.00269540500084986 seconds to find the inverse using numpys inverse method\n",
      "Matrix of size 24 takes 0.002687766998860752 seconds to find the inverse using numpys inverse method\n",
      "Matrix of size 25 takes 0.003200916002242593 seconds to find the inverse using numpys inverse method\n",
      "Matrix of size 26 takes 0.0045841780010960065 seconds to find the inverse using numpys inverse method\n",
      "Matrix of size 27 takes 0.0032450010003231 seconds to find the inverse using numpys inverse method\n",
      "Matrix of size 28 takes 0.006861194000521209 seconds to find the inverse using numpys inverse method\n",
      "Matrix of size 29 takes 0.003606170001148712 seconds to find the inverse using numpys inverse method\n",
      "Matrix of size 30 takes 0.004194240002107108 seconds to find the inverse using numpys inverse method\n",
      "Matrix of size 31 takes 0.0038326789981510956 seconds to find the inverse using numpys inverse method\n",
      "Matrix of size 32 takes 0.004096927998034516 seconds to find the inverse using numpys inverse method\n",
      "Matrix of size 33 takes 0.004001514000265161 seconds to find the inverse using numpys inverse method\n",
      "Matrix of size 34 takes 0.0042250320002494846 seconds to find the inverse using numpys inverse method\n",
      "Matrix of size 35 takes 0.006713261002005311 seconds to find the inverse using numpys inverse method\n",
      "Matrix of size 36 takes 0.0057946880006056745 seconds to find the inverse using numpys inverse method\n",
      "Matrix of size 37 takes 0.004369719998067012 seconds to find the inverse using numpys inverse method\n",
      "Matrix of size 38 takes 0.004578420997859212 seconds to find the inverse using numpys inverse method\n",
      "Matrix of size 39 takes 0.004510966999077937 seconds to find the inverse using numpys inverse method\n",
      "Matrix of size 40 takes 0.004697733002103632 seconds to find the inverse using numpys inverse method\n",
      "Matrix of size 41 takes 0.005390673999499995 seconds to find the inverse using numpys inverse method\n",
      "Matrix of size 42 takes 0.004812025003047893 seconds to find the inverse using numpys inverse method\n",
      "Matrix of size 43 takes 0.005302738001773832 seconds to find the inverse using numpys inverse method\n",
      "Matrix of size 44 takes 0.005959920999885071 seconds to find the inverse using numpys inverse method\n",
      "Matrix of size 45 takes 0.00569254700167221 seconds to find the inverse using numpys inverse method\n",
      "Matrix of size 46 takes 0.007034853999357438 seconds to find the inverse using numpys inverse method\n",
      "Matrix of size 47 takes 0.006182662000355776 seconds to find the inverse using numpys inverse method\n",
      "Matrix of size 48 takes 0.005884858997887932 seconds to find the inverse using numpys inverse method\n",
      "Matrix of size 49 takes 0.006437123000068823 seconds to find the inverse using numpys inverse method\n",
      "Matrix of size 50 takes 0.006241016999410931 seconds to find the inverse using numpys inverse method\n",
      "Matrix of size 51 takes 0.007258674002514454 seconds to find the inverse using numpys inverse method\n",
      "Matrix of size 52 takes 0.006428800999856321 seconds to find the inverse using numpys inverse method\n",
      "Matrix of size 53 takes 0.0070006579990149476 seconds to find the inverse using numpys inverse method\n",
      "Matrix of size 54 takes 0.008063918001425918 seconds to find the inverse using numpys inverse method\n",
      "Matrix of size 55 takes 0.007110720998753095 seconds to find the inverse using numpys inverse method\n",
      "Matrix of size 56 takes 0.007001895002758829 seconds to find the inverse using numpys inverse method\n",
      "Matrix of size 57 takes 0.007845587999327108 seconds to find the inverse using numpys inverse method\n",
      "Matrix of size 58 takes 0.010192869001912186 seconds to find the inverse using numpys inverse method\n",
      "Matrix of size 59 takes 0.011904555998626165 seconds to find the inverse using numpys inverse method\n",
      "Matrix of size 60 takes 0.015644985000108136 seconds to find the inverse using numpys inverse method\n",
      "Matrix of size 61 takes 0.015711758001998533 seconds to find the inverse using numpys inverse method\n",
      "Matrix of size 62 takes 0.03014392199838767 seconds to find the inverse using numpys inverse method\n",
      "Matrix of size 63 takes 0.029636095998284873 seconds to find the inverse using numpys inverse method\n",
      "Matrix of size 64 takes 0.010661937998520443 seconds to find the inverse using numpys inverse method\n",
      "Matrix of size 65 takes 0.01737018700077897 seconds to find the inverse using numpys inverse method\n",
      "Matrix of size 66 takes 0.010788368999783415 seconds to find the inverse using numpys inverse method\n",
      "Matrix of size 67 takes 0.012643527999898652 seconds to find the inverse using numpys inverse method\n",
      "Matrix of size 68 takes 0.010964538003463531 seconds to find the inverse using numpys inverse method\n",
      "Matrix of size 69 takes 0.013483389997418271 seconds to find the inverse using numpys inverse method\n",
      "Matrix of size 70 takes 0.015397612001834204 seconds to find the inverse using numpys inverse method\n",
      "Matrix of size 71 takes 0.021348881997255376 seconds to find the inverse using numpys inverse method\n",
      "Matrix of size 72 takes 0.054499996000231477 seconds to find the inverse using numpys inverse method\n",
      "Matrix of size 73 takes 0.02711625400115736 seconds to find the inverse using numpys inverse method\n",
      "Matrix of size 74 takes 0.017111967001255834 seconds to find the inverse using numpys inverse method\n",
      "Matrix of size 75 takes 0.017118881001806585 seconds to find the inverse using numpys inverse method\n",
      "Matrix of size 76 takes 0.015523762001976138 seconds to find the inverse using numpys inverse method\n",
      "Matrix of size 77 takes 0.018495857999369036 seconds to find the inverse using numpys inverse method\n",
      "Matrix of size 78 takes 0.014691098000184866 seconds to find the inverse using numpys inverse method\n",
      "Matrix of size 79 takes 0.017399409000063315 seconds to find the inverse using numpys inverse method\n",
      "Matrix of size 80 takes 0.0174778510008764 seconds to find the inverse using numpys inverse method\n",
      "Matrix of size 81 takes 0.02382228200076497 seconds to find the inverse using numpys inverse method\n",
      "Matrix of size 82 takes 0.027926884999033064 seconds to find the inverse using numpys inverse method\n",
      "Matrix of size 83 takes 0.026199907002592226 seconds to find the inverse using numpys inverse method\n",
      "Matrix of size 84 takes 0.015656441002647625 seconds to find the inverse using numpys inverse method\n",
      "Matrix of size 85 takes 0.013848759997927118 seconds to find the inverse using numpys inverse method\n",
      "Matrix of size 86 takes 0.014392205001058755 seconds to find the inverse using numpys inverse method\n",
      "Matrix of size 87 takes 0.015257224997185403 seconds to find the inverse using numpys inverse method\n",
      "Matrix of size 88 takes 0.014663098001619801 seconds to find the inverse using numpys inverse method\n",
      "Matrix of size 89 takes 0.016456671997730155 seconds to find the inverse using numpys inverse method\n",
      "Matrix of size 90 takes 0.018263312998897163 seconds to find the inverse using numpys inverse method\n",
      "Matrix of size 91 takes 0.04553467499863473 seconds to find the inverse using numpys inverse method\n",
      "Matrix of size 92 takes 0.08298106900110724 seconds to find the inverse using numpys inverse method\n",
      "Matrix of size 93 takes 0.04715983099958976 seconds to find the inverse using numpys inverse method\n",
      "Matrix of size 94 takes 0.041383330997632584 seconds to find the inverse using numpys inverse method\n",
      "Matrix of size 95 takes 0.03814433099978487 seconds to find the inverse using numpys inverse method\n",
      "Matrix of size 96 takes 0.07106524600021658 seconds to find the inverse using numpys inverse method\n",
      "Matrix of size 97 takes 0.02863660299772164 seconds to find the inverse using numpys inverse method\n",
      "Matrix of size 98 takes 0.032825788999616634 seconds to find the inverse using numpys inverse method\n",
      "Matrix of size 99 takes 0.051912378999986686 seconds to find the inverse using numpys inverse method\n"
     ]
    }
   ],
   "source": [
    "for item in range(0,100):\n",
    "    matrix = np.random.randint(0,100, size = (item,item))\n",
    "    matrix_wrapper = wrapper(numpy_inv_time,matrix)\n",
    "    print('Matrix of size {} takes {} seconds to find the inverse using numpys inverse method'.format(item,timeit.timeit(matrix_wrapper,number=100)))\n",
    "\n",
    "    "
   ]
  },
  {
   "cell_type": "code",
   "execution_count": 191,
   "metadata": {
    "collapsed": false
   },
   "outputs": [
    {
     "data": {
      "text/plain": [
       "array([[  6.66666667e-01,   8.01138195e-05,  -1.43334134e+01],\n",
       "       [ -3.33333333e-01,  -4.44004301e-05,   7.66671107e+00],\n",
       "       [ -0.00000000e+00,   2.89568022e-06,  -2.89568022e-06]])"
      ]
     },
     "execution_count": 191,
     "metadata": {},
     "output_type": "execute_result"
    }
   ],
   "source": []
  },
  {
   "cell_type": "code",
   "execution_count": null,
   "metadata": {
    "collapsed": true
   },
   "outputs": [],
   "source": []
  }
 ],
 "metadata": {
  "kernelspec": {
   "display_name": "Python [Root]",
   "language": "python",
   "name": "Python [Root]"
  },
  "language_info": {
   "codemirror_mode": {
    "name": "ipython",
    "version": 3
   },
   "file_extension": ".py",
   "mimetype": "text/x-python",
   "name": "python",
   "nbconvert_exporter": "python",
   "pygments_lexer": "ipython3",
   "version": "3.5.2"
  }
 },
 "nbformat": 4,
 "nbformat_minor": 0
}
