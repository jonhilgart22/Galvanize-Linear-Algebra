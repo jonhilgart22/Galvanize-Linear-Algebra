{
 "cells": [
  {
   "cell_type": "markdown",
   "metadata": {},
   "source": [
    "# DSCI6001 2.2.Lab\n",
    "\n",
    "* In python, create vectors $\\bf x$, $\\bf y$ and $\\bf z$ in $V$ and scalars $a$ and $b$, comprised of random real numbers, for use as follows.\n",
    "\n",
    "* Write code snippets to demonstrate the ten axioms of vector space $R^3$ in operation. Simply express each axiom once in an assertion. \n",
    "\n",
    "* This is just simple python practice, not a formal proof. For example...\n"
   ]
  },
  {
   "cell_type": "code",
   "execution_count": 37,
   "metadata": {
    "collapsed": false
   },
   "outputs": [],
   "source": [
    "import numpy as np\n",
    "\n",
    "x = np.random.rand(3)\n",
    "z = np.random.rand(3)\n",
    "y = np.random.randn(3)\n",
    "\n",
    "a = np.random.randn(1)\n",
    "b = np.random.randn(1)"
   ]
  },
  {
   "cell_type": "code",
   "execution_count": 48,
   "metadata": {
    "collapsed": false
   },
   "outputs": [],
   "source": [
    "# 2. Commutativity of vector addition\n",
    "assert np.allclose(x+y,y+x)"
   ]
  },
  {
   "cell_type": "code",
   "execution_count": 47,
   "metadata": {
    "collapsed": false
   },
   "outputs": [],
   "source": [
    "#1: Closure under addition in three dimensions:\n",
    "assert np.allclose(len(x+y),3)"
   ]
  },
  {
   "cell_type": "code",
   "execution_count": 29,
   "metadata": {
    "collapsed": false
   },
   "outputs": [],
   "source": [
    "#3: Associativity of vector addition: x+(y+z)=(x+y)+z\n",
    "assert np.allclose(((x+(y+z)).all()),(((x+y)+z).all()))\n",
    " \n",
    "\n",
    "    "
   ]
  },
  {
   "cell_type": "code",
   "execution_count": 42,
   "metadata": {
    "collapsed": true
   },
   "outputs": [],
   "source": [
    "#4: Additive identity, 0+x=x+0=x\n",
    "\n",
    "assert np.allclose((np.zeros(3)+x).all(), (x+np.zeros(3)).all())\n",
    " \n"
   ]
  },
  {
   "cell_type": "code",
   "execution_count": 33,
   "metadata": {
    "collapsed": false
   },
   "outputs": [],
   "source": [
    "#5: Existence of additive inverse: x+(−x)=0\n",
    "\n",
    "assert np.allclose(x+(-x),0)\n",
    " \n"
   ]
  },
  {
   "cell_type": "code",
   "execution_count": 34,
   "metadata": {
    "collapsed": true
   },
   "outputs": [],
   "source": [
    "#6: Closure under scalar multiplication for any scalar a and x∈V,ax∈V\n",
    "\n",
    "assert np.allclose(len(a*x),3)\n",
    " \n"
   ]
  },
  {
   "cell_type": "code",
   "execution_count": 46,
   "metadata": {
    "collapsed": false
   },
   "outputs": [],
   "source": [
    "#7: Associativity of scalar multiplication a(bx)=(ab)x\n",
    "\n",
    "assert np.allclose(a*(b*x),(a*b)*x)\n",
    " \n"
   ]
  },
  {
   "cell_type": "code",
   "execution_count": 41,
   "metadata": {
    "collapsed": false
   },
   "outputs": [],
   "source": [
    "#8: Distributivity of scalar sums : (a+b)x=ax+bx\n",
    "\n",
    "assert np.allclose((a+b)*x,a*x+b*x)\n",
    " \n"
   ]
  },
  {
   "cell_type": "code",
   "execution_count": 44,
   "metadata": {
    "collapsed": false
   },
   "outputs": [],
   "source": [
    "#9: Distributivity of vector sums\n",
    "\n",
    "assert np.allclose(a*(x+y),a*x+a*y)\n",
    "\n",
    " \n"
   ]
  },
  {
   "cell_type": "code",
   "execution_count": 45,
   "metadata": {
    "collapsed": true
   },
   "outputs": [],
   "source": [
    "#10: Scalar multiplication identity :1x=x\n",
    "assert np.allclose([1,1,1]*x,x)\n",
    " \n"
   ]
  },
  {
   "cell_type": "code",
   "execution_count": null,
   "metadata": {
    "collapsed": true
   },
   "outputs": [],
   "source": []
  }
 ],
 "metadata": {
  "anaconda-cloud": {},
  "kernelspec": {
   "display_name": "Python [Root]",
   "language": "python",
   "name": "Python [Root]"
  },
  "language_info": {
   "codemirror_mode": {
    "name": "ipython",
    "version": 3
   },
   "file_extension": ".py",
   "mimetype": "text/x-python",
   "name": "python",
   "nbconvert_exporter": "python",
   "pygments_lexer": "ipython3",
   "version": "3.5.2"
  }
 },
 "nbformat": 4,
 "nbformat_minor": 0
}
