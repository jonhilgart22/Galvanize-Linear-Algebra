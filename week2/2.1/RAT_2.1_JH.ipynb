{
 "cells": [
  {
   "cell_type": "markdown",
   "metadata": {},
   "source": [
    "## RAT 2.1 "
   ]
  },
  {
   "cell_type": "markdown",
   "metadata": {},
   "source": [
    "1) Assume A is invertible. How do we solve for the linear equation $A\\vec{x} = b$ ?"
   ]
  },
  {
   "cell_type": "markdown",
   "metadata": {
    "collapsed": true
   },
   "source": [
    "If matrix A is invertible that means A^-1 multipled by A = Identity matrix.\n",
    "Therefore, if we multiply both sides by A^-1, we get vector(x) = b multiplied by A^-1.\n",
    "\n"
   ]
  },
  {
   "cell_type": "markdown",
   "metadata": {
    "collapsed": true
   },
   "source": [
    "2) Determine all solutions if any of the system $A\\vec{x} = b$, where\n",
    "\n",
    "  $A = \\begin{bmatrix}\n",
    "    1 & 1 & 3 \\\\\n",
    "    -1 & 1 & 1 \\\\\n",
    "    2 & 3 & 8 \\\\\n",
    "  \\end{bmatrix}$\n",
    "  \n",
    "  $b = \\begin{bmatrix}\n",
    "    3 \\\\\n",
    "    -1 \\\\\n",
    "    4 \\\\\n",
    "  \\end{bmatrix}$"
   ]
  },
  {
   "cell_type": "code",
   "execution_count": 2,
   "metadata": {
    "collapsed": false
   },
   "outputs": [],
   "source": [
    "import numpy as np\n",
    "from numpy.linalg import det,inv"
   ]
  },
  {
   "cell_type": "code",
   "execution_count": 3,
   "metadata": {
    "collapsed": true
   },
   "outputs": [],
   "source": [
    "A = np.asarray([[1,1,3],\n",
    "               [-1,1,1],\n",
    "               [2,3,8]])\n",
    "b = np.asarray([[3],\n",
    "               [-1],\n",
    "               [4]])\n",
    "\n"
   ]
  },
  {
   "cell_type": "code",
   "execution_count": 7,
   "metadata": {
    "collapsed": false
   },
   "outputs": [
    {
     "data": {
      "text/plain": [
       "array([[ -2.16172782e+16],\n",
       "       [ -4.32345564e+16],\n",
       "       [  2.16172782e+16]])"
      ]
     },
     "execution_count": 7,
     "metadata": {},
     "output_type": "execute_result"
    }
   ],
   "source": [
    "x = np.linalg.solve(A,b)\n",
    "x"
   ]
  },
  {
   "cell_type": "code",
   "execution_count": null,
   "metadata": {
    "collapsed": false
   },
   "outputs": [],
   "source": []
  },
  {
   "cell_type": "code",
   "execution_count": null,
   "metadata": {
    "collapsed": true
   },
   "outputs": [],
   "source": []
  }
 ],
 "metadata": {
  "anaconda-cloud": {},
  "kernelspec": {
   "display_name": "Python [Root]",
   "language": "python",
   "name": "Python [Root]"
  },
  "language_info": {
   "codemirror_mode": {
    "name": "ipython",
    "version": 3
   },
   "file_extension": ".py",
   "mimetype": "text/x-python",
   "name": "python",
   "nbconvert_exporter": "python",
   "pygments_lexer": "ipython3",
   "version": "3.5.2"
  }
 },
 "nbformat": 4,
 "nbformat_minor": 0
}
