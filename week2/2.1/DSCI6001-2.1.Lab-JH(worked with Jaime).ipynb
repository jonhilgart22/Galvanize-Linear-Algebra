{
 "cells": [
  {
   "cell_type": "markdown",
   "metadata": {},
   "source": [
    "### DSCI6001 2.1 Lab\n",
    "\n",
    "This will be a graded laboratory assignment of approximately 30 minutes.\n",
    "\n",
    "Review [numpy.linalg.solve](http://docs.scipy.org/doc/numpy-1.10.1/reference/generated/numpy.linalg.solve.html). \n",
    "\n",
    "1) Create matrices representing the linear systems in Kreyszig Chapter 7 (9th ed. page 330) problems 12, 14, 16, 18.\n",
    "      "
   ]
  },
  {
   "cell_type": "code",
   "execution_count": 44,
   "metadata": {
    "collapsed": false
   },
   "outputs": [],
   "source": [
    "import numpy as np\n",
    "twelve = np.asarray([[-2,-4,7],\n",
    "                    [1,2,16]])\n",
    "twelve_b = np.asarray([[-6],\n",
    "                      [3]])\n",
    "fourteen = np.asarray([[5, -10],\n",
    "                      [3,1],\n",
    "                      [-1,6]])\n",
    "fourteen_b = np.asarray([[2],\n",
    "                        [13],\n",
    "                        [6]])\n",
    "sixteen = np.asarray([[0,2,1],\n",
    "                     [2,3,-1],\n",
    "                     [5,-4,3]])\n",
    "sixteen_b = np.asarray([[-1],\n",
    "                      [-12],\n",
    "                      [32]])\n",
    "eighteen = np.array([[-1.,4.,-2.],\n",
    "                      [3.,4.,6.],\n",
    "                      [1.,-2.,2.]])\n",
    "eighteen_b = np.array([[1],\n",
    "                        [1],\n",
    "                        [-.5]])"
   ]
  },
  {
   "cell_type": "markdown",
   "metadata": {},
   "source": [
    "2) Confirm the shapes of the coefficient matrices, by inspection or using Python. Which of these can numpy solve? Use numpy to solve the systems it can solve. Explain the solution set to the systems numpy cannot solve.\n",
    "   "
   ]
  },
  {
   "cell_type": "code",
   "execution_count": 68,
   "metadata": {
    "collapsed": false
   },
   "outputs": [
    {
     "name": "stdout",
     "output_type": "stream",
     "text": [
      "(2, 3) Numpy can't solve this, not a nxn matrix, underdetermined\n",
      "(3, 2) Numpy can't solve this, not a nxn matrix\n",
      "(3, 3) Numpy can solve this because it is a nxn matrix\n",
      "(3, 3) Numpy can solve this because it is a nxn matrix\n"
     ]
    }
   ],
   "source": [
    "print(np.shape(twelve),\"Numpy can't solve this, not a nxn matrix, underdetermined\")\n",
    "print(np.shape(fourteen),\"Numpy can't solve this, not a nxn matrix\")\n",
    "print(np.shape(sixteen), \"Numpy can solve this because it is a nxn matrix\")\n",
    "print(np.shape(eighteen), \"Numpy can solve this because it is a nxn matrix\")\n"
   ]
  },
  {
   "cell_type": "markdown",
   "metadata": {},
   "source": [
    "Since number sixteen and eighteen are square matrices, the next step is to check the determinants of each."
   ]
  },
  {
   "cell_type": "code",
   "execution_count": 53,
   "metadata": {
    "collapsed": false
   },
   "outputs": [
    {
     "name": "stdout",
     "output_type": "stream",
     "text": [
      "-45.0\n",
      "False\n"
     ]
    }
   ],
   "source": [
    "print(np.linalg.det(sixteen)) ## determinant of sixteen exists\n",
    "print(np.allclose(np.linalg.det(sixteen),0)) #Not close to zero\n"
   ]
  },
  {
   "cell_type": "code",
   "execution_count": 142,
   "metadata": {
    "collapsed": false
   },
   "outputs": [
    {
     "name": "stdout",
     "output_type": "stream",
     "text": [
      "-1.7763568394e-15\n",
      "True\n"
     ]
    }
   ],
   "source": [
    "print(np.linalg.det(eighteen))\n",
    "print(np.allclose(np.linalg.det(eighteen),0)) ### this determinant is being treated as zero, for this question there are infinite solution\n",
    "#print(np.linalg.rank(eighteen))"
   ]
  },
  {
   "cell_type": "markdown",
   "metadata": {},
   "source": [
    "For matrix eighteen, r < n , so there are infinite solutions"
   ]
  },
  {
   "cell_type": "code",
   "execution_count": 47,
   "metadata": {
    "collapsed": false
   },
   "outputs": [
    {
     "name": "stdout",
     "output_type": "stream",
     "text": [
      "[[ 1.]\n",
      " [-3.]\n",
      " [ 5.]]\n"
     ]
    }
   ],
   "source": [
    "print(np.linalg.solve(sixteen,sixteen_b))\n"
   ]
  },
  {
   "cell_type": "markdown",
   "metadata": {},
   "source": [
    "The only linear system we can solve is number sixteen since the determinant of problem eighteen is treated as zero."
   ]
  },
  {
   "cell_type": "markdown",
   "metadata": {},
   "source": [
    "3) Create numpy  matrices A and B, and vectors a, b from Kreyszig Chapter 7 (9th ed. page 331). Using Python, calculate:\n",
    "* AB, BA\n",
    "* $\\textit{A}\\textit{A}^{T}$\n",
    "* $\\textit{B}^{T}\\textit{A}$\n",
    "* $\\textit{a}^{T}\\textit{b}$\n",
    "* $\\textit{b}^{T}\\textit{a}$\n",
    "* $\\textit{ab}^{T}$    \n",
    "* $\\textit0.1({A}+{A}^{T})({B}-{B}^{T})$"
   ]
  },
  {
   "cell_type": "code",
   "execution_count": 18,
   "metadata": {
    "collapsed": true
   },
   "outputs": [],
   "source": [
    "A = np.array([[9,2,8],\n",
    "             [2,18,10],\n",
    "             [8,10,15]])\n",
    "B = np.array([[0,2,6],\n",
    "             [-2,0,-3],\n",
    "             [-6,3,0]])\n",
    "a = np.array([[3],\n",
    "             [7],\n",
    "             [1]])\n",
    "b = np.array([[4],\n",
    "             [0],\n",
    "             [2]])\n",
    "\n"
   ]
  },
  {
   "cell_type": "code",
   "execution_count": 31,
   "metadata": {
    "collapsed": false
   },
   "outputs": [
    {
     "name": "stdout",
     "output_type": "stream",
     "text": [
      "[[ -52   42   48]\n",
      " [ -96   34  -42]\n",
      " [-110   61   18]]  A.dot(B)  [[ 52  96 110]\n",
      " [-42 -34 -61]\n",
      " [-48  42 -18]] B.dot(A)\n",
      "[[149 134 212]\n",
      " [134 428 346]\n",
      " [212 346 389]] A.dot(A.T)\n",
      "[[ -52  -96 -110]\n",
      " [  42   34   61]\n",
      " [  48  -42   18]] B.T.dot(A)\n",
      "[[14]] a.T.dot(b)\n",
      "[[14]] b.T.dot(a)\n",
      "[[12  0  6]\n",
      " [28  0 14]\n",
      " [ 4  0  2]] a.dot(b.T)\n",
      "[[-20.8  16.8  19.2]\n",
      " [-38.4  13.6 -16.8]\n",
      " [-44.   24.4   7.2]] (.1*(A+A.T)).dot(B-B.T)\n"
     ]
    }
   ],
   "source": [
    "print(A.dot(B) ,\" A.dot(B) \", B.dot(A),\"B.dot(A)\")\n",
    "print(A.dot(A.T),\"A.dot(A.T)\")\n",
    "print(B.T.dot(A),\"B.T.dot(A)\")\n",
    "print(a.T.dot(b),\"a.T.dot(b)\")\n",
    "print(b.T.dot(a),'b.T.dot(a)')\n",
    "print(a.dot(b.T),'a.dot(b.T)')\n",
    "print((.1*(A+A.T)).dot(B-B.T), '(.1*(A+A.T)).dot(B-B.T)')"
   ]
  },
  {
   "cell_type": "markdown",
   "metadata": {},
   "source": [
    "4) According to the [Pew Research Center](http://www.pewsocialtrends.org/2015/12/09/the-american-middle-class-is-losing-ground/), America in 1970 was 10% lower, 62% middle, and 28% upper class. Create a simple Markov process to model the decades from 1970 to 2070, using the following estimates that per decade... \n",
    "* Lower class has a 5% chance of becoming middle class, 1% of upper class\n",
    "* Middle class has a 10% chance of lower class, and a 5% chance upper class\n",
    "* Upper class: 5% chance become lower class, 10% become middle class"
   ]
  },
  {
   "cell_type": "code",
   "execution_count": 137,
   "metadata": {
    "collapsed": true
   },
   "outputs": [],
   "source": [
    "#set up transition matrix\n",
    "#multiply transition matrix by current state \n",
    "#iterate through (10 times) until you get to 2070\n",
    "transition_matrix =np.array([[.94,.05,.01], #first row is the lower class probability of transition to lower , middle high\n",
    "                            [.1,.85,.05], #second row is the middle class probability of transition to lower, middle, high\n",
    "                            [.05,.1,.85]]) #third row is upper class probability of transition to lower, middle, high\n",
    "\n",
    "current_state = np.array([[.10],\n",
    "                         [.62],\n",
    "                         [.28]])\n"
   ]
  },
  {
   "cell_type": "code",
   "execution_count": 138,
   "metadata": {
    "collapsed": false
   },
   "outputs": [
    {
     "name": "stdout",
     "output_type": "stream",
     "text": [
      "[ 1.]\n"
     ]
    },
    {
     "data": {
      "text/plain": [
       "array([ 0.9838])"
      ]
     },
     "execution_count": 138,
     "metadata": {},
     "output_type": "execute_result"
    }
   ],
   "source": [
    "print(sum(current_state))\n",
    "\n",
    "sum(transition_matrix.dot(current_state))"
   ]
  },
  {
   "cell_type": "code",
   "execution_count": 140,
   "metadata": {
    "collapsed": false
   },
   "outputs": [
    {
     "name": "stdout",
     "output_type": "stream",
     "text": [
      "In  1 decades, we have:\n",
      "[[ 0.17]\n",
      " [ 0.56]\n",
      " [ 0.27]] proportion of Low, Middle, High\n",
      "In  2 decades, we have:\n",
      "[[ 0.2293]\n",
      " [ 0.5115]\n",
      " [ 0.2592]] proportion of Low, Middle, High\n",
      "In  3 decades, we have:\n",
      "[[ 0.279652]\n",
      " [ 0.47216 ]\n",
      " [ 0.248188]] proportion of Low, Middle, High\n",
      "In  4 decades, we have:\n",
      "[[ 0.32249828]\n",
      " [ 0.4401374 ]\n",
      " [ 0.23736432]] proportion of Low, Middle, High\n",
      "In  5 decades, we have:\n",
      "[[ 0.35903034]\n",
      " [ 0.41397814]\n",
      " [ 0.22699152]] proportion of Low, Middle, High\n",
      "In  6 decades, we have:\n",
      "[[ 0.39023591]\n",
      " [ 0.39253209]\n",
      " [ 0.21723201]] proportion of Low, Middle, High\n",
      "In  7 decades, we have:\n",
      "[[ 0.41693656]\n",
      " [ 0.37488727]\n",
      " [ 0.20817617]] proportion of Low, Middle, High\n",
      "In  8 decades, we have:\n",
      "[[ 0.4398179 ]\n",
      " [ 0.36031862]\n",
      " [ 0.19986347]] proportion of Low, Middle, High\n",
      "In  9 decades, we have:\n",
      "[[ 0.45945387]\n",
      " [ 0.34824807]\n",
      " [ 0.19229806]] proportion of Low, Middle, High\n",
      "In  10 decades, we have:\n",
      "[[ 0.47632634]\n",
      " [ 0.33821336]\n",
      " [ 0.18546029]] proportion of Low, Middle, High\n"
     ]
    }
   ],
   "source": [
    "\n",
    "\n",
    "for i in range(1, 11):\n",
    "    print('In ', i, 'decades, we have:')\n",
    "    print(np.linalg.matrix_power(transition_matrix.T,i).dot(current_state),\"proportion of Low, Middle, High\")\n",
    "    \n",
    "    #print(sum(np.linalg.matrix_power(transition_matrix.T,i).dot(current_state)))\n"
   ]
  },
  {
   "cell_type": "code",
   "execution_count": 121,
   "metadata": {
    "collapsed": false
   },
   "outputs": [],
   "source": [
    "#class_transition(transition_matrix,current_state,10)"
   ]
  },
  {
   "cell_type": "code",
   "execution_count": null,
   "metadata": {
    "collapsed": true
   },
   "outputs": [],
   "source": []
  }
 ],
 "metadata": {
  "anaconda-cloud": {},
  "kernelspec": {
   "display_name": "Python [Root]",
   "language": "python",
   "name": "Python [Root]"
  },
  "language_info": {
   "codemirror_mode": {
    "name": "ipython",
    "version": 3
   },
   "file_extension": ".py",
   "mimetype": "text/x-python",
   "name": "python",
   "nbconvert_exporter": "python",
   "pygments_lexer": "ipython3",
   "version": "3.5.2"
  }
 },
 "nbformat": 4,
 "nbformat_minor": 0
}
