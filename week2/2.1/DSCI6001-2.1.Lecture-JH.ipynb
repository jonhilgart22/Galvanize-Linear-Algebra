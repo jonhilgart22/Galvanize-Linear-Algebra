{
 "cells": [
  {
   "cell_type": "markdown",
   "metadata": {},
   "source": [
    "# DSCI 6001 - 2.1: Vector Spaces, Linear Transforms, and Translations\n",
    "\n",
    "#### By the End of This Lecture, You Will Be Able To:\n",
    "1. Write down the formal definition of a vector space. \n",
    "2. Describe the mathematical laws of a vector space\n",
    "3. Describe what a subspace of a vector space is\n",
    "4. Write down the definition of a linear transformation\n",
    "5. Use a matrix to peform a linear transformation in any number of dimensions"
   ]
  },
  {
   "cell_type": "markdown",
   "metadata": {},
   "source": [
    "## Vector Spaces, Continued\n",
    "\n",
    "A _vector space_ is a nonempty set $V$ of objects, called vectors, on which are defined two operations, called _addition_ and _multiplication by scalars_, subject to ten axioms (or rules) listed below. These axioms must hold for all vectors $\\bf x$, $\\bf y$ and $\\bf z$ in $V$ and for all scalars $a$ and $b$\n",
    "\n",
    "   1. Closure under addition:  \n",
    "       $$\\text{If }{\\bf x},{\\bf y} \\in V, \\text{ then } {\\bf x} + {\\bf y} \\in V$$\n",
    "\n",
    "   2. Commutativity of vector addition:\n",
    "       $${\\bf x}+{\\bf y} = {\\bf y} + {\\bf x}$$\n",
    "\n",
    "   3. Associativity of vector addition:\n",
    "       $${\\bf x}+({\\bf y}+{\\bf z})=({\\bf x}+{\\bf y})+{\\bf z}$$\n",
    "       \n",
    "   4. Additive identity\n",
    "       $${\\bf 0}+{\\bf x} = {\\bf x} + {\\bf 0} = {\\bf x}$$\n",
    "       \n",
    "   5. Existence of additive inverse\n",
    "       $${\\bf x} + (- {\\bf x}) = {\\bf 0}$$\n",
    "       \n",
    "   6. Closure under scalar multiplication\n",
    "       $$\\text{for any scalar }a \\text{ and } {\\bf x}\\in V, a{\\bf x}\\in V$$ \n",
    "       \n",
    "   5. Associativity of scalar multiplication\n",
    "       $$a(b {\\bf x})=(ab){\\bf x}$$\n",
    "\n",
    "   6. Distributivity of scalar sums\n",
    "       $$(a+b){\\bf x} = a{\\bf x} + b {\\bf x}$$\n",
    "\n",
    "   7. Distributivity of vector sums\n",
    "       $$a({\\bf x} + {\\bf y})=a{\\bf x}+a {\\bf y}$$\n",
    "\n",
    "   8. Scalar multiplication identity\n",
    "       $$1 {\\bf x} = {\\bf x}$$\n",
    "\n",
    "Thus, the set $V$, taken with the vector algebra defined above, is called a vector space."
   ]
  },
  {
   "cell_type": "markdown",
   "metadata": {},
   "source": [
    "#### QUIZ:\n",
    "\n",
    "Suppose we have three vectors $a$, $b$, and $c$, all members of the same vector space $V$. Can we write $a+(b+c) = (b+a)-(-c)$?"
   ]
  },
  {
   "cell_type": "code",
   "execution_count": 1,
   "metadata": {
    "collapsed": true
   },
   "outputs": [],
   "source": [
    "#Yes"
   ]
  },
  {
   "cell_type": "markdown",
   "metadata": {},
   "source": [
    "### Examples of vector spaces\n",
    "\n",
    "1. The most common example of a vector space is the $n$-dimensional Euclidean space $R^n$, where every element (or vector) is represented by a set of $n$ real numbers. The scalars belong to real numbers, $R$. Vector addition is componentwise, and scalar multiplication multiplies each term individually (recall _axpy_ operations on vectors). \n",
    "$$\\\\$$\n",
    "\n",
    "2. The above example for $R^n$ is also applicable when the scalars belong to the set of complex numbers $C$ i.e. numbers of the form $z=x+iy$.\n",
    "$$\\\\$$\n",
    "\n",
    "3. For $n>0$, the set $P_n$ of polynomials of degree at most $n$ consists of all polynomials of the form\n",
    "\n",
    "    $$f(t) = a_0 + a_1 t + a_2 t^2 + \\cdots + a_n t^n$$\n",
    "    \n",
    "    where coefficients $a_i$'s and variable $t$ are real numbers. It is easy to verify that $P_n$ forms a vector space. The sum of two polynomials \n",
    "    \n",
    "    $$f(t) + g(t) = (a_0 + b_0) + (a_1 + b_1) t + \\cdots + (a_n + b_n) t^n$$\n",
    "    \n",
    "    is also in $P_n$. The scalar multiple $cf$ is the polynomial defined by\n",
    "    \n",
    "    $$c f(t) = (c a_0) + (c a_1) t + \\cdots + (c a_n) t^n$$\n",
    "    \n",
    "    These definitions satisfy axioms 1 and 6 because $f + g$ and $cf$ are polynomials of degree less than of equal to $n$. Axioms 2,3, and 7-10 follow from the properties of the real numbers. The zero polynomial (where all coefficients are zero) acts as zero vector, and $(-1)f$ acts as the negative of $f$, so axioms 4 and 5 are also satistied.\n",
    "    "
   ]
  },
  {
   "cell_type": "markdown",
   "metadata": {},
   "source": [
    "#### QUIZ:  \n",
    "\n",
    "Is ${0}$ a vector space?"
   ]
  },
  {
   "cell_type": "code",
   "execution_count": null,
   "metadata": {
    "collapsed": true
   },
   "outputs": [],
   "source": [
    "#Yes"
   ]
  },
  {
   "cell_type": "markdown",
   "metadata": {},
   "source": [
    "### Subspace of a vector space\n",
    "\n",
    "A subspace of a vector space $V$ is a subset $W$ of $V$ that has three properties:\n",
    "\n",
    "(a) The zero vector of $V$ is in $W$.\n",
    "\n",
    "(b) Closure under addition: $\\text{If }{\\bf x},{\\bf y} \\in W, \\text{ then } {\\bf x} + {\\bf y} \\in W$\n",
    "\n",
    "(c) Closure under scalar multiplication: $\\text{for any scalar }a \\text{ and } {\\bf x}\\in W, a{\\bf x}\\in W$\n",
    "\n",
    "These properties guarantee that the subspace $W$ of $V$ is itself a vector space, under vector space operations already defined in $V$. To verify this, note that properties (a), (b) and (c) are axioms 4, 1, and 6. Axioms 2, 3 and 7-10 are automatically true in $W$ because they apply to all elements of $V$, including those in $W$. Axiom 5 is also true in $W$ becuase if $\\bf x$ is in $W$, then $(-1){\\bf x}$ is in $W$ by property (c)."
   ]
  },
  {
   "cell_type": "markdown",
   "metadata": {},
   "source": [
    "#### Example\n",
    "Conider the following set of vectors\n",
    "\n",
    "$$W = \\left \\{ \\begin{bmatrix}s \\\\ t \\\\ 0\\end{bmatrix} : s, t \\in R \\right\\}$$\n",
    "\n",
    "The vectors in $W$ lie in plane in $R^3$ which passes throught the origin. Thus $W$ is a subset of $R^3$, which includes the zero vector. Also, $W$ is closed under vector addition and scalar multiplication because these operations on vectors in $W$ always produce vectors whose third entries are zeor (and so belong to $W$). Thus $W$ is a subspace of $R^3$.\n",
    "\n",
    "Note that if we require $s,t \\ge 0$, then $W$ is no longer a subspace, becuase in that case it is not closed scalar multiplication. Even though it is still a subset of $R^3$, its not a subspace!"
   ]
  },
  {
   "cell_type": "markdown",
   "metadata": {},
   "source": [
    "#### QUIZ:\n",
    "\n",
    "Why might we be interested in subspaces?"
   ]
  },
  {
   "cell_type": "markdown",
   "metadata": {},
   "source": [
    "### Span of a set\n",
    "\n",
    "If $W = \\{{\\bf w}_1, {\\bf w}_2, \\cdots, {\\bf w}_m\\}$ is a non-empty set of vectors in a vector space $V$, then the _span_ of this set is defined to be the set of all linear combinations of the form\n",
    "\n",
    "$$c_1 {\\bf w}_1 + c_2 {\\bf w}_2 + \\cdots + c_m {\\bf w}_m$$\n",
    "\n",
    "where $c_1, c_2, \\cdots, c_m$ are any real numbers.\n",
    "\n",
    "It is permitted that a different combination of ${\\bf w}$'s could give the same vector $\\bf v$ in $V$. The $c$'s need not be unique."
   ]
  },
  {
   "cell_type": "markdown",
   "metadata": {},
   "source": [
    "#### Example\n",
    "\n",
    "The vectors ${\\bf w}_1 = \\begin{bmatrix}1 \\\\ 0 \\\\ 0\\end{bmatrix}$, ${\\bf w}_2 = \\begin{bmatrix}0 \\\\ 1 \\\\ 0\\end{bmatrix}$, and ${\\bf w}_3 = \\begin{bmatrix}-2 \\\\ 0 \\\\ 0\\end{bmatrix}$ span a plane (the $xy$ plane) in $R^3$. This means that any linear combination of $\\bf w$'s lies in the $xy$ plane. The first two vectors also span this plane, where as ${\\bf w}_1$ and ${\\bf w}_3$ do not span the plane."
   ]
  },
  {
   "cell_type": "markdown",
   "metadata": {},
   "source": [
    "### Spanning sets, Basis and Dimension\n",
    "\n",
    "If each vector in the vector space $V$ can be expressed as a linear combination of the vectors in some set $W$, then $W$ is said to be a __spanning set__, or __generating set__, of $V$. If all linear combinations of the elements of set $W$ are also in $V$, the vector space is the space _generated_ by $W$ and is denoted by $V(W)$ or $span(W)$\n",
    "\n",
    "If a set of linearly independent vectors $B = \\{{\\bf b}_1, {\\bf b}_2, .... {\\bf b}_n\\}$ span $V$ then the set $B$ is said to be a __basis set__, or __basis vectors__, or simply __basis__, for the space. Thus, any vector $\\bf v$ in $V$ can be expressed as a linear combination of the elements of $B$. \n",
    "\n",
    "The number of vectors in the basis set, or _cardinality_ of the basis set, is called the __dimension__ of the vector space, and denoted as $dim\\ V$."
   ]
  },
  {
   "cell_type": "markdown",
   "metadata": {},
   "source": [
    "#### Examples\n",
    "\n",
    "Basis sets play an important role in wide ranging applications. Here are some examples of basis sets -\n",
    "\n",
    "1. The set of unit vectors $B=\\{{\\bf v}_1,{\\bf v}_2,{\\bf v}_3\\}, {\\bf v}_1=\\begin{bmatrix}1 \\\\ 0 \\\\ 0\\end{bmatrix}, {\\bf v}_2=\\begin{bmatrix}0 \\\\ 1 \\\\ 0\\end{bmatrix}, {\\bf v}_3=\\begin{bmatrix}0 \\\\ 0 \\\\ 1\\end{bmatrix}$, is a **basis** for $R^3$. Because the cardinality of the $B$ is 3, the dimension of the vector space spanned by $V$ (which in this case is $R^3$) is 3. \n",
    "\n",
    "2. Any periodic function, $f(x)$, can be broken down into a weighted sum of sine and cosine functions (or waves), called the _Fourier Series_ expansion of the function. Here the basis set consists of the sine and cosine waves. Fourier series, and it's discrete time analogue Fourier transform, are used in nearly every scientific field. "
   ]
  },
  {
   "cell_type": "markdown",
   "metadata": {},
   "source": [
    "### Finite and infinite dimension vector spaces\n",
    "\n",
    "We can classify vector spaces into two types based on the dimension of the vector space, $dim \\ V$ - (1) __finite dimensional vector space__, and (2) __infinite dimensional vector space__. If a vector space is spanned by a finite set of vectors, the space is called a _finite dimensional vector space_. If the set of vectors that span a vector space is infinte, then the vector space is said to be of _infinite dimension_."
   ]
  },
  {
   "cell_type": "markdown",
   "metadata": {},
   "source": [
    "#### Examples\n",
    "\n",
    "1. The $n$-dimensional coordinate space $R^n$ is an example of a finite dimensional space. Why? Because the basis set that spans the space has exactly $n$ elements (or unit vectors in the most basic form).\n",
    "2. For the set of polynomials, if the degree of the polynomials is not limited, the dimension of $V$ is _infinite_ (or more precisely _countably infinite_). Why? Because any basis that consists of polynomials up to degree $n$ cannot represent a polynomial of degree $(n+1)$, or greater. Hence we need an infinite dimensional basis to represent a vector space consisting of polynomials when the degree of the polynomials are unrestricted."
   ]
  },
  {
   "cell_type": "markdown",
   "metadata": {},
   "source": [
    "## Linear Transformations\n",
    "\n",
    "A function $f$ is said to be a __Linear Transformation__, or __Linear Map__, from a vector space $V$ to another vector space $W$, if for any two vectors ${\\bf x}$ and ${\\bf y}$ in $V$, and any scalar $a$ in $R$, the following two conditions are satisfied:\n",
    "\n",
    "1. Additivity\n",
    "    $$ f({\\bf x}+{\\bf y}) = f({\\bf x}) + f({\\bf y})$$\n",
    "    $$\\\\$$\n",
    "2. Homogeneity\n",
    "    $$f(a{\\bf x}) = af({\\bf x})$$\n",
    "    $$\\\\$$\n",
    "A linear mapping is denoted as $f:V \\rightarrow W$. The two conditions can be combined, and the condition for a linear mapping can be generalized for a case of $n$ vectors, ${\\bf x}_1, {\\bf x}_2, ..., {\\bf x}_n \\in V$ and $n$ corresponding scalars, $a_1, a_2, ..., a_n \\in R$ as\n",
    "\n",
    "$$ f(a_1 {\\bf x}_1+a_2{\\bf x}_2+...+a_n{\\bf x}_n) = a_1f({\\bf x}_1)+a_2f({\\bf x}_2)+...+a_nf({\\bf x}_n)$$\n",
    "\n",
    "In the special case when the linear map $f$ is such that $V=W$, $f$ is called a __linear operator__.\n",
    "\n",
    "__Note__: Often, the terms _linear map_ and _linear operator_ are used synonymously. "
   ]
  },
  {
   "cell_type": "markdown",
   "metadata": {},
   "source": [
    "#### Examples \n",
    "\n",
    "1. The _identity map_, $f({\\bf x}) = {\\bf x}$, is both a linear map and a linear operator for any vector space. \n",
    "2. The definite integral over an interval $I$ is a linear map from the space of all real-valued integrable functions on $I$ to the set of real numbers $R$."
   ]
  },
  {
   "cell_type": "markdown",
   "metadata": {},
   "source": [
    "### Matrices as linear transformations\n",
    "\n",
    "Perhaps the most important type of linear transforms in linear algebra is a matrix. An $m \\times n$ matrix of real numbers $\\textbf{A}$ represents a linear map $f({\\bf x})=\\textbf{Ax}$ from $R^n \\rightarrow R^m$, for any vector ${\\bf x}$ in vector space $V$. "
   ]
  },
  {
   "cell_type": "markdown",
   "metadata": {},
   "source": [
    "#### Examples \n",
    "\n",
    "1. _Scaling_ in $R^n$ is a linear mapping. For example, any vector ${\\bf v} = \\begin{bmatrix}x \\\\ y\\end{bmatrix}$ in $R^2$ can be scaled by $a_x$ in direction $x$ and $a_y$ in direction $y$ by multiplying with the following scaling matrix:\n",
    "$$ \\textbf{A} = \\begin{bmatrix} a_x & 0 \\\\ 0 & a_y \\end{bmatrix} $$   \n",
    "2. _Rotation_ by an arbitrary angle $\\theta$ is a linear transformation that can be represented by the following matix in $R^2$:\n",
    "$$ \\textbf{A} = \\begin{bmatrix} cos\\theta & -sin\\theta \\\\ sin\\theta & cos\\theta \\end{bmatrix} $$ \n",
    "3. _Projection_ to a lower dimension space can be represented as a linear mapping. For example a projection of vectors in $R^2$ to the $y$ axis can be represented as:\n",
    "$$ \\textbf{A} = \\begin{bmatrix} 0 & 0 \\\\ 0 & 1 \\end{bmatrix} $$ \n",
    "_shearing_ $( \\textbf{A} = \\begin{bmatrix} 1 & m \\\\ 0 & 1 \\end{bmatrix} )$ and  _reflection_ about an axis (About $x$: $\\textbf{A} = \\begin{bmatrix} 1 & 0 \\\\ 0 & -1 \\end{bmatrix} $) are also linear transformations in $R^2$. \n",
    "4. Again, any $m \\times n$ matrix can be treated as linear transformation of vectors. For example, consider the $2 \\times 3$ matrix below:\n",
    "$$ \\textbf{A} = \\begin{bmatrix} 0 & 2 & 1\\\\ 1 & -1 & 2 \\end{bmatrix} $$ \n",
    "\n",
    "This matrix is a linear transformation from $R^3$ to $R^2$ since it transforms any vector ${\\bf v} = \\begin{bmatrix}v_1 \\\\ v_2 \\\\ v_3\\end{bmatrix} \\in R^3$ to a vector ${\\bf w} = \\begin{bmatrix}w_1 \\\\ w_2 \\end{bmatrix} \\in R^2$, where $w_1 = 2v_2 + v_3$ and $w_2 = v_1 - v_2 + 2v_3$. "
   ]
  },
  {
   "cell_type": "code",
   "execution_count": 2,
   "metadata": {
    "collapsed": false
   },
   "outputs": [
    {
     "data": {
      "text/plain": [
       "<matplotlib.legend.Legend at 0x10cb4b978>"
      ]
     },
     "execution_count": 2,
     "metadata": {},
     "output_type": "execute_result"
    },
    {
     "data": {
      "image/png": "[encoded data removed]",
      "text/plain": [
       "<matplotlib.figure.Figure at 0x104081ba8>"
      ]
     },
     "metadata": {},
     "output_type": "display_data"
    }
   ],
   "source": [
    "''' Examples of linear transforms - Rotation '''\n",
    "%matplotlib inline\n",
    "import matplotlib.pyplot as plt\n",
    "import numpy as np\n",
    "\n",
    "# Set of points/vectors. Each vector v = [x[0],y[1]], [x[1],y[1]] ...\n",
    "x = np.array([0,2,2,0]);\n",
    "y = np.array([0,0,1,1]);\n",
    "\n",
    "# Plot the inital set of points\n",
    "plt.figure();\n",
    "#plt.plot(np.hstack((x,x[0])),np.hstack((y,y[0])),color='red',marker='o', linestyle='-',label='Original')\n",
    "plt.plot(np.hstack((x,x[0])),np.hstack((y,y[0])),'ro-',label='Original');\n",
    "plt.hold(\"on\")\n",
    "plt.xlim([-5,5]);plt.ylim([-5,5]);\n",
    "\n",
    "\n",
    "''' Rotation by an angle theta = 45 deg'''\n",
    "theta = np.pi/4;    # 45-degree\n",
    "\n",
    "# Create the rotation (linear transform) matrix\n",
    "A = np.array([[np.cos(theta), -np.sin(theta)],[np.sin(theta), np.cos(theta)]]);\n",
    "\n",
    "# Stack [x,y] into v and apply the transform: r = Av\n",
    "r = np.dot(A,np.vstack((x,y)))\n",
    "\n",
    "# Extract [x,y] from rotated (stacked) vector r\n",
    "x_r = r[0,:]\n",
    "y_r = r[1,:]\n",
    "\n",
    "leg_str = 'Rotated ' + str(theta*180/np.pi) + '$^o$';\n",
    "plt.plot(np.hstack((x_r,x_r[0])),np.hstack((y_r,y_r[0])),'bo-',label=leg_str)\n",
    "plt.legend(loc='upper left')\n",
    "\n",
    "''' Rotation by an angle theta = 90 deg'''\n",
    "theta = np.pi/2;    # 90-degree\n",
    "\n",
    "# Create the rotation (linear transform) matrix\n",
    "A = np.array([[np.cos(theta), -np.sin(theta)],[np.sin(theta), np.cos(theta)]]);\n",
    "\n",
    "# Stack [x,y] into v and apply the transform: r = Av\n",
    "r = np.dot(A,np.vstack((x,y)))\n",
    "\n",
    "# Extract [x,y] from rotated (stacked) vector r\n",
    "x_r = r[0,:]\n",
    "y_r = r[1,:]\n",
    "\n",
    "leg_str = 'Rotated ' + str(theta*180/np.pi) + '$^o$';\n",
    "plt.plot(np.hstack((x_r,x_r[0])),np.hstack((y_r,y_r[0])),'go-',label=leg_str)\n",
    "plt.legend(loc='upper left')\n"
   ]
  },
  {
   "cell_type": "code",
   "execution_count": 3,
   "metadata": {
    "collapsed": false
   },
   "outputs": [
    {
     "data": {
      "text/plain": [
       "<matplotlib.legend.Legend at 0x10d238080>"
      ]
     },
     "execution_count": 3,
     "metadata": {},
     "output_type": "execute_result"
    },
    {
     "data": {
      "image/png": "[encoded data removed]",
      "text/plain": [
       "<matplotlib.figure.Figure at 0x104081e10>"
      ]
     },
     "metadata": {},
     "output_type": "display_data"
    }
   ],
   "source": [
    "''' Examples of linear transforms - Scaling '''\n",
    "%matplotlib inline\n",
    "import matplotlib.pyplot as plt\n",
    "import numpy as np\n",
    "\n",
    "# Set of points/vectors. Each vector v = [x[0],y[1]], [x[1],y[1]] ...\n",
    "x = np.array([0,2,2,0]);\n",
    "y = np.array([0,0,1,1]);\n",
    "\n",
    "# Plot the inital set of points\n",
    "plt.figure();\n",
    "#plt.plot(np.hstack((x,x[0])),np.hstack((y,y[0])),color='red',marker='o', linestyle='-',label='Original')\n",
    "plt.plot(np.hstack((x,x[0])),np.hstack((y,y[0])),'ro-',label='Original');\n",
    "plt.hold(\"on\")\n",
    "plt.xlim([-5,5]);plt.ylim([-5,5]);\n",
    "\n",
    "''' Scaling by 2x in x and y'''\n",
    "\n",
    "# Create the scaling (linear transform) matrix\n",
    "sx = 2;\n",
    "sy = 2;\n",
    "A = np.array([[sx,0],[0,sy]]);\n",
    "\n",
    "# Stack [x,y] into v and apply the transform: r = Av\n",
    "s = np.dot(A,np.vstack((x,y)))\n",
    "\n",
    "# Extract [x,y] from scaled (stacked) vector s\n",
    "x_s = s[0,:]\n",
    "y_s = s[1,:]\n",
    "\n",
    "plt.plot(np.hstack((x_s,x_s[0])),np.hstack((y_s,y_s[0])),'bo-',label='Scaled 2x')\n",
    "plt.legend(loc='upper left')\n"
   ]
  },
  {
   "cell_type": "code",
   "execution_count": 15,
   "metadata": {
    "collapsed": false
   },
   "outputs": [
    {
     "data": {
      "text/plain": [
       "<matplotlib.legend.Legend at 0x9f3e6a0>"
      ]
     },
     "execution_count": 15,
     "metadata": {},
     "output_type": "execute_result"
    },
    {
     "data": {
      "image/png": "[encoded data removed]",
      "text/plain": [
       "<matplotlib.figure.Figure at 0x9f4dbe0>"
      ]
     },
     "metadata": {},
     "output_type": "display_data"
    }
   ],
   "source": [
    "''' Examples of linear transforms - Shearing '''\n",
    "%matplotlib inline\n",
    "import matplotlib.pyplot as plt\n",
    "import numpy as np\n",
    "\n",
    "# Set of points/vectors. Each vector v = [x[0],y[1]], [x[1],y[1]] ...\n",
    "x = np.array([0,2,2,0]);\n",
    "y = np.array([0,0,1,1]);\n",
    "\n",
    "# Plot the inital set of points\n",
    "plt.figure();\n",
    "#plt.plot(np.hstack((x,x[0])),np.hstack((y,y[0])),color='red',marker='o', linestyle='-',label='Original')\n",
    "plt.plot(np.hstack((x,x[0])),np.hstack((y,y[0])),'ro-',label='Original');\n",
    "plt.hold(\"on\")\n",
    "plt.xlim([-5,5]);plt.ylim([-5,5]);\n",
    "\n",
    "''' Shearing in x by a factor of 2'''\n",
    "\n",
    "# Create the shearing (linear transform) matrix\n",
    "m = 2; # x shear factor\n",
    "A = np.array([[1,m],[0,1]]);\n",
    "\n",
    "# Stack [x,y] into v and apply the transform: r = Av\n",
    "s = np.dot(A,np.vstack((x,y)))\n",
    "\n",
    "# Extract [x,y] from sheared (stacked) vector s\n",
    "x_s = s[0,:]\n",
    "y_s = s[1,:]\n",
    "\n",
    "plt.plot(np.hstack((x_s,x_s[0])),np.hstack((y_s,y_s[0])),'go-',label='Shear_x')\n",
    "plt.legend(loc='upper left')"
   ]
  },
  {
   "cell_type": "markdown",
   "metadata": {},
   "source": [
    "#### QUIZ:\n",
    "\n",
    "What would you expect the matrix $ \\textbf{A} = \\begin{bmatrix} sin\\theta & cos\\theta \\\\ cos\\theta & -sin\\theta \\end{bmatrix} $\n",
    "to do when applied as a transformation?"
   ]
  },
  {
   "cell_type": "markdown",
   "metadata": {},
   "source": [
    "## Translations\n",
    "\n",
    "__Translation__ is an operation that moves every point, or vector, by a constant factor in a particular direction. In vector algebra, _translating_ a vector is the same as adding a constant vector to it. The translation of a vector $\\bf v$ by a constant vector $\\bf t$ is represented as:\n",
    "\n",
    "$$ T({\\bf v}) = {\\bf v} + {\\bf t} $$\n",
    "\n",
    "In $R^2$, for example:\n",
    "\n",
    "$$ T({\\bf v}) = \\begin{bmatrix} x' \\\\ y' \\end{bmatrix} = \\begin{bmatrix} x \\\\ y \\end{bmatrix} + \\begin{bmatrix} t_x \\\\ t_y \\end{bmatrix} \\Rightarrow \\begin{bmatrix} x' \\\\ y' \\end{bmatrix} = \\begin{bmatrix} x+t_x \\\\ y+t_y \\end{bmatrix} $$\n",
    "\n",
    "Clearly, translation doesn't obey the additivity and homegeneity properties of linear transforms. Linear transforms combined with translation form an important class of transformations, called __affine transforms__, that are widely used in engineering and graphics applications. "
   ]
  },
  {
   "cell_type": "markdown",
   "metadata": {},
   "source": [
    "### Translation using matrix algebra\n",
    "\n",
    "In order to perform translation using matrix algebra, and to combine it with other linear transforms, we use the _homogeneous coordinate_ representation of vectors. A vector ${\\bf v} = \\begin{bmatrix}x \\\\ y \\end{bmatrix}$ in $R^2$ is represented in homogeneous coordinates as ${\\bf v} = \\begin{bmatrix}x \\\\ y \\\\ 1 \\end{bmatrix}$, which allows us to create a (purely) translation mapping matrix as:\n",
    "\n",
    "$$ \\textbf{T} = \\begin{bmatrix} 1 & 0 & t_x \\\\ 0 & 1 & t_y \\\\ 0 & 0 & 1 \\end{bmatrix}$$\n",
    "\n",
    "### QUIZ: \n",
    "Dot the above matrix with the homogenous representation of ${\\bf v} = \\begin{bmatrix}x \\\\ y \\end{bmatrix}$ to compare with the above translation.\n",
    "\n",
    "To combine a linear transform with the pure translation $\\textbf{T}$, the $2 \\times 2$ matrix starting at the top left corner is replaced by the linear transform.\n",
    "\n",
    "**Any linear transformation can be represented as a transformation matrix.** This can be done by expanding the original (2-d) linear transformation by one row and column and filling (or **padding**) the new transformation matrix with all zeros except for a $1$ in the lower right corner."
   ]
  },
  {
   "cell_type": "code",
   "execution_count": 24,
   "metadata": {
    "collapsed": false
   },
   "outputs": [
    {
     "data": {
      "text/plain": [
       "<matplotlib.legend.Legend at 0xb3c9390>"
      ]
     },
     "execution_count": 24,
     "metadata": {},
     "output_type": "execute_result"
    },
    {
     "data": {
      "image/png": "[encoded data removed]",
      "text/plain": [
       "<matplotlib.figure.Figure at 0xb145400>"
      ]
     },
     "metadata": {},
     "output_type": "display_data"
    }
   ],
   "source": [
    "''' Affine transforms - Translation + linear transforms '''\n",
    "%matplotlib inline\n",
    "import matplotlib.pyplot as plt\n",
    "import numpy as np\n",
    "\n",
    "# Set of points/vectors. Each vector v = [x[0],y[1]], [x[1],y[1]] ...\n",
    "x = np.array([0,2,2,0]);\n",
    "y = np.array([0,0,1,1]);\n",
    "\n",
    "# Plot the inital set of points\n",
    "plt.figure();\n",
    "#plt.plot(np.hstack((x,x[0])),np.hstack((y,y[0])),color='red',marker='o', linestyle='-',label='Original')\n",
    "plt.plot(np.hstack((x,x[0])),np.hstack((y,y[0])),'ro-',label='Original');\n",
    "plt.hold(\"on\")\n",
    "plt.xlim([-6,6]);plt.ylim([-6,6]);\n",
    "\n",
    "''' Scale in x and y by a factor of 2 and translate by 0 in x and 2 in y'''\n",
    "\n",
    "# Create the scaling + translation matrix\n",
    "sx = 2;\n",
    "sy = 2;\n",
    "tx = 0;\n",
    "ty = 2;\n",
    "A = np.array([[sx,0,tx],[0,sy,ty],[0,0,1]]);\n",
    "\n",
    "# Stack [x,y] into v and apply the transform: r = Av\n",
    "s = np.dot(A,np.vstack((x,y,np.ones([1,4]))))\n",
    "\n",
    "# Extract [x,y] from sheared (stacked) vector s\n",
    "x_s = s[0,:]\n",
    "y_s = s[1,:]\n",
    "\n",
    "plt.plot(np.hstack((x_s,x_s[0])),np.hstack((y_s,y_s[0])),'go-',label='Scaled+Translated')\n",
    "plt.legend(loc='lower left')"
   ]
  },
  {
   "cell_type": "markdown",
   "metadata": {},
   "source": [
    "### Assigned Exercises\n",
    "\n",
    "7.9: 2, 5, 7, 11, 15, 19, 23, 25, 29"
   ]
  }
 ],
 "metadata": {
  "anaconda-cloud": {},
  "kernelspec": {
   "display_name": "Python [Root]",
   "language": "python",
   "name": "Python [Root]"
  },
  "language_info": {
   "codemirror_mode": {
    "name": "ipython",
    "version": 3
   },
   "file_extension": ".py",
   "mimetype": "text/x-python",
   "name": "python",
   "nbconvert_exporter": "python",
   "pygments_lexer": "ipython3",
   "version": "3.5.2"
  }
 },
 "nbformat": 4,
 "nbformat_minor": 0
}
