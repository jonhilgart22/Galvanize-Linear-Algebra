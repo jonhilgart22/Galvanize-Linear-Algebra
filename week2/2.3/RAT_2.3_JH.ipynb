{
 "cells": [
  {
   "cell_type": "markdown",
   "metadata": {},
   "source": [
    "1. What are the eigenvalues and eigenvectors of \n",
    "\n",
    "$A = \\begin{bmatrix}.8 & .3\\\\.2 & .7\\end{bmatrix}$\n",
    "\n",
    "Show most of your steps. Make sure to write the characteristic equation."
   ]
  },
  {
   "cell_type": "markdown",
   "metadata": {
    "collapsed": true
   },
   "source": [
    "-Ax = Lambda X\n",
    "\n",
    "-(A-Lambda)x = 0\n",
    "\n",
    "-det((A-Lambda)x) = 0\n",
    "\n",
    "= Characteristic equation \n",
    "[ (.8 - L) , .3\n",
    "    .2  ,      (.7-L)]   = 0\n",
    "    \n",
    "\n",
    "=(.8-L)(.7-L) - .06 = 0 \n",
    "\n",
    "=.56-1.5L + L^2 - .06 = 0\n",
    "\n",
    "= L^2 - 1.5L + . 5  = 0\n",
    "\n",
    "=   ( L  - 1.0 ) ( L - .5)  \n",
    "\n",
    "=  Eigenvalues L = (1.0 , .5)\n",
    "\n",
    "Eigenvalues for L = (1.0) are [1,1.5] and [ 1.5 , 1 ]\n",
    "\n",
    "(.8 - 1.0)x + .3y = 0\n",
    ".2x + (.7-1.0)y = 0\n",
    "\n",
    ".8x-1.0x + .3y = 0\n",
    ".2x + .7y - 1.0 y =0\n",
    "\n",
    "-.2x + .3y = 0  - >   y = 1.5x\n",
    ".2x + -.3y = 0  ->    x = 1.5y\n",
    "\n",
    "choose (1 for x then y = 1.5) \n",
    "choose ( 1 for y then x= 1.5 )\n",
    "\n",
    "\n",
    "=Eigenvalues for L = (.5) \n",
    "Eigenvalues for L = (.5) are [1,-1] and [-1,1]\n",
    "\n",
    "(.8 - .5)x + .3y = 0\n",
    ".2x + (.7-.5)y = 0\n",
    "\n",
    ".3x + .3y = 0\n",
    ".2x + .2y = 0\n",
    "\n",
    "x = -y\n",
    "y = -x\n",
    "\n",
    "choose 1 for x  then y = -1\n",
    "choose 1 for y then x = -1\n",
    "\n"
   ]
  }
 ],
 "metadata": {
  "anaconda-cloud": {},
  "kernelspec": {
   "display_name": "Python [Root]",
   "language": "python",
   "name": "Python [Root]"
  },
  "language_info": {
   "codemirror_mode": {
    "name": "ipython",
    "version": 3
   },
   "file_extension": ".py",
   "mimetype": "text/x-python",
   "name": "python",
   "nbconvert_exporter": "python",
   "pygments_lexer": "ipython3",
   "version": "3.5.2"
  }
 },
 "nbformat": 4,
 "nbformat_minor": 0
}
