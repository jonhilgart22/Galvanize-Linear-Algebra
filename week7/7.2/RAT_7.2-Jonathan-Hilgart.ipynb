{
 "cells": [
  {
   "cell_type": "markdown",
   "metadata": {},
   "source": [
    "# RAT 7.2\n",
    "\n",
    "1) Find and classify all extrema of $f(x,y) = xy+14$ subject to $g(x,y) = x^2+y^2=18$. Use the formal method of lagrange multipliers (form the lagrangian first)."
   ]
  },
  {
   "cell_type": "markdown",
   "metadata": {},
   "source": [
    "2) Write a change of coordinates matrix in $\\mathbb{R}^2$ for a rotation by $\\frac{\\pi}{2}$ radians."
   ]
  },
  {
   "cell_type": "markdown",
   "metadata": {
    "collapsed": true
   },
   "source": [
    "# 1)\n",
    "\n",
    "- Step one find Fx and Fy for the original function.\n",
    "\n",
    "- Fx = y\n",
    "\n",
    "- Fy = x\n",
    "\n",
    "- From our original equation, we can have critical point x=0 and y=0. \n",
    "\n",
    "- Step two. Set the first derivatives of F equal to the Lagrange multipled by the first derivatives of g.\n",
    "\n",
    "- Fx = y  == Gx = $\\lambda$2x\n",
    "\n",
    "- Fy = x == Gy = $\\lambda$2y\n",
    "\n",
    "- y =  $\\lambda$2x\n",
    "\n",
    "- x = $\\lambda$2y\n",
    "\n",
    "- y = $\\lambda*2*\\lambda*2y$ (plug x in for y)\n",
    "\n",
    "- y = $\\lambda^2*4y$\n",
    "\n",
    "- 0 = y($\\lambda^2*4-1)$\n",
    "\n",
    "- OR 0 = x($\\lambda^2*4-1)$ (plug y for x)\n",
    "\n",
    "- Therefore, either y=0, x=0, OR $\\lambda = .5$\n",
    "\n",
    "- If y=0, then plugging this into your constraint, x = $\\sqrt{18}$\n",
    "\n",
    "- If x=0, then pugging this into your constraint, y = $\\sqrt{18}$\n",
    "\n",
    "- If $\\lambda = .5$. then y = x. Plugging this into our constraint $2x^2 = 18$ and $ 2y^2 = 18, x = 3 , y = 3$. \n",
    "\n"
   ]
  },
  {
   "cell_type": "markdown",
   "metadata": {},
   "source": [
    "### Critical Points to test\n",
    "- 1) y = 0 , x = $\\sqrt{18}$\n",
    "- 2) x=0, y = $\\sqrt{18}$\n",
    "- 3) x = 3, y = 3 .\n",
    "- 4) x= 0 , y= 0\n",
    "\n",
    "- Plug these back into your function.\n",
    "\n",
    "- F($\\sqrt{18}$, 0) = 14\n",
    "- F(0,$\\sqrt{18}$) = 14\n",
    "- F(3,3) = 23 **Max**\n",
    "- F (0,0) = 14"
   ]
  },
  {
   "cell_type": "markdown",
   "metadata": {},
   "source": [
    "# 2) Write a change of coordinates matrix in $\\mathbb{R}^2$ for a rotation by $\\frac{\\pi}{2}$ radians."
   ]
  },
  {
   "cell_type": "markdown",
   "metadata": {},
   "source": [
    "- This matrix should look like \n",
    "\n",
    "[cos($\\frac{\\pi}{2}$ ) , -sin($\\frac{\\pi}{2}$ )]\n",
    "\n",
    "[sin($\\frac{\\pi}{2}$ ), cos($\\frac{\\pi}{2}$ )]"
   ]
  },
  {
   "cell_type": "code",
   "execution_count": null,
   "metadata": {
    "collapsed": true
   },
   "outputs": [],
   "source": []
  }
 ],
 "metadata": {
  "kernelspec": {
   "display_name": "Python [Root]",
   "language": "python",
   "name": "Python [Root]"
  },
  "language_info": {
   "codemirror_mode": {
    "name": "ipython",
    "version": 3
   },
   "file_extension": ".py",
   "mimetype": "text/x-python",
   "name": "python",
   "nbconvert_exporter": "python",
   "pygments_lexer": "ipython3",
   "version": "3.5.2"
  }
 },
 "nbformat": 4,
 "nbformat_minor": 0
}
