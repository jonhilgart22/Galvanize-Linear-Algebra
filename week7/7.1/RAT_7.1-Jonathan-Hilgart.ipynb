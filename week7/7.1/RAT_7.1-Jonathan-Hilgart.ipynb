{
 "cells": [
  {
   "cell_type": "markdown",
   "metadata": {},
   "source": [
    "# RAT 7.1\n",
    "\n",
    "\n",
    "1) Write the change of basis matrix M from the standard basis in $\\mathbb{R}^2$ to the new basis $\\{\\begin{bmatrix}3\\\\1\\end{bmatrix},\\begin{bmatrix}-2\\\\1\\end{bmatrix}\\}$\n",
    "\n",
    "\n",
    "\n",
    "2) Given the two bases\n",
    "$S = \\{\\begin{bmatrix}2\\\\3\\end{bmatrix},\\begin{bmatrix}1\\\\4\\end{bmatrix}\\}$, $T = \\{\\begin{bmatrix}0\\\\2\\end{bmatrix},\\begin{bmatrix}-1\\\\5\\end{bmatrix}\\}$\n",
    "\n",
    "and the vector $v_S = \\begin{bmatrix}-2\\\\6\\end{bmatrix}$\n",
    "\n",
    "calculate $v_T$.\n"
   ]
  },
  {
   "cell_type": "markdown",
   "metadata": {
    "collapsed": true
   },
   "source": [
    "# 1) To solve for the change of basis, create an equation to convert between.\n"
   ]
  },
  {
   "cell_type": "code",
   "execution_count": 66,
   "metadata": {
    "collapsed": false
   },
   "outputs": [
    {
     "data": {
      "text/plain": [
       "array([[-4],\n",
       "       [ 7]])"
      ]
     },
     "execution_count": 66,
     "metadata": {},
     "output_type": "execute_result"
    }
   ],
   "source": [
    "#Pick a point in the basis\n",
    "\n",
    "#Point = (2,5)\n",
    "\n",
    "#Take new basis, multipled by the point\n",
    "\n",
    "\n",
    "import numpy as np\n",
    "new_basis = np.array([[3,-2],\n",
    "                          [1,1]])\n",
    "point = np.array([[2],\n",
    "            [5]])\n",
    "\n",
    "new_basis.dot(point)"
   ]
  },
  {
   "cell_type": "code",
   "execution_count": 7,
   "metadata": {
    "collapsed": false
   },
   "outputs": [],
   "source": [
    "#Therefore, new basis -> new basis is (-4,7)T"
   ]
  },
  {
   "cell_type": "code",
   "execution_count": 8,
   "metadata": {
    "collapsed": false
   },
   "outputs": [],
   "source": [
    "#Next, take standard basis multipled by your point"
   ]
  },
  {
   "cell_type": "code",
   "execution_count": 67,
   "metadata": {
    "collapsed": false
   },
   "outputs": [
    {
     "data": {
      "text/plain": [
       "array([[2],\n",
       "       [5]])"
      ]
     },
     "execution_count": 67,
     "metadata": {},
     "output_type": "execute_result"
    }
   ],
   "source": [
    "standard_basis = np.array([[1,0],\n",
    "                          [0,1]])\n",
    "\n",
    "standard_basis.dot(point)"
   ]
  },
  {
   "cell_type": "code",
   "execution_count": 10,
   "metadata": {
    "collapsed": true
   },
   "outputs": [],
   "source": [
    "#Standard basis -> point is (2,3)T\n",
    "\n",
    "# Next take your basis change matrix, multipled by the new basis and set equal to your standard basis"
   ]
  },
  {
   "cell_type": "code",
   "execution_count": 11,
   "metadata": {
    "collapsed": true
   },
   "outputs": [],
   "source": [
    "# Our equation is, change of basis matrix .dot ( -4,7).T = (2,5).T"
   ]
  },
  {
   "cell_type": "code",
   "execution_count": 74,
   "metadata": {
    "collapsed": false
   },
   "outputs": [],
   "source": [
    "original_basis_vector = np.array([[-4],\n",
    "                                 [7]])\n",
    "new_basis_vector = np.array([[2],\n",
    "                            [5]])\n"
   ]
  },
  {
   "cell_type": "code",
   "execution_count": 75,
   "metadata": {
    "collapsed": false
   },
   "outputs": [
    {
     "data": {
      "text/plain": [
       "array([[ -8, -20],\n",
       "       [ 14,  35]])"
      ]
     },
     "execution_count": 75,
     "metadata": {},
     "output_type": "execute_result"
    }
   ],
   "source": [
    "original_basis_vector.dot(new_basis_vector.T)"
   ]
  },
  {
   "cell_type": "code",
   "execution_count": 78,
   "metadata": {
    "collapsed": false
   },
   "outputs": [
    {
     "data": {
      "text/plain": [
       "array([[ -8,  14],\n",
       "       [-20,  35]])"
      ]
     },
     "execution_count": 78,
     "metadata": {},
     "output_type": "execute_result"
    }
   ],
   "source": [
    "change_of_basis_matrix = (new_basis_vector).dot(original_basis_vector.T)\n",
    "change_of_basis_matrix"
   ]
  },
  {
   "cell_type": "code",
   "execution_count": 92,
   "metadata": {
    "collapsed": false
   },
   "outputs": [
    {
     "data": {
      "text/plain": [
       "array([[ 2.],\n",
       "       [ 5.]])"
      ]
     },
     "execution_count": 92,
     "metadata": {},
     "output_type": "execute_result"
    }
   ],
   "source": [
    "change_of_basis_matrix.dot(original_basis_vector)/65"
   ]
  },
  {
   "cell_type": "markdown",
   "metadata": {},
   "source": [
    "# Our change of basis change matrix is [-8,-20] .T  [14,35].T"
   ]
  },
  {
   "cell_type": "code",
   "execution_count": 83,
   "metadata": {
    "collapsed": false
   },
   "outputs": [
    {
     "data": {
      "text/plain": [
       "5.0"
      ]
     },
     "execution_count": 83,
     "metadata": {},
     "output_type": "execute_result"
    }
   ],
   "source": []
  },
  {
   "cell_type": "markdown",
   "metadata": {},
   "source": [
    "2) Given the two bases\n",
    "$S = \\{\\begin{bmatrix}2\\\\3\\end{bmatrix},\\begin{bmatrix}1\\\\4\\end{bmatrix}\\}$, $T = \\{\\begin{bmatrix}0\\\\2\\end{bmatrix},\\begin{bmatrix}-1\\\\5\\end{bmatrix}\\}$\n",
    "\n",
    "and the vector $v_S = \\begin{bmatrix}-2\\\\6\\end{bmatrix}$\n",
    "\n",
    "calculate $v_T$.\n"
   ]
  },
  {
   "cell_type": "code",
   "execution_count": 61,
   "metadata": {
    "collapsed": false
   },
   "outputs": [],
   "source": [
    "s = np.array([[2,1],\n",
    "             [3,4]])\n",
    "\n",
    "t= np.array([[0,-1],\n",
    "            [2,5]])\n",
    "\n",
    "vs = np.array([[-2],\n",
    "               [6]])"
   ]
  },
  {
   "cell_type": "code",
   "execution_count": 62,
   "metadata": {
    "collapsed": false
   },
   "outputs": [
    {
     "data": {
      "text/plain": [
       "array([[ 2],\n",
       "       [18]])"
      ]
     },
     "execution_count": 62,
     "metadata": {},
     "output_type": "execute_result"
    }
   ],
   "source": [
    "s.dot(vs)"
   ]
  },
  {
   "cell_type": "code",
   "execution_count": 63,
   "metadata": {
    "collapsed": false
   },
   "outputs": [
    {
     "data": {
      "text/plain": [
       "array([[ 14.],\n",
       "       [ -2.]])"
      ]
     },
     "execution_count": 63,
     "metadata": {},
     "output_type": "execute_result"
    }
   ],
   "source": [
    "np.linalg.solve(t,s.dot(vs))"
   ]
  },
  {
   "cell_type": "markdown",
   "metadata": {},
   "source": [
    "# Vt = [14,-2].T"
   ]
  },
  {
   "cell_type": "code",
   "execution_count": null,
   "metadata": {
    "collapsed": true
   },
   "outputs": [],
   "source": []
  }
 ],
 "metadata": {
  "kernelspec": {
   "display_name": "Python [Root]",
   "language": "python",
   "name": "Python [Root]"
  },
  "language_info": {
   "codemirror_mode": {
    "name": "ipython",
    "version": 3
   },
   "file_extension": ".py",
   "mimetype": "text/x-python",
   "name": "python",
   "nbconvert_exporter": "python",
   "pygments_lexer": "ipython3",
   "version": "3.5.2"
  }
 },
 "nbformat": 4,
 "nbformat_minor": 0
}
