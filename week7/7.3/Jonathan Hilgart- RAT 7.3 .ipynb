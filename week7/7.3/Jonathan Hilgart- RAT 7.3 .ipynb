{
 "cells": [
  {
   "cell_type": "markdown",
   "metadata": {},
   "source": [
    "$x = r * sin(\\theta)*cos(\\phi)$\n",
    "\n",
    "$y = r * sin(\\theta)*sin(\\phi)$\n",
    "\n",
    "$z = r*cos(\\theta)$"
   ]
  },
  {
   "cell_type": "markdown",
   "metadata": {},
   "source": [
    "### The Del of F is"
   ]
  },
  {
   "cell_type": "markdown",
   "metadata": {},
   "source": [
    "- 1 ) partial derivative of x\n",
    "\n",
    "$= sin(\\theta)*cos(\\phi) + r*cos(\\theta)*cos(\\phi) - r*sin(\\theta)*sin(\\phi)$"
   ]
  },
  {
   "cell_type": "markdown",
   "metadata": {},
   "source": [
    "- 2) The partial derivative of y\n",
    "\n",
    "= $sin(\\theta)*sin(\\phi) + r*cos(\\theta)*sin(\\phi) + r*sin(\\theta)*cos(\\phi)$"
   ]
  },
  {
   "cell_type": "markdown",
   "metadata": {},
   "source": [
    "- 3) The partial derivative of z\n",
    "\n",
    "= $cos(\\theta) - r*sin(\\theta)$"
   ]
  },
  {
   "cell_type": "markdown",
   "metadata": {},
   "source": [
    "Next , add these together multiplied by the unit vector."
   ]
  },
  {
   "cell_type": "code",
   "execution_count": null,
   "metadata": {
    "collapsed": true
   },
   "outputs": [],
   "source": []
  }
 ],
 "metadata": {
  "anaconda-cloud": {},
  "kernelspec": {
   "display_name": "Python [Root]",
   "language": "python",
   "name": "Python [Root]"
  },
  "language_info": {
   "codemirror_mode": {
    "name": "ipython",
    "version": 3
   },
   "file_extension": ".py",
   "mimetype": "text/x-python",
   "name": "python",
   "nbconvert_exporter": "python",
   "pygments_lexer": "ipython3",
   "version": "3.5.2"
  }
 },
 "nbformat": 4,
 "nbformat_minor": 0
}
