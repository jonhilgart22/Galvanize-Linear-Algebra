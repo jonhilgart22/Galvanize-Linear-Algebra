{
 "cells": [
  {
   "cell_type": "markdown",
   "metadata": {},
   "source": [
    "# RAT 4.2\n",
    "\n",
    "\n",
    "1) Compute the dot product of $\\vec{u} = \\begin{bmatrix}-1 \\\\ 0 \\\\ -2 \\\\ 1\\end{bmatrix}$ and $\\vec{v} = \\begin{bmatrix}3 \\\\ 1 \\\\ -2 \\\\ 4\\end{bmatrix}$. Show your work."
   ]
  },
  {
   "cell_type": "markdown",
   "metadata": {},
   "source": [
    "To take the dot product of two vectors, you multiply each element in their respective positions (1,2,3 ..etc) and add the results together.\n",
    "\n",
    "= $(-1*3) +(0*1) + (-2 * -2) + (1*4) $\n",
    "\n",
    "= $(-3) + 0 + 4 + 4$\n",
    "\n",
    "= **5**"
   ]
  },
  {
   "cell_type": "markdown",
   "metadata": {},
   "source": [
    "2) Find the projection of $\\vec{u}$ onto $\\vec{v}$."
   ]
  },
  {
   "cell_type": "markdown",
   "metadata": {},
   "source": [
    "Formula for the magnitude and direction of a projection is $ ( u * v ) / norm(v)^2 * v $\n",
    "\n",
    "= $(5) / (sqrt(3^2 +1^2 + -2^2 + 4^2) ^2 * b$\n",
    "\n",
    "= $(5) / (9 + 1 + 4 + 16) * b$\n",
    "\n",
    "= $5/ 30 * b$\n",
    "\n",
    "=$ 1/6 *b$\n",
    "\n",
    "=[3/6 , 1/6, -2/6, 4/6 ] \n",
    "\n",
    "=**[1/2, 1/6, -1/3, 2/3] are the projections of u on v.**\n"
   ]
  },
  {
   "cell_type": "markdown",
   "metadata": {},
   "source": [
    "3) Compute the cross product of $\\vec{a} = \\begin{bmatrix}4 \\\\ 1 \\\\ -1\\end{bmatrix}$ and $\\vec{b} = \\begin{bmatrix}-2 \\\\ 1 \\\\ -2 \\end{bmatrix}$. Show your work."
   ]
  },
  {
   "cell_type": "markdown",
   "metadata": {
    "collapsed": true
   },
   "source": [
    "The cross product uses the following formula.\n",
    "\n",
    "det\n",
    "$\\ = \\begin{bmatrix}e1 \\ e2 \\ e3 \\\\ a1 \\ a2 \\ a3  \\\\ b1 \\ b2 \\ b3  \\end{bmatrix}$\n",
    "\n",
    "Where e1, e2, e3 are basis vectors.\n",
    "\n",
    "det\n",
    "$\\ = \\begin{bmatrix}e1 \\ e2 \\ e3 \\\\ 4 \\ 1 \\ -1  \\\\ -2 \\ 1 \\ -2  \\end{bmatrix}$"
   ]
  },
  {
   "cell_type": "markdown",
   "metadata": {},
   "source": [
    "Therefore,\n",
    "\n",
    "=$ [1,0,0] * [(1 * -1) - (-1 * 1)] -    [0,1,0]  *[(4*-2) - (-1*-2)] + [0,0,1] * [(4*1) - (1 * -2)]$\n",
    "\n",
    "\n",
    "=$[1,0,0] * [(-1) +1)]    -  [0,1,0] * [(-8)-(2)]    +  [0,0,1] * [(4 + 2)]$\n",
    "\n",
    "=$[1,0,0]*(0)   -  [0,1,0] * [-10]   + [0,0,1] * [(6)]$\n",
    "\n",
    "=$ 0   - [0,-10,0]  + [0,0,6] $\n",
    "\n",
    "= [0,10,0] + [0,0,6]\n",
    "\n",
    "=[0,10,6]\n",
    "\n"
   ]
  },
  {
   "cell_type": "code",
   "execution_count": null,
   "metadata": {
    "collapsed": true
   },
   "outputs": [],
   "source": []
  }
 ],
 "metadata": {
  "anaconda-cloud": {},
  "kernelspec": {
   "display_name": "Python [Root]",
   "language": "python",
   "name": "Python [Root]"
  },
  "language_info": {
   "codemirror_mode": {
    "name": "ipython",
    "version": 3
   },
   "file_extension": ".py",
   "mimetype": "text/x-python",
   "name": "python",
   "nbconvert_exporter": "python",
   "pygments_lexer": "ipython3",
   "version": "3.5.2"
  }
 },
 "nbformat": 4,
 "nbformat_minor": 0
}
