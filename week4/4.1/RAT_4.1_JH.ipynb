{
 "cells": [
  {
   "cell_type": "markdown",
   "metadata": {},
   "source": [
    "# RAT 4.1\n",
    "\n",
    "1. Describe the three component matrices of an SVD.\n",
    "2. What special properties do the three component matrices have?\n",
    "3. Use numpy (not linalg.svd) to calculate a solution to the SVD of $A = \\begin{bmatrix}1 & -1\\\\3 & 1\\end{bmatrix}$. You will need to use linalg.eig."
   ]
  },
  {
   "cell_type": "markdown",
   "metadata": {
    "collapsed": true
   },
   "source": [
    "# Question One\n",
    "\n",
    "The three parts of SVD are** $ U * D * V . T$** = A\n",
    "\n",
    "- U - represents the feature space of the matrix. To find the U matrix, you take $A * A. T$ to preseve the number of rows in the matrix. Next, you find the eigenvalues and eigenvectors for U. Then, you take the eigenvectors to create the matrix U.\n",
    "\n",
    "- D contains the eigenvalues of A along the diagonal of the matrix. Usually, you will normalize these eigenvalues. The rest of the values of the matrix contain zero, but it is important that each eigenvalue goes into the space on the diagonal that corresponds to the eigenvectors in U and V. If you have fewer eigenvalues that\n",
    "\n",
    "- V represents the sample space of the matrix. To find the V matrix, you take $ A.T * A $ which will preseve the number of columns in the matrix. Next, you use the eigenvalues you found for matrix U to find the eigenvectors for your V matrix (using the $ A.T * A $ that was computed). After, you place these eigenvectors together to form matrix V, which you usually normalize, make sure that each eigenvector corresponds to the correct eigenvalue. After, you take the transpose of V for the SVD multiplication."
   ]
  },
  {
   "cell_type": "markdown",
   "metadata": {},
   "source": [
    "# Question Two\n",
    "\n",
    "- U spans the feature space of matrix A\n",
    "\n",
    "- V spans the sample space of matrix A\n",
    "\n",
    "- D contains the eigenvalues of matrix A which tell you the magnitude of your transformation."
   ]
  },
  {
   "cell_type": "code",
   "execution_count": 89,
   "metadata": {
    "collapsed": false
   },
   "outputs": [],
   "source": [
    "import numpy as np\n",
    "A = np.array([[1,-1],\n",
    "             [3,1]])"
   ]
  },
  {
   "cell_type": "code",
   "execution_count": 104,
   "metadata": {
    "collapsed": true
   },
   "outputs": [],
   "source": [
    "U  = A.dot(A.T)"
   ]
  },
  {
   "cell_type": "code",
   "execution_count": 105,
   "metadata": {
    "collapsed": false
   },
   "outputs": [
    {
     "data": {
      "text/plain": [
       "array([[ 2,  2],\n",
       "       [ 2, 10]])"
      ]
     },
     "execution_count": 105,
     "metadata": {},
     "output_type": "execute_result"
    }
   ],
   "source": [
    "U"
   ]
  },
  {
   "cell_type": "code",
   "execution_count": 92,
   "metadata": {
    "collapsed": true
   },
   "outputs": [],
   "source": [
    "V = A.T.dot(A)"
   ]
  },
  {
   "cell_type": "code",
   "execution_count": 106,
   "metadata": {
    "collapsed": false
   },
   "outputs": [
    {
     "data": {
      "text/plain": [
       "array([[-0.97324899, -0.22975292],\n",
       "       [ 0.22975292, -0.97324899]])"
      ]
     },
     "execution_count": 106,
     "metadata": {},
     "output_type": "execute_result"
    }
   ],
   "source": [
    "U = np.linalg.eig(U)[1]\n",
    "U"
   ]
  },
  {
   "cell_type": "code",
   "execution_count": 107,
   "metadata": {
    "collapsed": false
   },
   "outputs": [],
   "source": [
    "U[0][0] , U[1][0] = U[0][1]  , U[1][1].copy()\n"
   ]
  },
  {
   "cell_type": "code",
   "execution_count": 108,
   "metadata": {
    "collapsed": false
   },
   "outputs": [
    {
     "data": {
      "text/plain": [
       "array([[-0.22975292, -0.22975292],\n",
       "       [-0.97324899, -0.97324899]])"
      ]
     },
     "execution_count": 108,
     "metadata": {},
     "output_type": "execute_result"
    }
   ],
   "source": [
    "U"
   ]
  },
  {
   "cell_type": "code",
   "execution_count": 96,
   "metadata": {
    "collapsed": false
   },
   "outputs": [
    {
     "data": {
      "text/plain": [
       "(array([ 10.47213595,   1.52786405]), array([[ 0.97324899, -0.22975292],\n",
       "        [ 0.22975292,  0.97324899]]))"
      ]
     },
     "execution_count": 96,
     "metadata": {},
     "output_type": "execute_result"
    }
   ],
   "source": [
    "np.linalg.eig(V)"
   ]
  },
  {
   "cell_type": "code",
   "execution_count": 97,
   "metadata": {
    "collapsed": false
   },
   "outputs": [],
   "source": [
    "V = np.linalg.eig(V)[1]"
   ]
  },
  {
   "cell_type": "code",
   "execution_count": 98,
   "metadata": {
    "collapsed": false
   },
   "outputs": [],
   "source": [
    "#np.linalg.eigvals(V)[0]\n",
    "D = np.array([[V[0][0],0],\n",
    "             [0,V[1][1]]])"
   ]
  },
  {
   "cell_type": "code",
   "execution_count": 99,
   "metadata": {
    "collapsed": false
   },
   "outputs": [
    {
     "data": {
      "text/plain": [
       "array([[ 0.97324899,  0.        ],\n",
       "       [ 0.        ,  0.97324899]])"
      ]
     },
     "execution_count": 99,
     "metadata": {},
     "output_type": "execute_result"
    }
   ],
   "source": [
    "D"
   ]
  },
  {
   "cell_type": "code",
   "execution_count": 100,
   "metadata": {
    "collapsed": false
   },
   "outputs": [
    {
     "data": {
      "text/plain": [
       "array([[-0.16625078, -0.2689994 ],\n",
       "       [-0.70424958, -1.13949976]])"
      ]
     },
     "execution_count": 100,
     "metadata": {},
     "output_type": "execute_result"
    }
   ],
   "source": [
    "U.dot(D).dot(V.T)"
   ]
  },
  {
   "cell_type": "code",
   "execution_count": null,
   "metadata": {
    "collapsed": true
   },
   "outputs": [],
   "source": []
  },
  {
   "cell_type": "code",
   "execution_count": 103,
   "metadata": {
    "collapsed": false
   },
   "outputs": [
    {
     "data": {
      "text/plain": [
       "(array([[ 0.22975292,  0.97324899],\n",
       "        [ 0.97324899, -0.22975292]]),\n",
       " array([ 10.47213595,   1.52786405]),\n",
       " array([[ 0.22975292,  0.97324899],\n",
       "        [ 0.97324899, -0.22975292]]))"
      ]
     },
     "execution_count": 103,
     "metadata": {},
     "output_type": "execute_result"
    }
   ],
   "source": [
    "np.linalg.svd(A.dot(A.T))"
   ]
  },
  {
   "cell_type": "code",
   "execution_count": null,
   "metadata": {
    "collapsed": true
   },
   "outputs": [],
   "source": []
  }
 ],
 "metadata": {
  "kernelspec": {
   "display_name": "Python [Root]",
   "language": "python",
   "name": "Python [Root]"
  },
  "language_info": {
   "codemirror_mode": {
    "name": "ipython",
    "version": 3
   },
   "file_extension": ".py",
   "mimetype": "text/x-python",
   "name": "python",
   "nbconvert_exporter": "python",
   "pygments_lexer": "ipython3",
   "version": "3.5.2"
  }
 },
 "nbformat": 4,
 "nbformat_minor": 0
}
