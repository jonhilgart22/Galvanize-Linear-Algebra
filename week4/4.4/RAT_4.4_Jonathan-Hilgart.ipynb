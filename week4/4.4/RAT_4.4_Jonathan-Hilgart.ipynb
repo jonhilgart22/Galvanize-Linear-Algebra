{
 "cells": [
  {
   "cell_type": "markdown",
   "metadata": {},
   "source": [
    "# RAT 4.4\n",
    "\n",
    "Orthonormalize $\\vec{v_{1}} = \\begin{bmatrix}1, -2, 1\\end{bmatrix}$, $\\vec{v_{2}} = \\begin{bmatrix}1, 1, 0\\end{bmatrix}$, $\\vec{v_{3}} = \\begin{bmatrix}0, -1, -1\\end{bmatrix}$"
   ]
  },
  {
   "cell_type": "markdown",
   "metadata": {
    "collapsed": true
   },
   "source": [
    "First, let us keep v1 the same vector and orthogonalize the other to it.\n",
    "\n",
    "**v1 = [1,-2,1]**\n",
    "\n",
    "Next, we want to find the projection of v2 onto v1.\n",
    "\n",
    "$[(v2 * v1)/ norm(v1)^2  ] *v1$\n",
    "\n",
    "\n",
    "=> $[(1-2+0)/(6)] * [1,-2,1]$\n",
    "\n",
    "=>$ [(-1/6)] * [ 1,-2,1]$\n",
    "\n",
    "=> The projection of v2 onto v1 is [-1/6, 1/3, -1/6]\n",
    "\n",
    "=> Next, we need to subtract v2 from this projection to find the orthogonal.\n",
    "\n",
    "=> [1,1,0] - [-1/6, 1/3, -1/6]  => \n",
    "\n",
    "## **[7/6, 2/3, 1/6] is the orthgonal vector $\\hat{v2}$**\n",
    "\n",
    "\n",
    "Next, take v3 subtract the projection of v3 onto v1, and subtract the projection of v3 onto v2.\n",
    "\n",
    "v3 = [0,-1,-1]\n",
    "\n",
    "### =>Projecton of v3 onto v1 => $ (v3*v1)/(norm(v1)^2) *v1$\n",
    "\n",
    "=> $[(0 +2 -1) / 6 ]* [1,-2,1]$\n",
    "\n",
    "=>$(1/6) * [ 1,-2,1] $ => [ 1/6, -1/3, 1/6] Which is the projection of v3 onto v1\n",
    "\n",
    "Next, we need the projection of v3 onto v2\n",
    "\n",
    "=>$(v3*v2)/Norm(v2)^2 * v2$\n",
    "\n",
    "=> (-1)/1 * [ 1,1,0]\n",
    "\n",
    "=>[-1,-1,0] Which is the projection of v3 onto v2\n",
    "\n",
    "To find $ \\hat{v3}$, Take v3 - projection of v3 onto v1 - projection of v3 onto v2.\n",
    "\n",
    "=> [0,-1,-1] -[1/6,-1/3,1/6] - [-1,-1,0]\n",
    "\n",
    "=> [-1/6, 4/3, -7/6] - [ -1, -1, 0]\n",
    "\n",
    "### ** [5/6, 7/3, - 7/6] is the orthogonal vector $\\hat{v3}$ **"
   ]
  },
  {
   "cell_type": "markdown",
   "metadata": {},
   "source": []
  },
  {
   "cell_type": "markdown",
   "metadata": {},
   "source": [
    "The final matrix is those three column vectors v1, $\\hat{v2} , \\hat{v3}$"
   ]
  },
  {
   "cell_type": "code",
   "execution_count": null,
   "metadata": {
    "collapsed": true
   },
   "outputs": [],
   "source": []
  }
 ],
 "metadata": {
  "kernelspec": {
   "display_name": "Python [Root]",
   "language": "python",
   "name": "Python [Root]"
  },
  "language_info": {
   "codemirror_mode": {
    "name": "ipython",
    "version": 3
   },
   "file_extension": ".py",
   "mimetype": "text/x-python",
   "name": "python",
   "nbconvert_exporter": "python",
   "pygments_lexer": "ipython3",
   "version": "3.5.2"
  }
 },
 "nbformat": 4,
 "nbformat_minor": 0
}
