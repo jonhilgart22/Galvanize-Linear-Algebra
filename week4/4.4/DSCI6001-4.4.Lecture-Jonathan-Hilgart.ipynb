{
 "cells": [
  {
   "cell_type": "markdown",
   "metadata": {},
   "source": [
    "# DSCI 6001 4.4 Lecture\n",
    "\n",
    "##By the end of this lecture you will be:\n",
    "1. More familiar with rotation matrices\n",
    "\n",
    "\n",
    "\n",
    "##Rotations\n",
    "\n",
    "Consider the rotation of a vector or matrix in $R^2$. Suppose a nonzero vector ${\\bf u} = [u_1~~u_2]$ is rotated counterclockwise through an angle $\\theta$ to produce ${\\bf v} = [v_1~~v_2]$. \n",
    "\n",
    "Using the fact that $\\| {\\bf u} \\| = \\| {\\bf v} \\| = v$,\n",
    "\n",
    "$$v_1 = v \\cos (\\phi + \\theta) = v (\\cos \\theta \\cos \\phi - \\sin \\theta \\sin \\phi)$$\n",
    "$$v_2 = v \\sin (\\phi + \\theta) = v (\\sin \\theta \\cos \\phi - \\cos \\theta \\sin \\phi)$$\n",
    "\n",
    "Described in the below diagram\n",
    "\n",
    "![](images/rotation-2d.png)\n",
    "\n",
    "\n",
    "Substituting $\\cos \\phi = u_1/v$ and $\\sin \\phi = u_2/v$ yields\n",
    "\n",
    "$$v_1 = u_1 \\cos \\theta - u_2 \\sin \\theta$$\n",
    "$$v_2 = u_1 \\sin \\theta + u_2 \\cos \\theta$$\n",
    "\n",
    "In matrix form:\n",
    "\n",
    "$$\\left[ \\begin{matrix} v_1 \\\\ v_2 \\end{matrix} \\right] = \\left[ \\begin{matrix} \\cos \\theta & -\\sin \\theta \\\\ \\sin \\theta & \\cos \\theta \\end{matrix} \\right] \\left[ \\begin{matrix} u_1 \\\\ u_2 \\end{matrix} \\right] $$\n",
    "\n",
    "In other words, ${\\bf v} = {\\bf P u}$, where $\\bf P$ is called the _rotation matrix_ or rotator. Notice that $\\bf P$ is an orthogonal matrix because ${\\bf P}^T {\\bf P} = {\\bf I}.$ This means that if ${\\bf v} = {\\bf P u}$, then ${\\bf u} = {\\bf P}^T {\\bf v}$. If $\\bf P$ rotates a vector through an angle $\\theta$, the ${\\bf P}^T$ rotates then vector through an angle $\\theta$.\n",
    "\n",
    "\n",
    "##Rotations in $\\mathbb{R}^3$\n",
    "\n",
    "Rotating vectors in $R^3$ around any one of the coordinate axes is similar. Suppose that ${\\bf v} = \\begin{bmatrix}v_1\\\\v_2\\\\v_3\\end{bmatrix}$ is obained by rotating ${\\bf u} = \\begin{bmatrix}u_1\\\\u_2\\\\u_3\\end{bmatrix}$ counterclockwise through an angle $\\theta$ around the $z$-axis. In this case, the third coordinate remains unaffected, i.e., $v_3 = u_3$. \n",
    "\n",
    "Now, consider the projection of $\\bf u$ onto $xy$-plane, ${\\bf u}_p = [u_1~~u_2~~0]$. As $\\bf u$ is rotated around $z$-axis by angle $\\theta$, the projection ${\\bf u}_p$ gets rotated around the origin by the same angle. Thus the problem is reduced to rotation in the $xy$-plane, and we already know how to do this. Therefore, this rotation can be expressed as\n",
    "\n",
    "\n",
    "$$\\left[ \\begin{matrix} v_1 \\\\ v_2 \\\\ v_3 \\end{matrix} \\right] = \\left[ \\begin{matrix} \\cos \\theta & -\\sin \\theta & 0 \\\\ \\sin \\theta & \\cos \\theta & 0 \\\\ 0 & 0 & 1 \\end{matrix} \\right] \\left[ \\begin{matrix} u_1 \\\\ u_2 \\\\ u_3 \\end{matrix} \\right] $$\n",
    "\n",
    "$${\\bf v} = {\\bf P}_z {\\bf u}$$\n",
    "\n",
    "So, ${\\bf P}_z$ is the matrix that rotates vectors in $R^3$ counterclockwise aroung the $z$-axis through an angle $\\theta$. It is easy to verity that ${\\bf P}_z$ is on orthogonal matrix. Using similar arguments, we can derive orthogonal matrices that rotate vectors around the $x$-axis or aroung the $y$-axis.\n",
    "\n",
    "\n",
    "\n",
    "###Standard rotation matrices in $\\mathbb{R}^3$\n",
    "\n",
    "${\\bf P}_x = \\left[ \\begin{matrix} 1 & 0 & 0 \\\\ 0 & \\cos \\theta & -\\sin \\theta  \\\\ 0 & \\sin \\theta & \\cos \\theta  \\end{matrix} \\right]$\n",
    "\n",
    "${\\bf P}_y = \\left[ \\begin{matrix} \\cos \\theta & 0&  -\\sin \\theta \\\\ 0 & 1 & 0 \\\\ \\sin \\theta & 0 & \\cos \\theta  \\end{matrix} \\right]$\n",
    "\n",
    "${\\bf P}_z = \\left[ \\begin{matrix} \\cos \\theta & -\\sin \\theta & 0 \\\\ \\sin \\theta & \\cos \\theta & 0 \\\\ 0 & 0 & 1 \\end{matrix} \\right]$\n",
    "\n",
    "**Rotations in higher dimensions** are straightforward generalizations of rotations in $R^3$. **Any $n \\times n$ orthogonal matrix rotation** preserves the dimensionality of a $n$-dim matrix. and thus is thought of as a rotation in $R^n$.\n",
    "\n",
    "The principal property of rotations beyond the preservation of spatial relationships is that they always have an axis of rotation: meaning there is always one line in $R^n$ that is left undisturbed by the rotation. \n",
    "\n",
    "Given an arbitrary rotation matrix ${\\bf P}$, one can find the axis of rotation by solving the following equation:\n",
    "\n",
    "${\\bf P x} = \\lambda {\\bf x}$, $\\lambda = 1$\n",
    "\n",
    "Hence we want to find an eigenvector ${\\bf x}$ of $\\bf P$ with eigenvalue 1. Once we find such a vector, then we’ll have the corresponding axis of rotation. These two properties are synonymous and is a logical extension of the meaning of eigenvectors, which has been talked about extensively so far.\n",
    "\n",
    "####Orthogonal Diagonalization and Rotation\n",
    "\n",
    "If $\\bf A$ is a symmetric (or a NORMAL i.e. ${\\bf AA^T = A^TA}$) matrix, then it is orthogonally diagonalizable:\n",
    "\n",
    "$${\\bf A} = {\\bf PDP}^T$$\n",
    "\n",
    "Here the matrix $\\bf P$ is orthogonal, which means, for any vector $\\bf w$, $\\|{\\bf Pw} \\| = \\|{\\bf w}\\|$. Therefore ${\\bf P}$ is a matrix of rotation.\n",
    "\n",
    "For an eigenvector ${\\bf x}$ of matrix $\\bf A$:\n",
    "\n",
    "$${\\bf Ax} = {\\bf PDP}^T {\\bf x}$$\n",
    "\n",
    "The application of ${\\bf PDP}^T$ on $\\bf x$ can be described geometrically in the following way:"
   ]
  },
  {
   "cell_type": "code",
   "execution_count": 1,
   "metadata": {
    "collapsed": true
   },
   "outputs": [],
   "source": [
    "from __future__ import division\n",
    "import numpy as np\n",
    "import matplotlib.pyplot as plt\n",
    "%matplotlib inline\n",
    "\n",
    "#define a drawer.\n",
    "def draw_vec(v, col='r', ls ='solid'):\n",
    "    plt.arrow(0,0,v[0][0],v[1][0], head_width=0.05, head_length=0.05, ec=col, ls=ls);\n",
    "    plt.xlim(-0.2,3.2)\n",
    "    plt.ylim(-0.2,3.2)"
   ]
  },
  {
   "cell_type": "code",
   "execution_count": 3,
   "metadata": {
    "collapsed": false
   },
   "outputs": [
    {
     "name": "stdout",
     "output_type": "stream",
     "text": [
      "consider the matrix A:\n",
      " [[2 1]\n",
      " [1 2]]\n",
      "eigenvalues:\n",
      " [ 3.  1.]\n",
      "eigenvectors:\n",
      " [[ 0.70710678 -0.70710678]\n",
      " [ 0.70710678  0.70710678]]\n"
     ]
    }
   ],
   "source": [
    "A = np.array([[2,1],[1,2]])\n",
    "#A = np.array([[3,2],[1,4]])\n",
    "\n",
    "print ('consider the matrix A:\\n',A)\n",
    "\n",
    "ev, P = np.linalg.eig(A)\n",
    "print ('eigenvalues:\\n',ev)\n",
    "print ('eigenvectors:\\n', P)\n",
    "\n",
    "v1 = np.array([[.25],[1]])\n",
    "D = np.diag(ev)"
   ]
  },
  {
   "cell_type": "code",
   "execution_count": 4,
   "metadata": {
    "collapsed": false
   },
   "outputs": [
    {
     "name": "stdout",
     "output_type": "stream",
     "text": [
      "draw v1\n",
      "[[ 0.25]\n",
      " [ 1.  ]]\n"
     ]
    },
    {
     "data": {
      "image/png": "[encoded data removed]",
      "text/plain": [
       "<matplotlib.figure.Figure at 0x10414aeb8>"
      ]
     },
     "metadata": {},
     "output_type": "display_data"
    }
   ],
   "source": [
    "print (\"draw v1\")\n",
    "print (v1)\n",
    "\n",
    "draw_vec(v1,'b')"
   ]
  },
  {
   "cell_type": "code",
   "execution_count": 5,
   "metadata": {
    "collapsed": false
   },
   "outputs": [
    {
     "name": "stdout",
     "output_type": "stream",
     "text": [
      "Now draw draw the product of matrix A on v1 as GREEN\n"
     ]
    },
    {
     "data": {
      "image/png": "[encoded data removed]",
      "text/plain": [
       "<matplotlib.figure.Figure at 0x10f4a5550>"
      ]
     },
     "metadata": {},
     "output_type": "display_data"
    }
   ],
   "source": [
    "v2 = A.dot(v1)\n",
    "print ('Now draw draw the product of matrix A on v1 as GREEN')\n",
    "\n",
    "draw_vec(v1,'b')\n",
    "draw_vec(v2,'g', ls = 'dashdot')"
   ]
  },
  {
   "cell_type": "code",
   "execution_count": 6,
   "metadata": {
    "collapsed": false
   },
   "outputs": [
    {
     "name": "stdout",
     "output_type": "stream",
     "text": [
      "Now look at how P^T rotates v1:\n"
     ]
    },
    {
     "data": {
      "image/png": "[encoded data removed]",
      "text/plain": [
       "<matplotlib.figure.Figure at 0x10f98bc88>"
      ]
     },
     "metadata": {},
     "output_type": "display_data"
    }
   ],
   "source": [
    "print ('Now look at how P^T rotates v1:')\n",
    "\n",
    "draw_vec(v1,'b')\n",
    "draw_vec(v2,'g', ls = 'dashdot')\n",
    "\n",
    "draw_vec(P.T.dot(v1))"
   ]
  },
  {
   "cell_type": "code",
   "execution_count": 7,
   "metadata": {
    "collapsed": false
   },
   "outputs": [
    {
     "name": "stdout",
     "output_type": "stream",
     "text": [
      "Now D scales the rotated eigenvector:\n"
     ]
    },
    {
     "data": {
      "image/png": "[encoded data removed]",
      "text/plain": [
       "<matplotlib.figure.Figure at 0x10fba0da0>"
      ]
     },
     "metadata": {},
     "output_type": "display_data"
    }
   ],
   "source": [
    "print ('Now D scales the rotated eigenvector:')\n",
    "draw_vec(v1,'b')\n",
    "draw_vec(v2,'g', ls = 'dashdot')\n",
    "\n",
    "draw_vec(D.dot(P.T.dot(v1)))"
   ]
  },
  {
   "cell_type": "code",
   "execution_count": 8,
   "metadata": {
    "collapsed": false
   },
   "outputs": [
    {
     "name": "stdout",
     "output_type": "stream",
     "text": [
      "and P rotates the scaled vector back onto the GREEN image vector:\n"
     ]
    },
    {
     "data": {
      "image/png": "[encoded data removed]",
      "text/plain": [
       "<matplotlib.figure.Figure at 0x10fcdcba8>"
      ]
     },
     "metadata": {},
     "output_type": "display_data"
    }
   ],
   "source": [
    "print ('and P rotates the scaled vector back onto the GREEN image vector:')\n",
    "draw_vec(v1,'b')\n",
    "\n",
    "draw_vec(P.dot(D.dot(P.T.dot(v1))))\n",
    "draw_vec(v2,'g', ls = 'dashdot')\n"
   ]
  },
  {
   "cell_type": "markdown",
   "metadata": {},
   "source": [
    "##Assigned Problems:\n",
    "\n",
    "1) Perform the following sequence of rotations in $R^3$ beginning with\n",
    "\n",
    "$${\\bf v}_0 = \\begin{bmatrix} 1 \\\\ 1 \\\\ -1 \\end{bmatrix}$$\n",
    "\n",
    "1. Rotate ${\\bf v}_0$ counterclockwise $45^\\circ$ around the $x$-axis to produce ${\\bf v}_1$.\n",
    "\n",
    "2. Rotate ${\\bf v}_1$ clockwise $90^\\circ$ around the $y$-axis to produce ${\\bf v}_2$.\n",
    "\n",
    "3.  Rotate ${\\bf v}_2$ counterclockwise $30^\\circ$ around the $z$-axis to produce ${\\bf v}_3$.\n",
    "\n",
    "2) Verify that the matrix ${\\bf P}_y$ is orthogonal.\n",
    "\n",
    "3) Diagonalize the following symmetric matrix\n",
    "\n",
    "$${\\bf A} = \\begin{bmatrix} 3 & 1/2 \\\\ 1/2 & 2 \\end{bmatrix}$$\n",
    "\n",
    "(a) Plot the effect of $\\bf A$ on the vectors $\\begin{bmatrix}1\\\\0\\end{bmatrix}$, $\\begin{bmatrix}1\\\\1\\end{bmatrix}$ and $\\begin{bmatrix}0\\\\1\\end{bmatrix}$. \n",
    "\n",
    "(b) Plot the effect of ${\\bf P}^T$, ${\\bf DP}^T$ and ${\\bf PDP}^T$ on the same vectors"
   ]
  },
  {
   "cell_type": "code",
   "execution_count": null,
   "metadata": {
    "collapsed": true
   },
   "outputs": [],
   "source": []
  }
 ],
 "metadata": {
  "anaconda-cloud": {},
  "kernelspec": {
   "display_name": "Python [Root]",
   "language": "python",
   "name": "Python [Root]"
  },
  "language_info": {
   "codemirror_mode": {
    "name": "ipython",
    "version": 3
   },
   "file_extension": ".py",
   "mimetype": "text/x-python",
   "name": "python",
   "nbconvert_exporter": "python",
   "pygments_lexer": "ipython3",
   "version": "3.5.2"
  }
 },
 "nbformat": 4,
 "nbformat_minor": 0
}
