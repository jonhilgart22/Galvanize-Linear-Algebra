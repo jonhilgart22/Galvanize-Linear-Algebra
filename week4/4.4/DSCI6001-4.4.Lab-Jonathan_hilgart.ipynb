{
 "cells": [
  {
   "cell_type": "markdown",
   "metadata": {},
   "source": [
    "# DSCI6001 4.4 Lab  \n",
    "\n",
    "## Recursive calculation of the determinant\n",
    "\n",
    "(This is a graded lab assignment)\n",
    "\n",
    "Today you will calculate the determinant recursively using the skills you developed yesterday. You should be familiar enough to jump into writing the algorithm essentially from scratch. \n",
    "\n",
    "The determinant is easily calculated using the Laplace expansion:\n",
    "\n",
    "$$det(A) = \\sum_{i=1}^{N} (-1)^{i+1} A_{i,1} det(C_{i})$$\n",
    "\n",
    "where $C_{i,1}$ is the $(n-1) \\times (n-1)$ matrix obtained from A by removing (deleting) the i-th row and first column. (The first column does not play a special role here: the determinant remains the same if we use any other column.) \n",
    "\n",
    "Note that the stopping condition in this case for the determinant function is the determinant of size $2 \\times 2$. Yes, you can consider expansions that end in the $1 \\times 1$ expansion. Just make sure your math is right. \n",
    "\n",
    "Your code should be able to pass the simple test harness provided below.\n",
    "Our solution was written in 11 lines. You might consider making use of the `numpy.delete` function (make sure to test it out to understand it). Our other comment is to take advantage of simple sums where you can. Remember that each determinant is a sum over columns !!!"
   ]
  },
  {
   "cell_type": "code",
   "execution_count": 487,
   "metadata": {
    "collapsed": false
   },
   "outputs": [],
   "source": [
    "def det(x):\n",
    "    \n",
    "    # you might consider making a `minor` function to help you calculate the minor matrices \n",
    "    sum_of_determinants=0\n",
    "    minors = []\n",
    "    #print(sum_of_determinants,'sum det')\n",
    "    \n",
    "    def minor(x, rows, columns):\n",
    "        rows = rows\n",
    "        columns = columns\n",
    "        x = np.delete(x,0,axis=0) ##delete the first row\n",
    "        x = np.delete(x,columns,1) ## delete the columns\n",
    "        \n",
    "        return x\n",
    "\n",
    "    \n",
    "    rows = len(x)\n",
    "    if x.shape ==(2,2):\n",
    "\n",
    "        return ((x[0,0] *x[1,1] ) - (x[0,1]*x[1,0]))\n",
    "    \n",
    "    else:\n",
    "        #print(sum_of_determinants, ' sum else case')\n",
    "    \n",
    "        #for count, item in enumerate(rows):\n",
    "#         for item in range(rows):\n",
    "#             print(item,'item-----------')\n",
    "#             #minors += minor(x,item,item)\n",
    "#             print(x[0,item],'x 0 and item')\n",
    "#             print(x[0,item]*(-1)**(rows+columns),'here')\n",
    "        \n",
    "        return sum([det(minor(x,0,count))*((-1)**(count))*x[0,count] for count in range(rows)]) \n",
    "    \n",
    "    #return sum(sum_of_determinants)\n",
    "    # recursion goes here. You'll need to define the base case first!! In every other case, \n",
    "    # you're returning a sum!\n",
    "    \n"
   ]
  },
  {
   "cell_type": "code",
   "execution_count": 502,
   "metadata": {
    "collapsed": false
   },
   "outputs": [],
   "source": [
    "B = np.array([[1,-234,-2],\n",
    "             [2234,-34,5],\n",
    "             [1,-1,1]])"
   ]
  },
  {
   "cell_type": "code",
   "execution_count": 503,
   "metadata": {
    "collapsed": false
   },
   "outputs": [
    {
     "data": {
      "text/plain": [
       "525957"
      ]
     },
     "execution_count": 503,
     "metadata": {},
     "output_type": "execute_result"
    }
   ],
   "source": [
    "det(B)"
   ]
  },
  {
   "cell_type": "code",
   "execution_count": 504,
   "metadata": {
    "collapsed": false
   },
   "outputs": [
    {
     "data": {
      "text/plain": [
       "525956.99999999988"
      ]
     },
     "execution_count": 504,
     "metadata": {},
     "output_type": "execute_result"
    }
   ],
   "source": [
    "np.linalg.det(B)"
   ]
  },
  {
   "cell_type": "code",
   "execution_count": 491,
   "metadata": {
    "collapsed": false
   },
   "outputs": [],
   "source": [
    "# Here is a simple test harness\n",
    "\n",
    "import numpy as np\n",
    "import copy\n",
    "import numpy.linalg as LA\n",
    "    \n"
   ]
  },
  {
   "cell_type": "code",
   "execution_count": 495,
   "metadata": {
    "collapsed": false
   },
   "outputs": [],
   "source": [
    "for i in range(20):\n",
    "    X = np.random.randint(5, size=(6,6))\n",
    "    assert np.isclose(float(det(X)), LA.det(X))"
   ]
  },
  {
   "cell_type": "code",
   "execution_count": 476,
   "metadata": {
    "collapsed": true
   },
   "outputs": [],
   "source": [
    "A = np.array([[1,2,5],\n",
    "             [4,58,45],\n",
    "             [1,5,3]])"
   ]
  },
  {
   "cell_type": "code",
   "execution_count": 477,
   "metadata": {
    "collapsed": false
   },
   "outputs": [
    {
     "data": {
      "text/plain": [
       "array([[ 1,  2],\n",
       "       [ 4, 58],\n",
       "       [ 1,  5]])"
      ]
     },
     "execution_count": 477,
     "metadata": {},
     "output_type": "execute_result"
    }
   ],
   "source": [
    "np.delete(A,2,1)"
   ]
  },
  {
   "cell_type": "code",
   "execution_count": 113,
   "metadata": {
    "collapsed": false
   },
   "outputs": [
    {
     "data": {
      "text/plain": [
       "2"
      ]
     },
     "execution_count": 113,
     "metadata": {},
     "output_type": "execute_result"
    }
   ],
   "source": [
    "A[0,1]"
   ]
  },
  {
   "cell_type": "code",
   "execution_count": null,
   "metadata": {
    "collapsed": true
   },
   "outputs": [],
   "source": []
  }
 ],
 "metadata": {
  "anaconda-cloud": {},
  "kernelspec": {
   "display_name": "Python [Root]",
   "language": "python",
   "name": "Python [Root]"
  },
  "language_info": {
   "codemirror_mode": {
    "name": "ipython",
    "version": 3
   },
   "file_extension": ".py",
   "mimetype": "text/x-python",
   "name": "python",
   "nbconvert_exporter": "python",
   "pygments_lexer": "ipython3",
   "version": "3.5.2"
  }
 },
 "nbformat": 4,
 "nbformat_minor": 0
}
