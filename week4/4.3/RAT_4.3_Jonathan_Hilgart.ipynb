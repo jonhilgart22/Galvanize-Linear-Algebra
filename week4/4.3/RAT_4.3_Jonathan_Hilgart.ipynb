{
 "cells": [
  {
   "cell_type": "markdown",
   "metadata": {},
   "source": [
    "# RAT 4.3\n",
    "\n",
    "1. Three points exist on a plane, $k = (4, 1, 3)$, $l = (2, -2, 0)$, $m = (-1, 0, 2)$. Write the normal form equation of this plane."
   ]
  },
  {
   "cell_type": "markdown",
   "metadata": {
    "collapsed": true
   },
   "source": [
    "First let's create two vectors on the plane.\n",
    "\n",
    "KL[2,3,3]\n",
    "\n",
    "ML[-3,2,2]\n",
    "\n",
    "From these two vectors, we can now create the normal to the plane.\n",
    "\n",
    "KL cross with ML\n",
    "\n",
    "= det[ \n",
    "\n",
    "e1  e2  e2\n",
    "\n",
    "KL1 KL2 KL3\n",
    "\n",
    "ML1 ML2 ML3]\n",
    "\n",
    "= det\n",
    "\n",
    "[e1 e2 e3\n",
    "\n",
    "2   3   3\n",
    "\n",
    "-3  2   2]"
   ]
  },
  {
   "cell_type": "markdown",
   "metadata": {},
   "source": [
    "- [1,0,0] $* [6-6] - [0,1,0] *[4-(-9)]  + [0,0,1] * [4 -(-9)]$"
   ]
  },
  {
   "cell_type": "markdown",
   "metadata": {},
   "source": [
    "- $ [1,0,0]*[0]   -  [0,1,0]*[13] + [0,0,1] *[13]$\n",
    "- [0,-13,0] + [0,0,13]\n",
    "- The normal to the plane is [0,-13,13]\n",
    "\n"
   ]
  },
  {
   "cell_type": "markdown",
   "metadata": {},
   "source": [
    "Next, we know the equation of a plane is Ax +By + Cz = d.\n",
    "\n",
    "We can take one of our points, and plug it in, and plug in the equation for the normal we just found.\n",
    "\n",
    "Therefore,  0(x) + (-13)(y) + (13)z) = d.\n",
    "\n",
    "Plug in point (-1,0,2) into this equation.\n",
    "\n",
    "=>$ (0) * (-1) +(-13)(0) + 13(2) = d$\n",
    "\n",
    "=> **d = 26**\n",
    "\n"
   ]
  },
  {
   "cell_type": "markdown",
   "metadata": {},
   "source": [
    "## **Our equation of a plane is 0x + (-13)y +(13)z -26 = 0**"
   ]
  },
  {
   "cell_type": "markdown",
   "metadata": {},
   "source": [
    "Check the equation with another point."
   ]
  },
  {
   "cell_type": "markdown",
   "metadata": {},
   "source": [
    "Point (4,1,3)\n",
    "\n",
    "=> $(0)*(4) + (-13)(1) + (13)(3) - 26 = 0$\n",
    "\n",
    "=> 0 - 13 + 39 - 26 =0\n",
    "\n",
    "=> 39-39 = 0\n",
    "\n",
    "### This point works"
   ]
  },
  {
   "cell_type": "markdown",
   "metadata": {},
   "source": [
    "Check with the last point.\n",
    "\n",
    "Point (2,-2,0).\n",
    "\n",
    "=> (0)(2) +(-13)(-2) + (13)(0) - 26 = 0\n",
    "\n",
    "26 - 26 = 0\n",
    "\n",
    "## This point also works."
   ]
  },
  {
   "cell_type": "markdown",
   "metadata": {},
   "source": [
    "# The point normal form of the plane is $(0,-13,13)*(X-4,Y-1,Z-3) = 0$"
   ]
  },
  {
   "cell_type": "code",
   "execution_count": null,
   "metadata": {
    "collapsed": true
   },
   "outputs": [],
   "source": []
  }
 ],
 "metadata": {
  "kernelspec": {
   "display_name": "Python [Root]",
   "language": "python",
   "name": "Python [Root]"
  },
  "language_info": {
   "codemirror_mode": {
    "name": "ipython",
    "version": 3
   },
   "file_extension": ".py",
   "mimetype": "text/x-python",
   "name": "python",
   "nbconvert_exporter": "python",
   "pygments_lexer": "ipython3",
   "version": "3.5.2"
  }
 },
 "nbformat": 4,
 "nbformat_minor": 0
}
