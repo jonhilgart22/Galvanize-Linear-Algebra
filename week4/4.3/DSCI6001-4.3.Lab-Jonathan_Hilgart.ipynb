{
 "cells": [
  {
   "cell_type": "markdown",
   "metadata": {},
   "source": [
    "# DSCI6001 4.3 Lab\n",
    "\n",
    "## A return to algorithms: Revisiting Recursion\n",
    "\n",
    "(graded lab)\n",
    "\n",
    "Today is in preparation for Friday's lab, the recursive calculation of the determinant. We shall revisit several classical problems using recursion. \n",
    "\n"
   ]
  },
  {
   "cell_type": "markdown",
   "metadata": {},
   "source": [
    "## TASK 1:\n",
    "\n",
    "### Greatest common divisor (of three numbers)\n",
    "\n",
    "This is a classic interview question. Suppose we want to find the greatest common divisor between two numbers, meaning that we want to find the largest number that evenly divides both numbers at the same time. This number can be found using the ancient algorithm that considers two numbers, $a$ where $a$ is a quotient and $b$ where $b$ is a remainder. The algorithm proceeds as follows:\n",
    "\n",
    "$$a = q_{0}*b + r_{0}$$\n",
    "\n",
    "$$b = q_{1}r_{0}+r_{1}$$\n",
    "\n",
    "$$r_{0} = q_{2}r_{1}+r_{2}$$\n",
    "\n",
    "$$ \\vdots $$\n",
    "\n",
    "$$ r_{N-1} = q_{N+1}r_{N}+0 $$\n",
    "\n",
    "At the point that the last remainder hits $0$, the algorithm stops and returns the quotient. This quotient is ultimately the greatest common divisor. \n",
    "\n",
    "\n",
    "### Decomposing our task:\n",
    "\n",
    "Your first step is to create a recursive algorithm that computes the gcd of only two numbers. \n",
    "\n",
    "\n",
    "### Writing the algorithm:\n",
    "\n",
    "When we write a new algorithm it helps to proceed in a set of simple steps:\n",
    "1) Outline the goal of the algorithm\n",
    "2) Work through the steps of the algorithm as you believe them to be\n",
    "3) Write out pseudocode describing those steps\n",
    "4) Walk through the pseudocode by hand and see if you obtain the expected result\n",
    "\n",
    "\n",
    "### Building a recursion:\n",
    "\n",
    "#### Find the **base case**\n",
    "\n",
    "In this case we know by definition what the base case is. It occurs when the last remainder $r_{N}$ goes to zero, leaving only the last nonzero remainder, $r_{N-1}$. This is the GCD, and so we return the remainder.\n",
    "\n",
    "#### Find the **propagation case**\n",
    "\n",
    "This consists of at least one step that returns the original function itself with some modified arguments. The arguments and base case should be modified such that the arguments definitely reach the base case. In the case of the GCD calculation we are looking for another GCD calculation, this time with the quotient as the remainder and the remainder being the remainder of the quotient and the last remainder.\n",
    "\n",
    "\n",
    "#### Example:\n",
    "One might write a recursive function that sums a list of numbers:"
   ]
  },
  {
   "cell_type": "code",
   "execution_count": 4,
   "metadata": {
    "collapsed": false
   },
   "outputs": [
    {
     "data": {
      "text/plain": [
       "15"
      ]
     },
     "execution_count": 4,
     "metadata": {},
     "output_type": "execute_result"
    }
   ],
   "source": [
    "def sum(x):\n",
    "    s = 0 # summand\n",
    "    def loop(x,s): # we create another function to make this easy\n",
    "        if len(x) == 0: # this is the base case. \n",
    "                        # we are knocking the size of the list down every step.\n",
    "                        # once the list has no more components remaining in it we return the sum\n",
    "            return s\n",
    "        else:\n",
    "            return loop(x[1:], s+x[0]) # This is the propagation case\n",
    "    return loop(x, s)\n",
    "\n",
    "sum([1,2,3,4,5])"
   ]
  },
  {
   "cell_type": "markdown",
   "metadata": {},
   "source": [
    "(solution)\n",
    "\n",
    "The gcd can be calculated as follows (note that there will be many cases wherein gcd==1."
   ]
  },
  {
   "cell_type": "code",
   "execution_count": 47,
   "metadata": {
    "collapsed": true
   },
   "outputs": [],
   "source": [
    "#pass down modulus, \n",
    "#4 lines\n",
    "\n",
    "def gcd(num1,num2):\n",
    "\n",
    "    if num2==0:\n",
    "        return num1\n",
    "    \n",
    "    else:\n",
    "        #print(num1,'num1',num2,'num2')\n",
    "        #print (gcd(num2, num1%num2) , 'function call')\n",
    "        #print(num1%num2, 'moduluo')\n",
    "        return gcd(num2, num1%num2)\n",
    "    \n",
    "    \n",
    "    "
   ]
  },
  {
   "cell_type": "code",
   "execution_count": 48,
   "metadata": {
    "collapsed": false
   },
   "outputs": [
    {
     "data": {
      "text/plain": [
       "1"
      ]
     },
     "execution_count": 48,
     "metadata": {},
     "output_type": "execute_result"
    }
   ],
   "source": [
    "gcd(130902349058234852348758023475899,9934582734057203487502347502435)"
   ]
  },
  {
   "cell_type": "markdown",
   "metadata": {},
   "source": [
    "## TASK 2: \n",
    "\n",
    "### Print Pascal's triangle\n",
    "\n",
    "Almost everyone is familiar with the concept of [Pascal's triangle](https://en.wikipedia.org/wiki/Pascal%27s_triangle). The triangle depicts the growth of the **Binomial coefficients**. Below we have provided a schema for printing the triangle, you need only figure out how to print out the numbers using recursion.\n",
    "\n",
    "How to do it? There is one easy way, and it is found by looking at the entries of the triangle. Each entry (with the exception of certain sections of the triangle) is a sum of other parts. What are they? If you can name the indices and how they add together, you'll have the recursion and the base case right away.\n"
   ]
  },
  {
   "cell_type": "code",
   "execution_count": 58,
   "metadata": {
    "collapsed": true
   },
   "outputs": [],
   "source": [
    "def print_pascal(N):\n",
    "    \n",
    "    for r in range(N):\n",
    "        \n",
    "        rowstr = ''\n",
    "        \n",
    "        for c in range(0, r+1):\n",
    "            \n",
    "            rowstr += str(pascal(c, r))+' '\n",
    "          \n",
    "        print(rowstr+'\\n')"
   ]
  },
  {
   "cell_type": "code",
   "execution_count": 89,
   "metadata": {
    "collapsed": false
   },
   "outputs": [
    {
     "name": "stdout",
     "output_type": "stream",
     "text": [
      "1 \n",
      "\n",
      "1 1 \n",
      "\n",
      "1 2 1 \n",
      "\n",
      "1 3 3 1 \n",
      "\n",
      "1 4 6 4 1 \n",
      "\n",
      "1 5 10 10 5 1 \n",
      "\n",
      "1 6 15 20 15 6 1 \n",
      "\n"
     ]
    }
   ],
   "source": [
    "def pascal(c, r):\n",
    "    \n",
    "    if c==r or c==0:\n",
    "        return 1\n",
    "    \n",
    "    else:\n",
    "        #print(pascal(c-1,r-1))\n",
    "        #return pascal(c-1,r-1)\n",
    "        \n",
    "        #print(c, 'column')\n",
    "        #print(r,'row')\n",
    "        \n",
    "        return (pascal(c,r-1) + pascal(c-1 , r-1))\n",
    "    \n",
    "        \n",
    "    \n",
    "    pass\n",
    "\n",
    "print_pascal(7)"
   ]
  },
  {
   "cell_type": "markdown",
   "metadata": {},
   "source": [
    "## TASK 3 (extra credit): \n",
    "\n",
    "### Compute the Convex Hull of N randomly placed numbers\n",
    "\n",
    "Compute the [convex hull using quickhull](https://en.wikipedia.org/wiki/Quickhull) of a set of random numbers placed within a uniform random interval in $\\mathbb{R}^2$"
   ]
  },
  {
   "cell_type": "code",
   "execution_count": 115,
   "metadata": {
    "collapsed": false
   },
   "outputs": [],
   "source": [
    "from random import randint\n",
    "#random_numbers_x = [randint(1,100) for _ in range(100)]\n",
    "random_numbers = [(randint(1,100),randint(1,100)) for _ in range(100)]\n",
    "\n",
    "#random_numbers_x"
   ]
  },
  {
   "cell_type": "code",
   "execution_count": 117,
   "metadata": {
    "collapsed": false
   },
   "outputs": [
    {
     "name": "stdout",
     "output_type": "stream",
     "text": [
      "Populating the interactive namespace from numpy and matplotlib\n"
     ]
    },
    {
     "data": {
      "image/png": "[encoded data removed]",
      "text/plain": [
       "<matplotlib.figure.Figure at 0x11a5a6780>"
      ]
     },
     "metadata": {},
     "output_type": "display_data"
    }
   ],
   "source": [
    "import seaborn as sns\n",
    "%pylab inline\n",
    "plt.scatter(random_numbers_x,random_numbers_y)\n",
    "plt.show();"
   ]
  },
  {
   "cell_type": "markdown",
   "metadata": {},
   "source": [
    "Find the points with minimum and maximum x coordinates, those are bound to be part of the convex hull.\n",
    "\n",
    "Use the line formed by the two points to divide the set in two subsets of points, which will be processed recursively.\n",
    "Determine the point, on one side of the line, with the maximum distance from the line. The two points found before along with this one form a triangle.\n",
    "The points lying inside of that triangle cannot be part of the convex hull and can therefore be ignored in the next steps.\n",
    "Repeat the previous two steps on the two lines formed by the triangle (not the initial line).\n",
    "Keep on doing so on until no more points are left, the recursion has come to an end and the points selected constitute the convex hull."
   ]
  },
  {
   "cell_type": "code",
   "execution_count": null,
   "metadata": {
    "collapsed": true
   },
   "outputs": [],
   "source": [
    "def firsthull()\n",
    "    max_x_coordinate = max(random_numbers_x)\n",
    "    min_y_coordinate = min(random_numbers_x)\n",
    "\n",
    "def convex_hull(line,x_coordinates,y_coordinates):\n",
    "    \n"
   ]
  }
 ],
 "metadata": {
  "kernelspec": {
   "display_name": "Python [Root]",
   "language": "python",
   "name": "Python [Root]"
  },
  "language_info": {
   "codemirror_mode": {
    "name": "ipython",
    "version": 3
   },
   "file_extension": ".py",
   "mimetype": "text/x-python",
   "name": "python",
   "nbconvert_exporter": "python",
   "pygments_lexer": "ipython3",
   "version": "3.5.2"
  }
 },
 "nbformat": 4,
 "nbformat_minor": 0
}
