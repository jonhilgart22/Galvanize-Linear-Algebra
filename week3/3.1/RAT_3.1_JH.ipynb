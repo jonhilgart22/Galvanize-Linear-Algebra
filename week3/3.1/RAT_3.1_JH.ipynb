{
 "cells": [
  {
   "cell_type": "markdown",
   "metadata": {},
   "source": [
    "## RAT 3.1\n",
    "\n",
    "1. Suppose you have a vector $\\begin{bmatrix}3 \\\\ -4 \\\\ 9\\end{bmatrix}$. Express this vector using the standard basis $e_{3}$.\n",
    "\n",
    "2. Come up with your own $2 \\times 2$ skew-symmetric matrix. What are the eigenvalues of this matrix?"
   ]
  },
  {
   "cell_type": "markdown",
   "metadata": {
    "collapsed": true
   },
   "source": [
    "# Question one\n",
    "\n",
    "[3, -4 , 9]    Divide by 9 =>  [1/3, -4/9 , 1]\n",
    "\n",
    "[1/3, -4/9 , 1] is the standard basis for this vector expresses in e3 because it have a one for the third element. "
   ]
  },
  {
   "cell_type": "markdown",
   "metadata": {},
   "source": [
    "# Question Two"
   ]
  },
  {
   "cell_type": "markdown",
   "metadata": {},
   "source": [
    "A = np.array([[0, 2],\n",
    "             [-2, 0]])\n",
    "\n",
    "Solve for eigenvalues\n",
    "\n",
    "[ (0-L)  2 ,\n",
    "  -2    (0-L)]  \n",
    "  \n",
    " Set det of charasteric equation = 0\n",
    " \n",
    " (0-L)(0-L) +4 = 0\n",
    " L^2 + 4 = 0\n",
    " (L -2 )(L - 2) = 0\n",
    " L = 2\n",
    "\n",
    "The eigenvalues are L1=2 and L2 = 2. This implies that the algebraic multiplicity is two. "
   ]
  },
  {
   "cell_type": "code",
   "execution_count": null,
   "metadata": {
    "collapsed": true
   },
   "outputs": [],
   "source": []
  }
 ],
 "metadata": {
  "kernelspec": {
   "display_name": "Python [Root]",
   "language": "python",
   "name": "Python [Root]"
  },
  "language_info": {
   "codemirror_mode": {
    "name": "ipython",
    "version": 3
   },
   "file_extension": ".py",
   "mimetype": "text/x-python",
   "name": "python",
   "nbconvert_exporter": "python",
   "pygments_lexer": "ipython3",
   "version": "3.5.2"
  }
 },
 "nbformat": 4,
 "nbformat_minor": 0
}
