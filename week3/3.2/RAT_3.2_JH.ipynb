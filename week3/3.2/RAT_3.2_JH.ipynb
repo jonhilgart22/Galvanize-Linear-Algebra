{
 "cells": [
  {
   "cell_type": "markdown",
   "metadata": {},
   "source": [
    "# RAT 3.2\n",
    "\n",
    "1. Write down the general (variables) formula for a linear system of $M$ equations of dimension $N$. \n",
    "\n",
    "\n",
    "2. The RREF of a matrix A is:\n",
    "\n",
    "$$ \\left[ \\begin{array}{ccc|c} 1 & 0 & -3 & 4\\\\\n",
    "                               0 & 1 & 2 & -2\\\\\n",
    "                               0 & 0 & 0 & 0\\end{array} \\right]$$\n",
    "                               \n",
    "  a) How many solutions does this system have? Why?\n",
    "  \n",
    "  b) What are the dependent and independent variables?\n",
    "  \n",
    "  c) Is this system invertible?\n",
    "  \n",
    "  d) How many solutions would this system have if the lowermost right element were nonzero?"
   ]
  },
  {
   "cell_type": "markdown",
   "metadata": {
    "collapsed": true
   },
   "source": [
    "# Question 1\n",
    "\n",
    "The general formula for a linear system of M equations of dimension N is:\n",
    "\n",
    "- A is your scalar values and X coresponds to your variables\n",
    "\n",
    "- m = rows or number of equations , j = columns of dimension\n",
    "\n",
    "Sum(A11$*$X11+...+Amn$*$Xmn)\n"
   ]
  },
  {
   "cell_type": "markdown",
   "metadata": {},
   "source": [
    "# Question A\n",
    "This system will have infinite solution because it is underdetermined. This means that the matrix has more varaibles than equations so there will be an infinte number of solutions."
   ]
  },
  {
   "cell_type": "markdown",
   "metadata": {},
   "source": [
    "# Question B"
   ]
  },
  {
   "cell_type": "markdown",
   "metadata": {},
   "source": [
    "The independent variables are the variables that are free or don't have a pivot column. If Z represents the third column variable then Z is independent because it does not dependent on any other varibles. If X and Y are the first two columns, they are dependent on values of other variables (X is dependent on Z) (Y is dependent on Z).\n",
    "\n"
   ]
  },
  {
   "cell_type": "markdown",
   "metadata": {},
   "source": [
    "# Question C"
   ]
  },
  {
   "cell_type": "markdown",
   "metadata": {},
   "source": [
    "This matrix is NOT invertible because the determinant is equal to zero."
   ]
  },
  {
   "cell_type": "markdown",
   "metadata": {},
   "source": [
    "# Question D"
   ]
  },
  {
   "cell_type": "markdown",
   "metadata": {},
   "source": [
    "If the lowermost right element were nonzero, then there would be zero solutions.\n",
    "\n",
    "You would have an equation 0x + 0y + 0z != 0. This is not possible; therefore, there would be zero solutions."
   ]
  },
  {
   "cell_type": "code",
   "execution_count": null,
   "metadata": {
    "collapsed": true
   },
   "outputs": [],
   "source": []
  }
 ],
 "metadata": {
  "kernelspec": {
   "display_name": "Python [Root]",
   "language": "python",
   "name": "Python [Root]"
  },
  "language_info": {
   "codemirror_mode": {
    "name": "ipython",
    "version": 3
   },
   "file_extension": ".py",
   "mimetype": "text/x-python",
   "name": "python",
   "nbconvert_exporter": "python",
   "pygments_lexer": "ipython3",
   "version": "3.5.2"
  }
 },
 "nbformat": 4,
 "nbformat_minor": 0
}
