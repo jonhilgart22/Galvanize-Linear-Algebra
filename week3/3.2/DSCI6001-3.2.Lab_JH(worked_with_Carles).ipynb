{
 "cells": [
  {
   "cell_type": "markdown",
   "metadata": {},
   "source": [
    "## LU Decomposition Lab\n",
    "Do the following by hand.\n",
    "\n",
    "We will follow the general structure we outlined in the lecture\n",
    "\n",
    "Given $A{\\bf x} = b$ and $A = LU$:\n",
    "\n",
    "0. Check for decomposability, pivot if necessary\n",
    "1. Decompose A into L and U.\n",
    "2. Let $L{\\bf y} = b$. \n",
    "3. Solve for ${\\bf y}$.\n",
    "5. Recall ${\\bf y} = U{\\bf x}$.\n",
    "6. Solve this equation to get ${\\bf x}$."
   ]
  },
  {
   "cell_type": "markdown",
   "metadata": {},
   "source": [
    "## Problem\n",
    "$$\\begin{bmatrix} 1 & 6 & 2 \\\\ 2 & 12 & 5 \\\\ -1 & -3 & -1 \\end{bmatrix}\n",
    "\\begin{bmatrix} x_{0} \\\\ x_{1} \\\\ x_{2} \\end{bmatrix} = \\begin{bmatrix} 9 \\\\ -4 \\\\ 17 \\end{bmatrix}$$"
   ]
  },
  {
   "cell_type": "markdown",
   "metadata": {},
   "source": [
    "\n",
    "\n",
    "### LU Decomposition\n",
    "#### Check for decomposability (Step 1)\n",
    "Write out the submatrices for $A$. You should have an $A_{1}$, $A_{2}$, and $A_{3}$.\n",
    "\n",
    "$A_{1}$ = 1 Det(1) = 1\n",
    "$A_{2}$ = [ 1 , 6] , [2, 12]  det ($A_{2}$ ) = 0\n",
    "\n",
    "\n",
    "What are the determinants for each submatrix? \n",
    "\n",
    "Can $A$ be decomposed in the current state?\n",
    "\n",
    "$A$ can NOT be decomposed in the current state.\n",
    "\n",
    "\n",
    "\n",
    "#### Pivot (Step 1)\n",
    "Swap rows in $A$. Check the result for decomposability again. Once you've found a swap that works, move on to the next step.\n",
    "\n",
    "We need to swap the following first becomes second, second becomes third, third becomes first.\n",
    "\n",
    "B = $$\\begin{bmatrix} -1 & -3 & -1\\\\ 1 & 6 & 2 \\\\2 & 12 & 5  \\end{bmatrix}$$\n"
   ]
  },
  {
   "cell_type": "code",
   "execution_count": 121,
   "metadata": {
    "collapsed": false
   },
   "outputs": [
    {
     "data": {
      "text/plain": [
       "array([[1, 3, 1],\n",
       "       [1, 4, 1],\n",
       "       [2, 8, 3]])"
      ]
     },
     "execution_count": 121,
     "metadata": {},
     "output_type": "execute_result"
    }
   ],
   "source": [
    "L.dot(U)"
   ]
  },
  {
   "cell_type": "code",
   "execution_count": 3,
   "metadata": {
    "collapsed": false
   },
   "outputs": [
    {
     "data": {
      "text/plain": [
       "-2.9999999999999996"
      ]
     },
     "execution_count": 3,
     "metadata": {},
     "output_type": "execute_result"
    }
   ],
   "source": [
    "import numpy as np\n",
    "B = np.asarray([[-1,-3,-1],\n",
    "          [1,6,2],\n",
    "          [2,12,5]])\n",
    "\n",
    "np.linalg.det(B)"
   ]
  },
  {
   "cell_type": "markdown",
   "metadata": {},
   "source": [
    "#### Form (Step 2)\n",
    "Write out the L and U matrices using variables ($A_{ij}$, $L_{ij}$, $U_{ij}$) and 1s/0s where necessary."
   ]
  },
  {
   "cell_type": "markdown",
   "metadata": {},
   "source": [
    "$A_{11} = U_{11}$\n",
    "\n",
    "$A_{12} = U_{12}$\n",
    "\n",
    "$A_{13} = U_{13}$\n",
    "\n",
    "$A_{21} = L_{21} * U_{11}$\n",
    "\n",
    "$A_{22} = L_{21} * U_{12} + U_{22}$\n",
    "\n",
    "$A_{23} = L_{21} * U_{13} + U_{23}$\n",
    "\n",
    "$A_{31} = L_{31} * U_{11}$\n",
    "\n",
    "$A_{32} = L_{31} * U_{12} + L_{32} * U_{22}$\n",
    "\n",
    "$A_{33} = L_{31} * U_{13} + L_{32} * U_{23} + U_{33}$"
   ]
  },
  {
   "cell_type": "markdown",
   "metadata": {},
   "source": [
    "\n",
    "#### Equations (Step 2)\n",
    "Write out $A = LU$ in a component by component basis. You should end up with a series of equations based on matrix multiplication.  \n",
    "Ex. $A_{11} = 1 * U_{11}$\n",
    "\n",
    "\n",
    "\n",
    "B11 =** U11  = -1**\n",
    "\n",
    "B12 = ** U12 = -3**\n",
    "\n",
    "B13 =** U13 = -1**\n",
    "\n",
    "B21 = L21 $*$ U11 => 1 = L21 $*$ -1 => **L21 = -1 **\n",
    "\n",
    "B22 = L21 $*$ U12 + U22 => -1 $*$ -3 + U22 = 6  => **U22 = 3**\n",
    "\n",
    "B23 = L21 $*$ U13 + U23 => -1 $*$ -1 + U23 = 2 => **U23 = 1**\n",
    "\n",
    "B31 = L31 $*$ U11 => L31 $*$ -1 = 2 => ** L31 = -2**\n",
    "\n",
    "B32 = L31 $*$U12 + L32 $*$ U22 => -2 $*$ -3 + L32 $*$ 3 = 12 =>  **L32 = 2**\n",
    "\n",
    "B33 = L31 $*$ U13 + L32 $*$ U23 + U33 =>  -2 $*$ -1 + 2 $*$ 1 + U33 = 5 => **U33 =1 **\n",
    "\n"
   ]
  },
  {
   "cell_type": "markdown",
   "metadata": {
    "collapsed": true
   },
   "source": [
    "\n",
    "\n",
    "\n",
    "#### Solve the equations above for all variables (Step 2)\n",
    "Solve for each varaible. What are the final L and U matrices?\n",
    "\n",
    "L = $$\\begin{bmatrix} 1 & 0 & 0\\\\ -1 & 1 & 0 \\\\-2 & 2 & 1  \\end{bmatrix}$$\n",
    "\n",
    "U = $$\\begin{bmatrix} -1 & -3 & -1\\\\ 0 & 3 & 1 \\\\ 0& 0 & 1  \\end{bmatrix}$$\n"
   ]
  },
  {
   "cell_type": "markdown",
   "metadata": {},
   "source": [
    "### Solving the system\n",
    "#### Solve for ${\\bf y}$ (Step 3/4)\n",
    "Next, we set $L{\\bf y} = b$.  \n",
    "Plug in your $L$ matrix and $b$.  \n",
    "You should be able to solve this system of equations for ${\\bf y}$.\n",
    "\n"
   ]
  },
  {
   "cell_type": "code",
   "execution_count": 153,
   "metadata": {
    "collapsed": false
   },
   "outputs": [
    {
     "data": {
      "text/plain": [
       "array([[ 17.],\n",
       "       [ 26.],\n",
       "       [-22.]])"
      ]
     },
     "execution_count": 153,
     "metadata": {},
     "output_type": "execute_result"
    }
   ],
   "source": [
    "import numpy as np\n",
    "#Here PA = LU\n",
    "#\n",
    "L = np.asarray([[1,0,0],\n",
    "                [-1,1,0],\n",
    "                [-2,2,1]])\n",
    "\n",
    "U = np.asarray([[-1,-3,-1],\n",
    "               [0,3,1],\n",
    "               [0,0,1]])\n",
    "\n",
    "b = np.asarray([[9],[-4],[17]])\n",
    "\n",
    "\n",
    "P = np.array([[0,0,1],\n",
    "                  [1,0,0],\n",
    "                  [0,1,0]])\n",
    "\n",
    "b = P.dot(b)\n",
    "\n",
    "              \n",
    "y = np.linalg.solve(L,b)\n",
    "              \n",
    "y"
   ]
  },
  {
   "cell_type": "code",
   "execution_count": 139,
   "metadata": {
    "collapsed": false
   },
   "outputs": [
    {
     "data": {
      "text/plain": [
       "array([[-1, -3, -1],\n",
       "       [ 1,  4,  1],\n",
       "       [ 2,  8,  3]])"
      ]
     },
     "execution_count": 139,
     "metadata": {},
     "output_type": "execute_result"
    }
   ],
   "source": [
    "#This should equal your PA\n",
    "L.dot(U)"
   ]
  },
  {
   "cell_type": "markdown",
   "metadata": {},
   "source": [
    "#### Solve for ${\\bf x}$ (Step 5/6)\n",
    "Now that we have $y$, recall that $U{\\bf x} = {\\bf y}$.  \n",
    "Plug in your $U$ and ${\\bf y}$ from above.  \n",
    "You should be able to solve for ${\\bf x}$."
   ]
  },
  {
   "cell_type": "code",
   "execution_count": 159,
   "metadata": {
    "collapsed": false
   },
   "outputs": [
    {
     "data": {
      "text/plain": [
       "array([[-43.],\n",
       "       [ 16.],\n",
       "       [-22.]])"
      ]
     },
     "execution_count": 159,
     "metadata": {},
     "output_type": "execute_result"
    }
   ],
   "source": [
    "answer_vector  = np.linalg.solve(U,y) ## This is the solutions\n",
    "answer_vector"
   ]
  },
  {
   "cell_type": "code",
   "execution_count": null,
   "metadata": {
    "collapsed": false
   },
   "outputs": [],
   "source": []
  },
  {
   "cell_type": "code",
   "execution_count": 162,
   "metadata": {
    "collapsed": false
   },
   "outputs": [],
   "source": [
    "original = np.array([[1,6,2],\n",
    "                    [2,12,5],\n",
    "                    [-1,-3,-1]])\n",
    "original_vector = np.array([[9],\n",
    "                           [-4],\n",
    "                           [17]])"
   ]
  },
  {
   "cell_type": "code",
   "execution_count": 164,
   "metadata": {
    "collapsed": false
   },
   "outputs": [
    {
     "data": {
      "text/plain": [
       "array([[-43.],\n",
       "       [ 16.],\n",
       "       [-22.]])"
      ]
     },
     "execution_count": 164,
     "metadata": {},
     "output_type": "execute_result"
    }
   ],
   "source": [
    "np.linalg.solve(original,original_vector)"
   ]
  },
  {
   "cell_type": "code",
   "execution_count": 165,
   "metadata": {
    "collapsed": false
   },
   "outputs": [],
   "source": [
    "#The solutions match so the answer is correct"
   ]
  },
  {
   "cell_type": "code",
   "execution_count": null,
   "metadata": {
    "collapsed": false
   },
   "outputs": [],
   "source": []
  },
  {
   "cell_type": "code",
   "execution_count": null,
   "metadata": {
    "collapsed": false
   },
   "outputs": [],
   "source": []
  },
  {
   "cell_type": "code",
   "execution_count": null,
   "metadata": {
    "collapsed": true
   },
   "outputs": [],
   "source": []
  }
 ],
 "metadata": {
  "anaconda-cloud": {},
  "kernelspec": {
   "display_name": "Python [Root]",
   "language": "python",
   "name": "Python [Root]"
  },
  "language_info": {
   "codemirror_mode": {
    "name": "ipython",
    "version": 3
   },
   "file_extension": ".py",
   "mimetype": "text/x-python",
   "name": "python",
   "nbconvert_exporter": "python",
   "pygments_lexer": "ipython3",
   "version": "3.5.2"
  }
 },
 "nbformat": 4,
 "nbformat_minor": 1
}
