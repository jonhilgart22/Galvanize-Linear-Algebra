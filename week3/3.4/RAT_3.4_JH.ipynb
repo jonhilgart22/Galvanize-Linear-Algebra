{
 "cells": [
  {
   "cell_type": "markdown",
   "metadata": {},
   "source": [
    "# RAT 3.4\n",
    "\n",
    "1) Suppose $A$ is a linear map described as a matrix. What is the relationship of $im(A^{T})$ to A?\n"
   ]
  },
  {
   "cell_type": "markdown",
   "metadata": {},
   "source": [
    "The image of a matrix is the number of linearly independent column vectors that make up matrix A. Both of these matrices will have the same column span, and therefore they will both provide solutions in the same plane. \n"
   ]
  },
  {
   "cell_type": "markdown",
   "metadata": {},
   "source": [
    "2) Let $\\vec{v} = \\begin{bmatrix} v_1\\\\v_2\\\\v_3 \\end{bmatrix}$,  $\\vec{u} = \\begin{bmatrix} u_1 & u_2  & u_3 \\end{bmatrix}$ \n",
    "\n",
    "    a) Is the inner product $\\vec{u}\\vec{v}$ defined? If so what is the value of this product?\n",
    "    \n",
    "    b) Is the inner product $\\vec{v}\\vec{u}$ defined? If so what is the value of this product?\n",
    "    \n",
    "    c) Is the inner product $\\vec{v^{T}}\\vec{u^{T}}$ defined? If so what is the value of this product?\n",
    "    \n",
    "    d) In your own words, what is the meaning of the dot or inner product between two vectors?\n",
    "    \n",
    "    "
   ]
  },
  {
   "cell_type": "markdown",
   "metadata": {
    "collapsed": true
   },
   "source": [
    "$\\vec{u}\\vec{v}$\n",
    "\n",
    "$\\vec{v}\\vec{u}$ \n",
    "\n",
    "$\\vec{v^{T}}\\vec{u^{T}}$"
   ]
  },
  {
   "cell_type": "markdown",
   "metadata": {},
   "source": [
    "A) Yes the inner product is defined. The value is V1$*$U1+V2$*$U2+V3$*$U3"
   ]
  },
  {
   "cell_type": "markdown",
   "metadata": {},
   "source": [
    "B) Yes the inner product is defined. The value is \n",
    "\n",
    "V1$*$U1 , V1$*$U2, V1$*$U3\n",
    "\n",
    "V2$*$U1 , V2$*$U2, V2$*$U3\n",
    "\n",
    "V3$*$U1 , V3$*$U2, V3$*$U3"
   ]
  },
  {
   "cell_type": "markdown",
   "metadata": {},
   "source": [
    "C) Yes the inner product is defined. $V1*U1 + V2*U2 + V3*U3 $. "
   ]
  },
  {
   "cell_type": "markdown",
   "metadata": {},
   "source": [
    "D) The dot product shows you the angle between two vectors when you multiply them togther. This is why you use use the dot product to find orthogonal vectors, since the dot product = 0 the angle is 90 degrees."
   ]
  },
  {
   "cell_type": "code",
   "execution_count": null,
   "metadata": {
    "collapsed": true
   },
   "outputs": [],
   "source": []
  }
 ],
 "metadata": {
  "kernelspec": {
   "display_name": "Python [Root]",
   "language": "python",
   "name": "Python [Root]"
  },
  "language_info": {
   "codemirror_mode": {
    "name": "ipython",
    "version": 3
   },
   "file_extension": ".py",
   "mimetype": "text/x-python",
   "name": "python",
   "nbconvert_exporter": "python",
   "pygments_lexer": "ipython3",
   "version": "3.5.2"
  }
 },
 "nbformat": 4,
 "nbformat_minor": 0
}
