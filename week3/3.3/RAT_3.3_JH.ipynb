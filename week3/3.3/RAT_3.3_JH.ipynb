{
 "cells": [
  {
   "cell_type": "markdown",
   "metadata": {},
   "source": [
    "# RAT 3.3"
   ]
  },
  {
   "cell_type": "markdown",
   "metadata": {},
   "source": [
    "1) Diagonalize $A = \\begin{bmatrix}2 & 7\\\\-1 & -6 \\end{bmatrix}$"
   ]
  },
  {
   "cell_type": "markdown",
   "metadata": {
    "collapsed": true
   },
   "source": [
    "$A = P * D * P ^ -1$\n",
    "\n",
    "find eigenvalues\n",
    "\n",
    "1) [ (2-L) ,   7 ] \n",
    "    [-1,    (-6-L) ]\n",
    "    \n",
    "-set DET = 0\n",
    "\n",
    "$(2-L)(-6-L) - (7 * -1)$ =>  (L^2 + 4L -12) + 7  => L^2 + 4L - 5 => (L + 5 )( L - 1)\n",
    "\n",
    "L1 = -5\n",
    "\n",
    "L2 = 1\n",
    "\n",
    "- Find the eigenvector associated with L1 = -5. Plug back into the matrix and solve.\n",
    "\n",
    "(2--5)x + 7y = 0   => 7x + 7y  = 0 => **x = -y**\n",
    "-1x + (-6--5)y = 0 => -x - y =>  **x = -y**\n",
    "\n",
    "### Eigenvector associated with L1 = -5 is [-1,1] T\n",
    "\n",
    "- Find the eigenvector associated with L2 = 1.\n",
    "\n",
    "(2-1)x + 7y = 0 => **x = -7y**\n",
    "-x + (-6-1)y = 0 =>  -x -7y = 0 => ** x = -7y**\n",
    "\n",
    "### Eigenvector associated with L2 = 1 is [-7,1] T\n",
    "\n",
    "- Next, to Diagonalize you need to set  $A = P * D * P ^ -1$\n",
    "\n",
    "P  =$ \\begin{bmatrix} -1 & -7\\\\1 & 1 \\end{bmatrix}$\n",
    "    \n",
    "Now, need to find P^-1.\n",
    "\n",
    "Using the general inverse property P^-1 = 1/det(P) $*$ Cofactor_of_P.Transposed\n",
    "\n",
    "Cofactor matrix of P is =$ \\begin{bmatrix} 1 & -1\\\\7 & -1 \\end{bmatrix}$\n",
    "\n",
    "Det(P) =$ (-1 * 1) - (-7 * 1) => -1 + 7$ =**6**\n",
    "\n",
    "Cofactor matrix of P transposed and multipled by 1/6 = P^-1\n",
    "\n",
    "P^-1 =$ \\begin{bmatrix} 1/6 & 7/6\\\\-1/6 & -1/6 \\end{bmatrix}$\n",
    "\n",
    "- Next, write out the diagonalization of A\n",
    "\n",
    "## A = $ \\begin{bmatrix} 1 & -1\\\\7 & -1 \\end{bmatrix}$ $*$ $ \\begin{bmatrix} -5 & 0\\\\0 & 1 \\end{bmatrix}$ $*$ $ \\begin{bmatrix} -1/6 & - 7/6\\\\1/6 & 1/6 \\end{bmatrix}$ . T\n"
   ]
  },
  {
   "cell_type": "markdown",
   "metadata": {},
   "source": [
    "2) Compute $A^{50}$"
   ]
  },
  {
   "cell_type": "markdown",
   "metadata": {
    "collapsed": true
   },
   "source": [
    "A^50 = $ P * D^ (50) * P^-1$\n",
    "\n",
    "A^50 = $ \\begin{bmatrix} 1 & -1\\\\7 & -1 \\end{bmatrix}$ $*$ $ \\begin{bmatrix} -5^ (50) & 0\\\\0 & 1^ ( 50) \\end{bmatrix}$ $*$ $ \\begin{bmatrix} -1/6 & -7/6\\\\1/6 & 1/6 \\end{bmatrix}$"
   ]
  },
  {
   "cell_type": "code",
   "execution_count": 13,
   "metadata": {
    "collapsed": false
   },
   "outputs": [
    {
     "data": {
      "text/plain": [
       "-88817841970012523233890533447265625"
      ]
     },
     "execution_count": 13,
     "metadata": {},
     "output_type": "execute_result"
    }
   ],
   "source": [
    "-5**50"
   ]
  },
  {
   "cell_type": "code",
   "execution_count": null,
   "metadata": {
    "collapsed": false
   },
   "outputs": [],
   "source": []
  },
  {
   "cell_type": "code",
   "execution_count": null,
   "metadata": {
    "collapsed": false
   },
   "outputs": [],
   "source": []
  },
  {
   "cell_type": "code",
   "execution_count": null,
   "metadata": {
    "collapsed": false
   },
   "outputs": [],
   "source": []
  },
  {
   "cell_type": "code",
   "execution_count": null,
   "metadata": {
    "collapsed": false
   },
   "outputs": [],
   "source": []
  },
  {
   "cell_type": "code",
   "execution_count": null,
   "metadata": {
    "collapsed": true
   },
   "outputs": [],
   "source": []
  }
 ],
 "metadata": {
  "kernelspec": {
   "display_name": "Python [Root]",
   "language": "python",
   "name": "Python [Root]"
  },
  "language_info": {
   "codemirror_mode": {
    "name": "ipython",
    "version": 3
   },
   "file_extension": ".py",
   "mimetype": "text/x-python",
   "name": "python",
   "nbconvert_exporter": "python",
   "pygments_lexer": "ipython3",
   "version": "3.5.2"
  }
 },
 "nbformat": 4,
 "nbformat_minor": 0
}
