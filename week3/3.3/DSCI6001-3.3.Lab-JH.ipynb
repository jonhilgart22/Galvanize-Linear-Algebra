{
 "cells": [
  {
   "cell_type": "markdown",
   "metadata": {},
   "source": [
    "# DSCI 6001 - 3.3 Lab: LU Factorization II\n",
    "\n",
    "Today we are going to code up the algorithm that you wrote down yesterday using the scaffold provided below. Simply follow the prompts. \n",
    "\n",
    "You might find [this](http://nucinkis-lab.cc.ic.ac.uk/HELM/workbooks/workbook_30/30_3_lu_decomposition.pdf) helpful for reviewing LU decomposition.\n"
   ]
  },
  {
   "cell_type": "code",
   "execution_count": 8,
   "metadata": {
    "collapsed": true
   },
   "outputs": [],
   "source": [
    "import numpy as np\n",
    "import pprint"
   ]
  },
  {
   "cell_type": "code",
   "execution_count": 4,
   "metadata": {
    "collapsed": false
   },
   "outputs": [
    {
     "ename": "IndentationError",
     "evalue": "expected an indented block (<ipython-input-4-22e88b440966>, line 32)",
     "output_type": "error",
     "traceback": [
      "\u001b[0;36m  File \u001b[0;32m\"<ipython-input-4-22e88b440966>\"\u001b[0;36m, line \u001b[0;32m32\u001b[0m\n\u001b[0;31m    return id_mat\u001b[0m\n\u001b[0m    ^\u001b[0m\n\u001b[0;31mIndentationError\u001b[0m\u001b[0;31m:\u001b[0m expected an indented block\n"
     ]
    }
   ],
   "source": [
    "\n",
    "\n",
    "def mult_matrix(M, N):\n",
    "    \"\"\"Multiply square matrices of same dimension M and N\"\"\"\n",
    "    \n",
    "    \"\"\"C = AB - also recall the matrix multiplication formula\"\"\"\n",
    "    \n",
    "    return C\n",
    "\n",
    "def pivot_matrix(M):\n",
    "    \"\"\"Returns the pivoting matrix P for M, as used in Doolittle's method.\"\"\"\n",
    "    m = len(M)\n",
    "\n",
    "    # *Create an identity matrix, with floating point values. You may use numpy\n",
    "    \n",
    "    # id_mat = ?\n",
    "\n",
    "    # Rearrange the identity matrix such that the largest element of                                                                                                                                                                                   \n",
    "    # each column of M is placed on the diagonal of of M\n",
    "    \n",
    "    # for every row in the input matrix\n",
    "    for j in xrange(m):\n",
    "        # *find the row with the biggest element in column j (so we are looking for the diagonal elements M[j,j])\n",
    "        # *we do not want to be swapping with rows above this one, just the rows below it.\n",
    "        \n",
    "        \n",
    "        if j != row: #if this row is not the row with the next biggest diagonal element\n",
    "            \n",
    "            # *Swap the rows of the id matrix                                                \n",
    "\n",
    "    return id_mat\n",
    "\n",
    "def LU_decompose(PA, L, U, n):\n",
    "    \"\"\"Performs the actual LU decomposition using the standard formula\"\"\"\n",
    "    for j in xrange(n):\n",
    "        \n",
    "        # All diagonal entries of L are first set to 1, you may use numpy to do this as well.                                                                                                                                                                                                \n",
    "        \n",
    "\n",
    "        # *Encode the following logic:\n",
    "        # *LaTeX: $u_{ij} = a_{ij} - \\sum_{k=1}^{i-1} u_{kj} l_{ik}$                                                                                                                                                                                     \n",
    "        for i in xrange(j+1):\n",
    "            pass\n",
    "\n",
    "        # *Encode the following logic:\n",
    "        # *LaTeX: $l_{ij} = \\frac{1}{u_{jj}} (a_{ij} - \\sum_{k=1}^{j-1} u_{kj} l_{ik} )$                                                                                                                                                                  \n",
    "        for i in xrange(j, n):\n",
    "            pass\n",
    "        \n",
    "        \n",
    "    return L, U\n",
    "\n",
    "def lu_decomposition(A):\n",
    "    \"\"\"Performs an LU Decomposition of A (which must be square)                                                                                                                                                                                        \n",
    "    into PA = LU. The function returns P, L and U.\"\"\"\n",
    "    n = len(A)\n",
    "\n",
    "    # * Create zero matrices for L and U or use np.zeros(())                                                                                                                                                                                                                \n",
    "    # L = ?\n",
    "    # U = ?\n",
    "\n",
    "    # Create the pivot matrix P and the matrix product PA                                                                                                                                                                                            \n",
    "    P = pivot_matrix(A)\n",
    "    PA = mult_matrix(P, A)\n",
    "    # Decompose\n",
    "    L, U = LU_decompose(PA, L, U, n)\n",
    "    \n",
    "    return (P, L, U)\n",
    "\n",
    "\n",
    "A = [[7, 3, -1, 2], [3, 8, 1, -4], [-1, 1, 4, -1], [2, -4, -1, 6]]\n",
    "P, L, U = lu_decomposition(A)\n",
    "\n",
    "print(\"A:\")\n",
    "pprint.pprint(A)\n",
    "\n",
    "print(\"P:\")\n",
    "pprint.pprint(P)\n",
    "\n",
    "print(\"L:\")\n",
    "pprint.pprint(L)\n",
    "\n",
    "print(\"U:\")\n",
    "pprint.pprint(U)"
   ]
  },
  {
   "cell_type": "code",
   "execution_count": 12,
   "metadata": {
    "collapsed": false
   },
   "outputs": [],
   "source": [
    "import numpy as np\n",
    "import pprint\n",
    "\n",
    "\n",
    "def mult_matrix(M, N):\n",
    "    \"\"\"Multiply square matrices of same dimension M and N\"\"\"\n",
    "    \n",
    "    \"\"\"C = AB - also recall the matrix multiplication formula\"\"\"\n",
    "    if np.shape(M)==np.shape(N):\n",
    "        C = M.dot(N)\n",
    "        return C\n",
    "\n"
   ]
  },
  {
   "cell_type": "code",
   "execution_count": 240,
   "metadata": {
    "collapsed": false
   },
   "outputs": [
    {
     "data": {
      "text/plain": [
       "array([[634836,   -930,   -726,   1797],\n",
       "       [ -8448,   1143,    432,    -51],\n",
       "       [ -2131,    647,   1695,    -16],\n",
       "       [ 14743,    505,   -721,    629]])"
      ]
     },
     "execution_count": 240,
     "metadata": {},
     "output_type": "execute_result"
    }
   ],
   "source": [
    "B =  np.array([[7, 3, -1, 299], [3, 8, 1, -4], [-1, 1, 4, -1], [288, -4, -1, 6]])\n",
    "C = np.array([[7, 4, -1, 2], [3, 123, 1, -4], [-1, 131, 423, -1], [2123, -4, -1, 6]])\n",
    "\n",
    "mult_matrix(B,C)"
   ]
  },
  {
   "cell_type": "code",
   "execution_count": 205,
   "metadata": {
    "collapsed": false
   },
   "outputs": [],
   "source": [
    "def pivot_matrix(M):\n",
    "    \"\"\"Returns the pivoting matrix P for M, as used in Doolittle's method.\"\"\"\n",
    "    m = len(M)\n",
    "\n",
    "    # *Create an identity matrix, with floating point values. You may use numpy\n",
    "    \n",
    "    id_mat = np.identity(m,dtype=float)\n",
    "    \n",
    "    # id_mat = ?\n",
    "\n",
    "    # Rearrange the identity matrix such that the largest element of                                                                                                                                                                                   \n",
    "    # each column of M is placed on the diagonal of our M\n",
    "    \n",
    "    \n",
    "    \n",
    "    # for every row in the input matrix\n",
    "    for j in range(m):\n",
    "        #print(j)\n",
    "        \n",
    "        # *find the row with the biggest element in column j (so we are looking for the diagonal elements M[j,j])\n",
    "        \n",
    "        max_number_per_column = max(abs(M[:,j]))\n",
    "        #print(M[j])\n",
    "        \n",
    "        row_number_of_max_number_per_column = [item for item in range(j,(m)) if max_number_per_column in (M[item]) ]\n",
    "\n",
    "        \n",
    "        if j != row_number_of_max_number_per_column: #if this row is not the row with the next biggest diagonal element\n",
    "            # *Swap the rows of the id matrix  \n",
    "            #a[:,0,0], b[:, 0, 0] = b[:, 0, 0], a[:, 0, 0].copy() #swap\n",
    "            \n",
    "            \n",
    "            if (m-j)>1:\n",
    "                #print(id_mat[j], ' row j')\n",
    "                #print(id_mat[row_number_of_max_number_per_column],'row number of max number in column')\n",
    "            \n",
    "                #print(id_mat[[j,row_number_of_max_number_per_column]] , ' swapping' )\n",
    "                \n",
    "                ##This swaps rows, you need to take a copy of the \n",
    "                id_mat[j],id_mat[row_number_of_max_number_per_column] = id_mat[row_number_of_max_number_per_column],id_mat[j].copy()\n",
    "                #print(id_mat, 'id mat should be swapped')   \n",
    "            else:\n",
    "                return id_mat\n",
    "            ##pass\n",
    "            # *Swap the rows of the id matrix                                                \n",
    "\n",
    "    \n",
    "\n"
   ]
  },
  {
   "cell_type": "code",
   "execution_count": 206,
   "metadata": {
    "collapsed": false
   },
   "outputs": [
    {
     "data": {
      "text/plain": [
       "array([[ 0.,  0.,  0.,  1.],\n",
       "       [ 0.,  0.,  1.,  0.],\n",
       "       [ 0.,  1.,  0.,  0.],\n",
       "       [ 1.,  0.,  0.,  0.]])"
      ]
     },
     "execution_count": 206,
     "metadata": {},
     "output_type": "execute_result"
    }
   ],
   "source": [
    "#print(B)\n",
    "#print(pivot_matrix(B).dot(B))\n",
    "\n",
    "pivot_matrix(C)\n",
    "\n",
    "##Checking it out, it swaps the rows of B"
   ]
  },
  {
   "cell_type": "markdown",
   "metadata": {},
   "source": [
    "$u_{ij} = a_{ij} - \\sum_{k=1}^{i-1} u_{kj} l_{ik}$ "
   ]
  },
  {
   "cell_type": "markdown",
   "metadata": {},
   "source": [
    "$l_{ij} = \\frac{1}{u_{jj}} (a_{ij} - \\sum_{k=1}^{j-1} u_{kj} l_{ik} )$ "
   ]
  },
  {
   "cell_type": "code",
   "execution_count": 243,
   "metadata": {
    "collapsed": false
   },
   "outputs": [],
   "source": [
    "def LU_decompose(PA, L, U, n):\n",
    "    \"\"\"Performs the actual LU decomposition using the standard formula\"\"\"\n",
    "    L = np.identity(n)\n",
    "    U = np.zeros(n)\n",
    "    \n",
    "    #U = np.zeros(n)\n",
    "   \n",
    "        \n",
    "    for j in range(n):\n",
    "        #print(j,'j')\n",
    "        # All diagonal entries of L are first set to 1, you may use numpy to do this as well.                                                                                                                                                                                                \n",
    "\n",
    "        # *Encode the following logic:\n",
    "        # *LaTeX: $u_{ij} = a_{ij} - \\sum_{k=1}^{i-1} u_{kj} l_{ik}$  \n",
    "        \n",
    "        for i in range(j+1): ## for the rows\n",
    "            s1 =0\n",
    "            for k in range(i):\n",
    "                s1 += U[[k],[j]] *L[[i],[k]] \n",
    "                   \n",
    "            U[[i],[j]] = PA[[i],[j]]- s1\n",
    "            \n",
    "           \n",
    "            \n",
    "            #print(U)\n",
    "            \n",
    "            \n",
    "        # *Encode the following logic:\n",
    "        # *LaTeX: $l_{ij} = \\frac{1}{u_{jj}} (a_{ij} - \\sum_{k=1}^{j-1} u_{kj} l_{ik} )$                                                                                                                                                                  \n",
    "        for i in range(j, n):\n",
    "            s2=0\n",
    "            for k in range(j):\n",
    "                s2 += U[[k],[j]] * L[[i],[k]]\n",
    "                       \n",
    "            L[[i],[j]] = (PA[[i],[j]] - s2) / U[[j],[j]]\n",
    "        \n",
    "        \n",
    "    return L, U\n",
    "\n"
   ]
  },
  {
   "cell_type": "code",
   "execution_count": 238,
   "metadata": {
    "collapsed": false
   },
   "outputs": [],
   "source": [
    "# https://www.quantstart.com/articles/LU-Decomposition-in-Python-and-NumPy for the Decomposition"
   ]
  },
  {
   "cell_type": "code",
   "execution_count": 244,
   "metadata": {
    "collapsed": false
   },
   "outputs": [
    {
     "ename": "IndexError",
     "evalue": "too many indices for array",
     "output_type": "error",
     "traceback": [
      "\u001b[0;31m---------------------------------------------------------------------------\u001b[0m",
      "\u001b[0;31mIndexError\u001b[0m                                Traceback (most recent call last)",
      "\u001b[0;32m<ipython-input-244-37e4945e8e7e>\u001b[0m in \u001b[0;36m<module>\u001b[0;34m()\u001b[0m\n\u001b[1;32m     20\u001b[0m \u001b[0;34m\u001b[0m\u001b[0m\n\u001b[1;32m     21\u001b[0m \u001b[0;34m\u001b[0m\u001b[0m\n\u001b[0;32m---> 22\u001b[0;31m \u001b[0mP\u001b[0m\u001b[0;34m,\u001b[0m \u001b[0mL\u001b[0m\u001b[0;34m,\u001b[0m \u001b[0mU\u001b[0m \u001b[0;34m=\u001b[0m \u001b[0mlu_decomposition\u001b[0m\u001b[0;34m(\u001b[0m\u001b[0mA\u001b[0m\u001b[0;34m)\u001b[0m\u001b[0;34m\u001b[0m\u001b[0m\n\u001b[0m\u001b[1;32m     23\u001b[0m \u001b[0;34m\u001b[0m\u001b[0m\n\u001b[1;32m     24\u001b[0m \u001b[0mprint\u001b[0m\u001b[0;34m(\u001b[0m\u001b[0;34m\"A:\"\u001b[0m\u001b[0;34m)\u001b[0m\u001b[0;34m\u001b[0m\u001b[0m\n",
      "\u001b[0;32m<ipython-input-244-37e4945e8e7e>\u001b[0m in \u001b[0;36mlu_decomposition\u001b[0;34m(A)\u001b[0m\n\u001b[1;32m     14\u001b[0m     \u001b[0mPA\u001b[0m \u001b[0;34m=\u001b[0m \u001b[0mmult_matrix\u001b[0m\u001b[0;34m(\u001b[0m\u001b[0mP\u001b[0m\u001b[0;34m,\u001b[0m \u001b[0mA\u001b[0m\u001b[0;34m)\u001b[0m\u001b[0;34m\u001b[0m\u001b[0m\n\u001b[1;32m     15\u001b[0m     \u001b[0;31m# Decompose\u001b[0m\u001b[0;34m\u001b[0m\u001b[0;34m\u001b[0m\u001b[0m\n\u001b[0;32m---> 16\u001b[0;31m     \u001b[0mL\u001b[0m\u001b[0;34m,\u001b[0m \u001b[0mU\u001b[0m \u001b[0;34m=\u001b[0m \u001b[0mLU_decompose\u001b[0m\u001b[0;34m(\u001b[0m\u001b[0mPA\u001b[0m\u001b[0;34m,\u001b[0m \u001b[0mL\u001b[0m\u001b[0;34m,\u001b[0m \u001b[0mU\u001b[0m\u001b[0;34m,\u001b[0m \u001b[0mn\u001b[0m\u001b[0;34m)\u001b[0m\u001b[0;34m\u001b[0m\u001b[0m\n\u001b[0m\u001b[1;32m     17\u001b[0m \u001b[0;34m\u001b[0m\u001b[0m\n\u001b[1;32m     18\u001b[0m     \u001b[0;32mreturn\u001b[0m \u001b[0;34m(\u001b[0m\u001b[0mP\u001b[0m\u001b[0;34m,\u001b[0m \u001b[0mLower\u001b[0m\u001b[0;34m,\u001b[0m \u001b[0mU\u001b[0m\u001b[0;34m)\u001b[0m\u001b[0;34m\u001b[0m\u001b[0m\n",
      "\u001b[0;32m<ipython-input-243-0aa832938188>\u001b[0m in \u001b[0;36mLU_decompose\u001b[0;34m(PA, L, U, n)\u001b[0m\n\u001b[1;32m     19\u001b[0m                 \u001b[0ms1\u001b[0m \u001b[0;34m+=\u001b[0m \u001b[0mU\u001b[0m\u001b[0;34m[\u001b[0m\u001b[0;34m[\u001b[0m\u001b[0mk\u001b[0m\u001b[0;34m]\u001b[0m\u001b[0;34m,\u001b[0m\u001b[0;34m[\u001b[0m\u001b[0mj\u001b[0m\u001b[0;34m]\u001b[0m\u001b[0;34m]\u001b[0m \u001b[0;34m*\u001b[0m\u001b[0mL\u001b[0m\u001b[0;34m[\u001b[0m\u001b[0;34m[\u001b[0m\u001b[0mi\u001b[0m\u001b[0;34m]\u001b[0m\u001b[0;34m,\u001b[0m\u001b[0;34m[\u001b[0m\u001b[0mk\u001b[0m\u001b[0;34m]\u001b[0m\u001b[0;34m]\u001b[0m\u001b[0;34m\u001b[0m\u001b[0m\n\u001b[1;32m     20\u001b[0m \u001b[0;34m\u001b[0m\u001b[0m\n\u001b[0;32m---> 21\u001b[0;31m             \u001b[0mU\u001b[0m\u001b[0;34m[\u001b[0m\u001b[0;34m[\u001b[0m\u001b[0mi\u001b[0m\u001b[0;34m]\u001b[0m\u001b[0;34m,\u001b[0m\u001b[0;34m[\u001b[0m\u001b[0mj\u001b[0m\u001b[0;34m]\u001b[0m\u001b[0;34m]\u001b[0m \u001b[0;34m=\u001b[0m \u001b[0mPA\u001b[0m\u001b[0;34m[\u001b[0m\u001b[0;34m[\u001b[0m\u001b[0mi\u001b[0m\u001b[0;34m]\u001b[0m\u001b[0;34m,\u001b[0m\u001b[0;34m[\u001b[0m\u001b[0mj\u001b[0m\u001b[0;34m]\u001b[0m\u001b[0;34m]\u001b[0m\u001b[0;34m-\u001b[0m \u001b[0ms1\u001b[0m\u001b[0;34m\u001b[0m\u001b[0m\n\u001b[0m\u001b[1;32m     22\u001b[0m \u001b[0;34m\u001b[0m\u001b[0m\n\u001b[1;32m     23\u001b[0m \u001b[0;34m\u001b[0m\u001b[0m\n",
      "\u001b[0;31mIndexError\u001b[0m: too many indices for array"
     ]
    }
   ],
   "source": [
    "A = np.array([[7, 3, -1, 2], [3, 8, 1, -4], [-1, 1, 4, -1], [2, -4, -1, 6]])\n",
    "             \n",
    "def lu_decomposition(A):\n",
    "    \"\"\"Performs an LU Decomposition of A (which must be square)                                                                                                                                                                                        \n",
    "    into PA = LU. The function returns P, L and U.\"\"\"\n",
    "    n = len(A)\n",
    "\n",
    "    # * Create zero matrices for L and U or use np.zeros(())                                                                                                                                                                                                                \n",
    "    L = np.zeros(n)\n",
    "    U = np.zeros(n)\n",
    "\n",
    "    # Create the pivot matrix P and the matrix product PA                                                                                                                                                                                            \n",
    "    P = pivot_matrix(A)\n",
    "    PA = mult_matrix(P, A)\n",
    "    # Decompose\n",
    "    L, U = LU_decompose(PA, L, U, n)\n",
    "    \n",
    "    return (P, Lower, U)\n",
    "\n",
    "\n",
    "\n",
    "P, L, U = lu_decomposition(A)\n",
    "\n",
    "print(\"A:\")\n",
    "pprint.pprint(A)\n",
    "\n",
    "print(\"P:\")\n",
    "pprint.pprint(P)\n",
    "\n",
    "print(\"L:\")\n",
    "pprint.pprint(L)\n",
    "\n",
    "print(\"U:\")\n",
    "pprint.pprint(U)"
   ]
  },
  {
   "cell_type": "code",
   "execution_count": 245,
   "metadata": {
    "collapsed": false
   },
   "outputs": [
    {
     "data": {
      "text/plain": [
       "array([[ 7,  3, -1,  2],\n",
       "       [ 3,  8,  1, -4],\n",
       "       [-1,  1,  4, -1],\n",
       "       [ 2, -4, -1,  6]])"
      ]
     },
     "execution_count": 245,
     "metadata": {},
     "output_type": "execute_result"
    }
   ],
   "source": [
    "A"
   ]
  },
  {
   "cell_type": "code",
   "execution_count": 246,
   "metadata": {
    "collapsed": false
   },
   "outputs": [
    {
     "data": {
      "text/plain": [
       "array([7])"
      ]
     },
     "execution_count": 246,
     "metadata": {},
     "output_type": "execute_result"
    }
   ],
   "source": [
    "A[[0],[0]]"
   ]
  },
  {
   "cell_type": "code",
   "execution_count": null,
   "metadata": {
    "collapsed": true
   },
   "outputs": [],
   "source": []
  }
 ],
 "metadata": {
  "anaconda-cloud": {},
  "kernelspec": {
   "display_name": "Python [Root]",
   "language": "python",
   "name": "Python [Root]"
  },
  "language_info": {
   "codemirror_mode": {
    "name": "ipython",
    "version": 3
   },
   "file_extension": ".py",
   "mimetype": "text/x-python",
   "name": "python",
   "nbconvert_exporter": "python",
   "pygments_lexer": "ipython3",
   "version": "3.5.2"
  }
 },
 "nbformat": 4,
 "nbformat_minor": 0
}
