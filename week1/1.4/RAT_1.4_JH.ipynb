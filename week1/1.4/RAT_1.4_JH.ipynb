{
 "cells": [
  {
   "cell_type": "markdown",
   "metadata": {},
   "source": [
    "# RAT 1.4\n",
    "\n",
    "1. C, A and B are all matrices and $C = AB$. Suppose C is invertible. Write down an expression for $C^{-1}$ in terms of $A$ and $B$\n",
    "2. How does Gauss elimination differ from Gauss-Jordan elimination?"
   ]
  },
  {
   "cell_type": "code",
   "execution_count": 50,
   "metadata": {
    "collapsed": false
   },
   "outputs": [
    {
     "name": "stdout",
     "output_type": "stream",
     "text": [
      "[[-0.33333333  0.33333333]\n",
      " [ 0.375      -0.25      ]]\n",
      "[[-0.33333333  0.33333333]\n",
      " [ 0.375      -0.25      ]]\n"
     ]
    }
   ],
   "source": [
    "#1) C = A*B\n",
    "#If C is invertible then det != 0  and C^-1 = Cofactor matrix transposed^T\n",
    "#IF C = AB  then (AB)^-1 = B^-1 * A^-1 . Therefore, C ^ -1 = B ^ -1 * A ^ -1\n",
    "\n",
    "\n",
    "import numpy as np\n",
    "\n",
    "A = np.asarray([[2,4],[3,2]])\n",
    "\n",
    "Ainv = np.linalg.inv(A)\n",
    "\n",
    "B= np.asarray([[3,2],\n",
    "             [0,1]])\n",
    "\n",
    "Binv = np.linalg.inv(B)\n",
    "\n",
    "C = A.dot(B)\n",
    "Cinv = np.linalg.inv(C)\n",
    "\n",
    "\n",
    "print(Cinv)\n",
    "print((Binv.dot(Ainv)))\n",
    "#print(B)\n",
    "\n",
    "assert np.allclose(Cinv,(Binv.dot(Ainv)))\n"
   ]
  },
  {
   "cell_type": "markdown",
   "metadata": {},
   "source": [
    "2) Gauss elimination teaches us to put a matrix into row echelon form. Gauss-Jordan instructs us to put a matrix into\n",
    "reduced row echelon form.\n",
    "Row echelon form - all 'pivot' columns have zeros below them\n",
    "Reduced row echelon form - each 'pivot' is the only non zero in it's column\n",
    "\n",
    "    Once a matrix is in row echelon form, (Gauss elimination), you can do back substitution to find the answer for linear systems. IF a matrix is in reduced row echelon form (Gauss-Jordan elimination), you can find the inverse of the matrix by using an augmented matrix with the identitfy matrix to the left of the original matrix. In Gauss-Jordan, you can always find the solution set to the linear system directly from the final reduced row echelon form matrix by using the numbers in the pivot columns."
   ]
  },
  {
   "cell_type": "code",
   "execution_count": null,
   "metadata": {
    "collapsed": true
   },
   "outputs": [],
   "source": []
  }
 ],
 "metadata": {
  "anaconda-cloud": {},
  "kernelspec": {
   "display_name": "Python [Root]",
   "language": "python",
   "name": "Python [Root]"
  },
  "language_info": {
   "codemirror_mode": {
    "name": "ipython",
    "version": 3
   },
   "file_extension": ".py",
   "mimetype": "text/x-python",
   "name": "python",
   "nbconvert_exporter": "python",
   "pygments_lexer": "ipython3",
   "version": "3.5.2"
  }
 },
 "nbformat": 4,
 "nbformat_minor": 0
}
