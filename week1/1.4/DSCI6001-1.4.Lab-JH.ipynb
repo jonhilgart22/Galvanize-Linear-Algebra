{
 "cells": [
  {
   "cell_type": "markdown",
   "metadata": {},
   "source": [
    "# DSCI6001 1.4.Lab (Graded)\n",
    "\n",
    "This will be a graded laboratory assignment of approximately 30 minutes.\n",
    "\n",
    "In yesterday's lecture you were assigned from Kreyszig 9th ed.\n",
    "\n",
    "#### Reading \n",
    "* 7.4, 7.5, 7.7\n",
    "\n",
    "#### Problems \n",
    "* 7.4: 1, 3, 7, 11, 15, 19, 27, 33, 35\n",
    "* 7.7: 5, 7, 11, 14, 19, 21\n",
    "\n",
    "If you have completed the above assigments, you may proceed with the lab.\n",
    "\n",
    "## Lab\n",
    "\n",
    "Solve using Python. Hint: search the numpy documentation.\n",
    "\n",
    "1. Write a Python function `randomat` that returns a random square numpy matrix of integers of given dimension n. The integers should be between -1 and 3. \n",
    "\n",
    "2. Create a list containing 50 `randomat` 3x3 matrices. Make a copy of the list, in the form of a Pandas `Series`. Hint: Solution provided below.\n",
    "\n",
    "3. Create a list of the the 50 *determinants* of the 50 matrices. Make a copy of the list, in the form of a Pandas `Series`.\n",
    "\n",
    "4.  Create a list of the the 50 *ranks* of the 50 matrices. Make a copy of the list, in the form of a Pandas `Series`.\n",
    "\n",
    "5. Extract two suitable matrices from your array into variables A and B, then write assertions to test the following Inversion Properties:\n",
    "\n",
    "    1. $({\\bf A}^{-1})^{-1} = {\\bf A}$\n",
    "    2. $({\\bf AB})^{-1} = {\\bf B}^{-1} {\\bf A}^{-1}$  Hint: Solution below\n",
    "    3. $|{\\bf AB}| = |{\\bf A}| ~ |{\\bf B}| = |{\\bf BA}|$\n",
    "    4. $|{\\bf A}^T| = |{\\bf A}|$\n",
    "    5. $|{\\bf A}^{-1}| = \\frac{1}{|{\\bf A}|}$\n",
    "    \n",
    "6. Exactly how many of your randomly generated matrices were unsuitable for exercise 5. What makes them unsuitable? \n"
   ]
  },
  {
   "cell_type": "code",
   "execution_count": 68,
   "metadata": {
    "collapsed": false
   },
   "outputs": [
    {
     "data": {
      "text/plain": [
       "array([[ 1,  1],\n",
       "       [-1,  1]])"
      ]
     },
     "execution_count": 68,
     "metadata": {},
     "output_type": "execute_result"
    }
   ],
   "source": [
    "import numpy as np\n",
    "\n",
    "def randomat(dimension):\n",
    "    #B= np.asarray([[]])\n",
    "\n",
    "    return np.asarray([[np.random.randint(-1,3) for item in range(dimension)] for item in range(dimension)])\n",
    "    \n",
    "    #return B\n",
    "    \n",
    "a = np.random.randint(-1,3)\n",
    "\n",
    "randomat(2)"
   ]
  },
  {
   "cell_type": "markdown",
   "metadata": {},
   "source": [
    "# Question Two\n",
    "Create a list containing 50 randomat 3x3 matrices. Make a copy of the list, \n",
    "in the form of a Pandas Series. Hint: Solution provided below."
   ]
  },
  {
   "cell_type": "code",
   "execution_count": 69,
   "metadata": {
    "collapsed": false
   },
   "outputs": [
    {
     "name": "stdout",
     "output_type": "stream",
     "text": [
      "0     [[2, 0, 1], [-1, 1, 1], [2, 2, -1]]\n",
      "1    [[-1, 1, -1], [-1, 1, 0], [2, 2, 0]]\n",
      "2       [[2, 1, 0], [2, 1, 0], [2, 1, 2]]\n",
      "3       [[2, 0, 0], [2, 0, 1], [2, 1, 0]]\n",
      "4      [[2, 0, -1], [1, 2, 0], [2, 2, 0]]\n",
      "dtype: object\n"
     ]
    }
   ],
   "source": [
    "import pandas as pd\n",
    "\n",
    "# 2. You can use a for loop, or here is a solution using a list comprehension\n",
    "matrix_list = [randomat(3) for _ in range(50)]\n",
    "\n",
    "# Convert the list into a Series. Both forms have their uses.\n",
    "matrix_Series = pd.Series (matrix_list)\n",
    "\n",
    "print(matrix_Series.head())\n"
   ]
  },
  {
   "cell_type": "markdown",
   "metadata": {},
   "source": [
    "# Question Three\n",
    "Create a list of the the 50 determinants of the 50 matrices. Make a copy of the list, in the form of a Pandas Series."
   ]
  },
  {
   "cell_type": "code",
   "execution_count": 70,
   "metadata": {
    "collapsed": false
   },
   "outputs": [],
   "source": [
    "matrix_determinants = [np.linalg.det(a) for a in matrix_Series]\n",
    "#print(matrix_determinants)\n",
    "matrix_determinants_Series = pd.Series(matrix_determinants)"
   ]
  },
  {
   "cell_type": "markdown",
   "metadata": {},
   "source": [
    "# Question Four\n",
    "Create a list of the the 50 ranks of the 50 matrices. Make a copy of the list, in the form of a Pandas Series."
   ]
  },
  {
   "cell_type": "code",
   "execution_count": 71,
   "metadata": {
    "collapsed": false
   },
   "outputs": [],
   "source": [
    "matrix_rank = [np.linalg.matrix_rank(a) for a in matrix_Series]\n",
    "#print(matrix_rank)\n",
    "matrix_rank_Series = pd.Series(matrix_rank)"
   ]
  },
  {
   "cell_type": "code",
   "execution_count": 72,
   "metadata": {
    "collapsed": false
   },
   "outputs": [],
   "source": [
    "from numpy.linalg import det, inv\n",
    "from numpy import allclose\n",
    "#assert np.allclose(inv(A.dot(B)), Binv.dot(Ainv))\n",
    "\n"
   ]
  },
  {
   "cell_type": "markdown",
   "metadata": {},
   "source": [
    "# Question Five\n",
    "5. Extract two suitable matrices from your array into variables A and B, then write assertions to test the following Inversion Properties:\n",
    "\n",
    "    1. $({\\bf A}^{-1})^{-1} = {\\bf A}$\n",
    "    2. $({\\bf AB})^{-1} = {\\bf B}^{-1} {\\bf A}^{-1}$  Hint: Solution below\n",
    "    3. $|{\\bf AB}| = |{\\bf A}| ~ |{\\bf B}| = |{\\bf BA}|$\n",
    "    4. $|{\\bf A}^T| = |{\\bf A}|$\n",
    "    5. $|{\\bf A}^{-1}| = \\frac{1}{|{\\bf A}|}$\n",
    "    "
   ]
  },
  {
   "cell_type": "code",
   "execution_count": 131,
   "metadata": {
    "collapsed": false
   },
   "outputs": [
    {
     "name": "stdout",
     "output_type": "stream",
     "text": [
      "<class 'numpy.ndarray'> [[ 1 -1  2]\n",
      " [ 0 -1  1]\n",
      " [ 1 -1 -1]]\n",
      "(3, 3)\n"
     ]
    }
   ],
   "source": [
    "A = matrix_list[0]\n",
    "B = matrix_list[5]\n",
    "print(type(A),B)\n",
    "print(np.shape(A))"
   ]
  },
  {
   "cell_type": "code",
   "execution_count": 149,
   "metadata": {
    "collapsed": false
   },
   "outputs": [
    {
     "name": "stdout",
     "output_type": "stream",
     "text": [
      "All tests pass!\n"
     ]
    }
   ],
   "source": [
    "\n",
    "assert inv(inv(A)).all() == A.all() ##Property one\n",
    "assert inv(A.dot(B)).all() == inv(B).dot(inv(A)).all() ## property two\n",
    "\n",
    "R = det(B.dot(A))\n",
    "S = det(A)*det(B)\n",
    "T = det(A.dot(B))\n",
    "#print(R,S,T)\n",
    "assert np.allclose(R,S) ## Property three \n",
    "assert np.allclose(S,T)## Property three\n",
    "assert np.allclose(R,T) ## Property three\n",
    "\n",
    "assert np.allclose((det(A.T)), det(A)) #Property four\n",
    "\n",
    "assert np.allclose(det(inv(A)),1/det(A)) #Property five\n",
    "print('All tests pass!')\n"
   ]
  },
  {
   "cell_type": "markdown",
   "metadata": {},
   "source": [
    "# Question Six\n",
    "Exactly how many of your randomly generated matrices were unsuitable for exercise 5. What makes them unsuitable?\n",
    "In [68]:\n",
    "\n",
    ")\n",
    "import numpy as np"
   ]
  },
  {
   "cell_type": "code",
   "execution_count": 160,
   "metadata": {
    "collapsed": false
   },
   "outputs": [
    {
     "data": {
      "text/plain": [
       "('This number of matrices failed because their determinant == 0 or is undefined: ',\n",
       " 49)"
      ]
     },
     "execution_count": 160,
     "metadata": {},
     "output_type": "execute_result"
    }
   ],
   "source": [
    "def non_zero_det (matrix_list):\n",
    "    for count,matrix in enumerate(matrix_list):\n",
    "        B = np.asarray([[-1,3],\n",
    "                       [1,2]])\n",
    "        counter = 0 \n",
    "        try:\n",
    "            assert inv(inv(matrix_list[count])).all() == (matrix_list[count]).all() ##Property one\n",
    "            assert inv((matrix_list[count]).dot(B)).all() == inv(B).dot(inv(matrix_list[count])).all() ## property two\n",
    "\n",
    "            R = det(B.dot((matrix_list[count])))\n",
    "            S = det((matrix_list[count]))*det(B)\n",
    "            T = det((matrix_list[count]).dot(B))\n",
    "            #print(R,S,T)\n",
    "            assert np.allclose(R,S) ## Property three \n",
    "            assert np.allclose(S,T)## Property three\n",
    "            assert np.allclose(R,T) ## Property three\n",
    "\n",
    "            assert np.allclose((det((matrix_list[count]).T)), det((matrix_list[count]))) #Property four\n",
    "\n",
    "            assert np.allclose(det(inv((matrix_list[count]))),1/det((matrix_list[count]))) #Property five\n",
    "            print('All tests pass!')\n",
    "        except:\n",
    "            counter +=1\n",
    "\n",
    "    return('This number of matrices failed because their determinant == 0 or is undefined: ',count)\n",
    "non_zero_det(matrix_list)"
   ]
  },
  {
   "cell_type": "code",
   "execution_count": null,
   "metadata": {
    "collapsed": true
   },
   "outputs": [],
   "source": []
  }
 ],
 "metadata": {
  "anaconda-cloud": {},
  "kernelspec": {
   "display_name": "Python [Root]",
   "language": "python",
   "name": "Python [Root]"
  },
  "language_info": {
   "codemirror_mode": {
    "name": "ipython",
    "version": 3
   },
   "file_extension": ".py",
   "mimetype": "text/x-python",
   "name": "python",
   "nbconvert_exporter": "python",
   "pygments_lexer": "ipython3",
   "version": "3.5.2"
  }
 },
 "nbformat": 4,
 "nbformat_minor": 0
}
