{
 "cells": [
  {
   "cell_type": "markdown",
   "metadata": {},
   "source": [
    "# DSCI 6001 1.1 Lab\n",
    "\n",
    "\n",
    "## Applying Python Tools - Introduction to Numpy\n",
    "\n",
    "You can easily use python to execute the same vector-matrix operations performed in the homework. This lab is designed to help you get used to using Numerical Python or **numpy** to check your homework.\n",
    "\n",
    "In terms of evaluations, you need to be able to compute any operation **with or without** the use of a computer. This means that if we ask you to perform calculations in a test environment, you'll need to be able to **write out every step in the computation.**\n"
   ]
  },
  {
   "cell_type": "markdown",
   "metadata": {},
   "source": [
    "### Vectors and Vector Computations\n",
    "\n",
    "A vector in python might be represented with the standard **list**, where each element of the vector is given by the index of the list."
   ]
  },
  {
   "cell_type": "code",
   "execution_count": 1,
   "metadata": {
    "collapsed": true
   },
   "outputs": [],
   "source": [
    "vector = []\n",
    "v1 = [3.,5., 1.]\n",
    "v2 = [6., 3., 3.]"
   ]
  },
  {
   "cell_type": "markdown",
   "metadata": {},
   "source": [
    "However, the list has some failures in terms of its ability to perform vector mathematic operations. For example, we cannot perform a dot product with standard lists:"
   ]
  },
  {
   "cell_type": "code",
   "execution_count": 32,
   "metadata": {
    "collapsed": false
   },
   "outputs": [
    {
     "data": {
      "text/plain": [
       "array([[  9.,  15.,   3.],\n",
       "       [ 15.,  25.,   5.],\n",
       "       [  3.,   5.,   1.]])"
      ]
     },
     "execution_count": 32,
     "metadata": {},
     "output_type": "execute_result"
    }
   ],
   "source": [
    "v1*v2"
   ]
  },
  {
   "cell_type": "markdown",
   "metadata": {},
   "source": [
    "From the error message, we can't multiply lists by each other. However, let us use the power of numpy to **cast** each list into a new numpy **array**:"
   ]
  },
  {
   "cell_type": "code",
   "execution_count": 30,
   "metadata": {
    "collapsed": false
   },
   "outputs": [],
   "source": [
    "import numpy as np\n",
    "v1 = np.asarray(v1)\n",
    "v2 = np.asarray(v2)\n",
    "#v1.T"
   ]
  },
  {
   "cell_type": "markdown",
   "metadata": {},
   "source": [
    "Now we can perform the **standard vector mathematics operations** on this vector."
   ]
  },
  {
   "cell_type": "code",
   "execution_count": 31,
   "metadata": {
    "collapsed": false
   },
   "outputs": [
    {
     "name": "stdout",
     "output_type": "stream",
     "text": [
      "[[  9.  15.   3.]\n",
      " [ 15.  25.   5.]\n",
      " [  3.   5.   1.]]\n"
     ]
    }
   ],
   "source": [
    "v3 = v1*v2\n",
    "print (v3)"
   ]
  },
  {
   "cell_type": "markdown",
   "metadata": {},
   "source": [
    "This is the creation of the new vector:\n",
    "\n",
    "$$v_3 = v_{1i}*v_{2i}$$\n",
    "\n",
    "\n",
    "As you can see, this is precisely the same as the standard [**outer or row-by-column product**](http://docs.scipy.org/doc/numpy-1.10.0/reference/generated/numpy.outer.html). \n",
    "\n",
    "If we wanted the **dot** or **inner** product of the two vectors we would then .sum() them up."
   ]
  },
  {
   "cell_type": "code",
   "execution_count": 6,
   "metadata": {
    "collapsed": false
   },
   "outputs": [
    {
     "data": {
      "text/plain": [
       "36.0"
      ]
     },
     "execution_count": 6,
     "metadata": {},
     "output_type": "execute_result"
    }
   ],
   "source": [
    "v3 = v1*v2\n",
    "v3.sum()"
   ]
  },
  {
   "cell_type": "markdown",
   "metadata": {},
   "source": [
    "Because this set of operations and resulting abstraction is so natural, numpy has included the **dot** operation, which is more commonly used in practice:"
   ]
  },
  {
   "cell_type": "code",
   "execution_count": 33,
   "metadata": {
    "collapsed": false
   },
   "outputs": [
    {
     "data": {
      "text/plain": [
       "array([[ 35.]])"
      ]
     },
     "execution_count": 33,
     "metadata": {},
     "output_type": "execute_result"
    }
   ],
   "source": [
    "v1.dot(v2)"
   ]
  },
  {
   "cell_type": "markdown",
   "metadata": {},
   "source": [
    "## Using Numpy to perform vector operations\n",
    "\n",
    "To get numpy to handle two-dimensional (or multidimensional) vectors, we need to add the dimensions to the vector. Let's check the shape of a vector:"
   ]
  },
  {
   "cell_type": "code",
   "execution_count": 12,
   "metadata": {
    "collapsed": false
   },
   "outputs": [
    {
     "data": {
      "text/plain": [
       "(3,)"
      ]
     },
     "execution_count": 12,
     "metadata": {},
     "output_type": "execute_result"
    }
   ],
   "source": [
    "v1.shape"
   ]
  },
  {
   "cell_type": "markdown",
   "metadata": {},
   "source": [
    "Note that the second index is missing. This means that the vector is one-dimensional, and contains 3 elements.\n",
    "\n",
    "Let's expand the dimensions of the vector, so we can manipulate it as a two-dimensional structure (allowing for comparisons to a matrix....!)"
   ]
  },
  {
   "cell_type": "code",
   "execution_count": 16,
   "metadata": {
    "collapsed": false
   },
   "outputs": [
    {
     "name": "stdout",
     "output_type": "stream",
     "text": [
      "[[ 3.  5.  1.]]\n"
     ]
    }
   ],
   "source": [
    "v1 = [3.,5.,1.]\n",
    "v1 = np.expand_dims(v1, axis=0)\n",
    "print (v1)"
   ]
  },
  {
   "cell_type": "code",
   "execution_count": null,
   "metadata": {
    "collapsed": true
   },
   "outputs": [],
   "source": []
  },
  {
   "cell_type": "markdown",
   "metadata": {},
   "source": [
    "Note that we can think of this new vector as a matrix with one row and three columns - often known as a *row vector*. In numpy we can define a *column vector* quite literally by defining it as a stack of rows:\n",
    "\n",
    "\n"
   ]
  },
  {
   "cell_type": "code",
   "execution_count": 18,
   "metadata": {
    "collapsed": false
   },
   "outputs": [
    {
     "name": "stdout",
     "output_type": "stream",
     "text": [
      "[[ 3.]\n",
      " [ 5.]\n",
      " [ 1.]]\n"
     ]
    }
   ],
   "source": [
    "v2 = np.asarray([[3.],[5.],[1.]])\n",
    "print( v2)"
   ]
  },
  {
   "cell_type": "markdown",
   "metadata": {},
   "source": [
    "We can now build the row-by-column product by multiplying the column vector by the row vector, and you'll get the dot product:"
   ]
  },
  {
   "cell_type": "code",
   "execution_count": 19,
   "metadata": {
    "collapsed": false
   },
   "outputs": [
    {
     "data": {
      "text/plain": [
       "array([[ 35.]])"
      ]
     },
     "execution_count": 19,
     "metadata": {},
     "output_type": "execute_result"
    }
   ],
   "source": [
    "v1.dot(v2)"
   ]
  },
  {
   "cell_type": "code",
   "execution_count": 42,
   "metadata": {
    "collapsed": false
   },
   "outputs": [
    {
     "name": "stdout",
     "output_type": "stream",
     "text": [
      "[[ 3.]\n",
      " [ 5.]\n",
      " [ 1.]]\n"
     ]
    }
   ],
   "source": [
    "v3 = np.array([3.,5.,1.])\n",
    "v3 = np.reshape(v1, (-1,3))\n",
    "print (v3.T)\n"
   ]
  },
  {
   "cell_type": "code",
   "execution_count": null,
   "metadata": {
    "collapsed": true
   },
   "outputs": [],
   "source": []
  }
 ],
 "metadata": {
  "kernelspec": {
   "display_name": "Python [Root]",
   "language": "python",
   "name": "Python [Root]"
  },
  "language_info": {
   "codemirror_mode": {
    "name": "ipython",
    "version": 3
   },
   "file_extension": ".py",
   "mimetype": "text/x-python",
   "name": "python",
   "nbconvert_exporter": "python",
   "pygments_lexer": "ipython3",
   "version": "3.5.2"
  }
 },
 "nbformat": 4,
 "nbformat_minor": 0
}
