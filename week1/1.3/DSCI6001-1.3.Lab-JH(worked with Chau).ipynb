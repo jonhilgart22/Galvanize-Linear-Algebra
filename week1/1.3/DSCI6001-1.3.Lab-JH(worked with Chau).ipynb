{
 "cells": [
  {
   "cell_type": "markdown",
   "metadata": {},
   "source": [
    "# DSCI6001 1.3 Lab (Graded)\n",
    "\n",
    "This will be a graded laboratory assignment. It should take approximately 60 minutes. If needed you can turn it in the next day."
   ]
  },
  {
   "cell_type": "markdown",
   "metadata": {},
   "source": [
    "For questions **1) - 3)**, we will work with the following matrix.   \n",
    "\n",
    "$${\\bf A} = \\begin{bmatrix}\n",
    "    2 & 2 & 7 \\\\\n",
    "    3 & 4 & 1 \\\\\n",
    "    5 & 6 & 2 \\\\\n",
    "\\end{bmatrix}$$"
   ]
  },
  {
   "cell_type": "markdown",
   "metadata": {},
   "source": [
    "**1) Matrix rank**  \n",
    "\n",
    "Use Gauss elimination to produce the row echelon form of Matrix $\\mathbf{A}$. What is the rank of $\\mathbf{A}$? Use [numpy.linalg.matrix_rank](https://docs.scipy.org/doc/numpy/reference/generated/numpy.linalg.matrix_rank.html) to check your answer."
   ]
  },
  {
   "cell_type": "markdown",
   "metadata": {},
   "source": [
    "# Row echelon form\n",
    "[[2, 2, 7],\n",
    "[0 ,2, -19],\n",
    "[0, 0, -14]]"
   ]
  },
  {
   "cell_type": "code",
   "execution_count": 4,
   "metadata": {
    "collapsed": false
   },
   "outputs": [
    {
     "name": "stdout",
     "output_type": "stream",
     "text": [
      "3\n"
     ]
    }
   ],
   "source": [
    "\n",
    "\n",
    "import numpy as np\n",
    "A = np.array([[2,2],\n",
    "                [3,4],\n",
    "                [5,6]])\n",
    "B = np.array([[7],\n",
    "                [1],\n",
    "                [2]])\n",
    "C = np.array([[2,2,7],\n",
    "                [3,4,1],\n",
    "                [5,6,2]])\n",
    "\n",
    "print(np.linalg.matrix_rank(C))\n",
    "#print(np.linalg.solve(A,B))\n"
   ]
  },
  {
   "cell_type": "markdown",
   "metadata": {},
   "source": [
    "**2) Determinant**  \n",
    "\n",
    "Calculate the determinant of $\\mathbf{A}$ by hand, then use [numpy.linalg.det](https://docs.scipy.org/doc/numpy-1.10.1/reference/generated/numpy.linalg.det.html) to check your answer."
   ]
  },
  {
   "cell_type": "code",
   "execution_count": 37,
   "metadata": {
    "collapsed": true
   },
   "outputs": [],
   "source": [
    "#Determinant of A\n",
    "#1) 2*(4 * 2)-(1*6)) - 2*(3*2)-(1*5)) + 7 ( 3*6 - (4*5)) = -12 "
   ]
  },
  {
   "cell_type": "code",
   "execution_count": 6,
   "metadata": {
    "collapsed": false
   },
   "outputs": [
    {
     "data": {
      "text/plain": [
       "-11.999999999999979"
      ]
     },
     "execution_count": 6,
     "metadata": {},
     "output_type": "execute_result"
    }
   ],
   "source": [
    "np.linalg.det(C)"
   ]
  },
  {
   "cell_type": "markdown",
   "metadata": {},
   "source": [
    "**3) Matrix inversion**  \n",
    "\n",
    "Is matrix $\\mathbf{A}$ invertible? If so, use [numpy.linalg.inv](https://docs.scipy.org/doc/numpy/reference/generated/numpy.linalg.inv.html) to find its inverse."
   ]
  },
  {
   "cell_type": "markdown",
   "metadata": {},
   "source": [
    "If a matrix is invertible then determinant does not equal zero.\n",
    "This matrix is invertible"
   ]
  },
  {
   "cell_type": "markdown",
   "metadata": {},
   "source": [
    "**4) Programming practice**  \n",
    "\n",
    "In yesterday's lecture you were assigned to solve the following problems from the textbook:\n",
    "\n",
    "Problem Set 7.3: 1, 3, 5, 7, 11, 13.\n",
    "\n",
    "1. Create Numpy arrays to represent the 6 linear systems you solved by hand yesterday in Problem Set 7.3. \n",
    "\n",
    "2. Solve all 6 systems using Numpy. \n",
    "\n",
    "Extra Credit: Store your linear systems as follows: a list of the arrays of the 6 coeffiecient matrices, and a second list, of the dependent parameters (vector $\\mathbf{b}$ from the notes) of each system. Zip these two lists together. Build a loop to process these arrays, built around the following code snippet. Add code to print the solutions more elegantly. Add code to handle exceptions gracefully. "
   ]
  },
  {
   "cell_type": "code",
   "execution_count": 32,
   "metadata": {
    "collapsed": false
   },
   "outputs": [],
   "source": [
    "#This is using the 9th edition of the textbook\n",
    "one_variables=np.array([[5,-2],\n",
    "           [-1,4]])\n",
    "one_dependents = np.array([[20.9],\n",
    "                       [-19.3]])\n",
    "three_variables= np.array([[.5,3.5],\n",
    "                      [-1,5.0]])\n",
    "three_dependents = np.array([[5.7],\n",
    "                       [-7.8]])\n",
    "five_variables=np.array([[.8,1.2,-.6],\n",
    "                     [2.6,0,1.7],\n",
    "                     [4.0,-7.3,-1.5]])\n",
    "five_dependents = np.array([[-7.8],\n",
    "                       [15.3],\n",
    "                        [1.1]])\n",
    "seven_variables = np.array([[0,1,1],\n",
    "                           [0,4,6],\n",
    "                           [1,1,1]])\n",
    "\n",
    "seven_dependents = np.array([[-2],\n",
    "                             [-12],\n",
    "                             [2]])\n",
    "nine_variables = np.array([[0,4,4],\n",
    "                          [3,-11,2],\n",
    "                          [6,-17,1]])\n",
    "nine_dependents = np.array([[24],\n",
    "                          [-6],\n",
    "                          [18]])\n",
    "\n",
    "eleven_variables = np.array([[2,-1,3],\n",
    "                            [-4,2,-6]])\n",
    "eleven_dependents = np.array([[-1],\n",
    "                             [2]])\n",
    "thirteen_variables = np.array([[0,1,1,-2],\n",
    "                             [-4,-1,-1,2],\n",
    "                             [-2,3,3,-6]])\n",
    "thirteen_dependents = np.array([[0],\n",
    "                               [-4],\n",
    "                               [-2]])\n",
    "\n",
    "\n",
    "system_variables = [one_variables,three_variables,five_variables,seven_variables,nine_variables,eleven_variables,thirteen_variables]\n",
    "system_dependents = [one_dependents,three_dependents,five_dependents,seven_dependents,nine_dependents,eleven_dependents,thirteen_dependents]\n"
   ]
  },
  {
   "cell_type": "code",
   "execution_count": 39,
   "metadata": {
    "collapsed": false
   },
   "outputs": [
    {
     "name": "stdout",
     "output_type": "stream",
     "text": [
      "[[ 2.5]\n",
      " [-4.2]] Solved the system for problem:  1\n",
      "[[ 9.3]\n",
      " [ 0.3]] Solved the system for problem:  3\n",
      "[[  8.10462808e-16]\n",
      " [ -2.00000000e+00]\n",
      " [  9.00000000e+00]] Solved the system for problem:  5\n",
      "[[ 4.]\n",
      " [ 0.]\n",
      " [-2.]] Solved the system for problem:  7\n",
      "[[ 20.]\n",
      " [  6.]\n",
      " [  0.]] Solved the system for problem:  9\n",
      "There is no solution for problem: 11\n",
      "This set of variables [[ 2 -1  3]\n",
      " [-4  2 -6]]  with these solutions [[-1]\n",
      " [ 2]]\n",
      "There is no solution for problem: 13\n",
      "This set of variables [[ 0  1  1 -2]\n",
      " [-4 -1 -1  2]\n",
      " [-2  3  3 -6]]  with these solutions [[ 0]\n",
      " [-4]\n",
      " [-2]]\n"
     ]
    }
   ],
   "source": [
    "\n",
    "for count,(item, solution) in enumerate(zip(system_variables,system_dependents)):\n",
    "\n",
    "        try:\n",
    "            print(np.linalg.solve(item,solution),'Solved the system for problem: ', (count)*2+1)\n",
    "        except:\n",
    "            print('There is no solution for problem:',(count)*2+1)\n",
    "            print('This set of variables',item,' with these solutions', solution,)\n",
    "            \n",
    "        \n",
    "        "
   ]
  },
  {
   "cell_type": "code",
   "execution_count": 13,
   "metadata": {
    "collapsed": false
   },
   "outputs": [
    {
     "name": "stdout",
     "output_type": "stream",
     "text": [
      "0 count\n",
      "[[ 5 -2]\n",
      " [-1  4]] a1\n",
      "[[ 20.9]\n",
      " [-19.3]] b1\n",
      "1 count\n",
      "[[ 0.5  3.5]\n",
      " [-1.   5. ]] a1\n",
      "[[ 5.7]\n",
      " [-7.8]] b1\n",
      "2 count\n",
      "[[ 0.8  1.2 -0.6]\n",
      " [ 2.6  0.   1.7]\n",
      " [ 4.  -7.3 -1.5]] a1\n",
      "[[ -7.8]\n",
      " [ 15.3]\n",
      " [  1.1]] b1\n",
      "3 count\n",
      "[[0 1 1]\n",
      " [0 4 6]\n",
      " [1 1 1]] a1\n",
      "[[-2 12  2]] b1\n",
      "4 count\n",
      "[[  0   4   4]\n",
      " [  3 -11   2]\n",
      " [  6 -17   1]] a1\n",
      "[[24]\n",
      " [-6]\n",
      " [18]] b1\n",
      "5 count\n",
      "[[ 2 -1  3]\n",
      " [-4  2 -6]] a1\n",
      "[[-1]\n",
      " [ 2]] b1\n",
      "6 count\n",
      "[[ 0  1  1 -2]\n",
      " [-4 -1 -1  2]\n",
      " [-2  3  3 -6]] a1\n",
      "[[ 0]\n",
      " [-4]\n",
      " [-2]] b1\n"
     ]
    }
   ],
   "source": [
    "for n, (a1, b1) in enumerate(zip(system_variables, system_dependents)):\n",
    "    print(n,'count')\n",
    "    print(a1,'a1')\n",
    "    print(b1,'b1')"
   ]
  },
  {
   "cell_type": "code",
   "execution_count": null,
   "metadata": {
    "collapsed": true
   },
   "outputs": [],
   "source": []
  }
 ],
 "metadata": {
  "anaconda-cloud": {},
  "kernelspec": {
   "display_name": "Python [Root]",
   "language": "python",
   "name": "Python [Root]"
  },
  "language_info": {
   "codemirror_mode": {
    "name": "ipython",
    "version": 3
   },
   "file_extension": ".py",
   "mimetype": "text/x-python",
   "name": "python",
   "nbconvert_exporter": "python",
   "pygments_lexer": "ipython3",
   "version": "3.5.2"
  }
 },
 "nbformat": 4,
 "nbformat_minor": 0
}
