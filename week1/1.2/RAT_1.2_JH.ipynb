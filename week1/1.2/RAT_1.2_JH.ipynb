{
 "cells": [
  {
   "cell_type": "markdown",
   "metadata": {},
   "source": [
    "# RAT 1.2\n",
    "\n",
    "${\\bf{A}} = \\begin{bmatrix}\n",
    "    1 & 1 \\\\\n",
    "    4 & 3 \\\\\n",
    "    2 & 4 \\\\\n",
    "\\end{bmatrix}$\n",
    "\n",
    "${\\bf{B}} = \\begin{bmatrix}\n",
    "    3 & 0 & 1\\\\\n",
    "    0 & 6 & 0\\\\\n",
    "\\end{bmatrix}$"
   ]
  },
  {
   "cell_type": "markdown",
   "metadata": {},
   "source": [
    "1) Consider the product $\\bf{AB}$ as opposed to $\\bf{BA}$. What are the dimensions of each of these products?"
   ]
  },
  {
   "cell_type": "code",
   "execution_count": null,
   "metadata": {
    "collapsed": true
   },
   "outputs": [],
   "source": [
    "#DIM AB = 3 rows by 3 columns\n",
    "#DIM BA = 2 rows by 2 columns"
   ]
  },
  {
   "cell_type": "markdown",
   "metadata": {},
   "source": [
    "2) Write the product $\\bf{BA}$."
   ]
  },
  {
   "cell_type": "code",
   "execution_count": 7,
   "metadata": {
    "collapsed": false
   },
   "outputs": [
    {
     "data": {
      "text/plain": [
       "matrix([[ 5,  7],\n",
       "        [24, 18]])"
      ]
     },
     "execution_count": 7,
     "metadata": {},
     "output_type": "execute_result"
    }
   ],
   "source": [
    "import numpy as np\n",
    "A = np.matrix(([1,1],\n",
    "            [4,3],\n",
    "            [2,4]))\n",
    "\n",
    "B=np.matrix(([3,0,1],\n",
    "          [0,6,0]))\n",
    "\n",
    "\n",
    "BA = np.matrix(([[5,7],\n",
    "         [24,18]]))\n",
    "\n",
    "B.dot(A)"
   ]
  },
  {
   "cell_type": "markdown",
   "metadata": {},
   "source": [
    "3) Is the product $\\bf{AA}$ defined?"
   ]
  },
  {
   "cell_type": "code",
   "execution_count": null,
   "metadata": {
    "collapsed": true
   },
   "outputs": [],
   "source": [
    "#Not defined. In order to multiply matrices, the number of columns from the first matrix needs to equal the \n",
    "#number of rows in the second matrix. A has 2 columns and 3 rows; therefore, you can not multiply A by A. "
   ]
  }
 ],
 "metadata": {
  "anaconda-cloud": {},
  "kernelspec": {
   "display_name": "Python [Root]",
   "language": "python",
   "name": "Python [Root]"
  },
  "language_info": {
   "codemirror_mode": {
    "name": "ipython",
    "version": 3
   },
   "file_extension": ".py",
   "mimetype": "text/x-python",
   "name": "python",
   "nbconvert_exporter": "python",
   "pygments_lexer": "ipython3",
   "version": "3.5.2"
  }
 },
 "nbformat": 4,
 "nbformat_minor": 0
}
