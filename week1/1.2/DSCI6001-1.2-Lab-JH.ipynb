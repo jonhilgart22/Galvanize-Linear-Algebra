{
 "cells": [
  {
   "cell_type": "markdown",
   "metadata": {},
   "source": [
    "# DSCI6001 1.2 Lab (Graded)\n",
    "\n",
    "This will be a graded laboratory assignment. "
   ]
  },
  {
   "cell_type": "markdown",
   "metadata": {},
   "source": [
    "#### 1) Use Numpy to create and store the matrices $A, B, C, D$ and vectors $u, v$.\n",
    "\n",
    "$$\n",
    "{\\bf A}=\n",
    "\\begin{bmatrix}\n",
    "3 & 0 & 4 \\\\\n",
    "-1 & 2 & 2 \\\\\n",
    "6 & 5 & -4\n",
    "\\end{bmatrix},\\quad\n",
    "{\\bf B}=\n",
    "\\begin{bmatrix}\n",
    "0 & -5 & -3 \\\\\n",
    "-5 & 2 & 4 \\\\\n",
    "-3 & 4 & 0\n",
    "\\end{bmatrix},\\quad\n",
    "{\\bf C}=\n",
    "\\begin{bmatrix}\n",
    "0 & 2 \\\\\n",
    "2 & 4 \\\\\n",
    "1 & 3\n",
    "\\end{bmatrix},\\quad\n",
    "{\\bf D}=\n",
    "\\begin{bmatrix}\n",
    "6 & 1 \\\\\n",
    "-4 & 7 \\\\\n",
    "-8 & 3\n",
    "\\end{bmatrix}\n",
    "$$\n",
    "\n",
    "$$\n",
    "\\textbf{u}=\n",
    "\\begin{bmatrix}\n",
    "2 \\\\\n",
    "0 \\\\\n",
    "1\n",
    "\\end{bmatrix},\\quad\n",
    "\\textbf{v}=\n",
    "\\begin{bmatrix}\n",
    "-4 \\\\\n",
    "9 \\\\\n",
    "2\n",
    "\\end{bmatrix}\n",
    "$$"
   ]
  },
  {
   "cell_type": "code",
   "execution_count": 52,
   "metadata": {
    "collapsed": false
   },
   "outputs": [],
   "source": [
    "import numpy as np\n",
    "A = np.array([[3,0,4],\n",
    "             [-1,2,2],\n",
    "             [6,5,-4]])\n",
    "\n",
    "B=np.array([[0,-5,-3],\n",
    "           [-5,2,4],\n",
    "           [-3,4,0]])\n",
    "\n",
    "C=np.array([[0,2],\n",
    "           [2,4],\n",
    "           [1,3]])\n",
    "D=np.array([[6,1],\n",
    "            [-4,7],\n",
    "            [-8,3]])\n",
    "u=np.array([[2],\n",
    "           [0],\n",
    "           [1]])\n",
    "v = np.array([[-4],\n",
    "             [9],\n",
    "             [2]])\n"
   ]
  },
  {
   "cell_type": "markdown",
   "metadata": {},
   "source": [
    "#### 2) Use Python to determine their dimensions."
   ]
  },
  {
   "cell_type": "code",
   "execution_count": 53,
   "metadata": {
    "collapsed": false
   },
   "outputs": [
    {
     "name": "stdout",
     "output_type": "stream",
     "text": [
      "(3, 3) shape of A\n",
      "(3, 3) shape of B\n",
      "(3, 2) shape of C\n",
      "(3, 2) shape of D\n",
      "(3, 1) shape of U\n",
      "(3, 1) shape of V\n"
     ]
    }
   ],
   "source": [
    "print(A.shape,\"shape of A\")\n",
    "print(B.shape,\"shape of B\")\n",
    "print(C.shape, \"shape of C\")\n",
    "print(D.shape, \"shape of D\")\n",
    "print(u.shape, \"shape of U\")\n",
    "print(v.shape, \"shape of V\")\n"
   ]
  },
  {
   "cell_type": "markdown",
   "metadata": {},
   "source": [
    "#### 3) Calculate:\n",
    "* $4C+2D$\n",
    "* $2(A+B)$\n",
    "* $u-v$"
   ]
  },
  {
   "cell_type": "code",
   "execution_count": 73,
   "metadata": {
    "collapsed": false
   },
   "outputs": [
    {
     "name": "stdout",
     "output_type": "stream",
     "text": [
      " 4C+2D\n",
      "  [[ 12  10]\n",
      " [  0  30]\n",
      " [-12  18]]\n",
      "[[  6 -10   2]\n",
      " [-12   8  12]\n",
      " [  6  18  -8]] 2(A+B)\n",
      "[[ 6]\n",
      " [-9]\n",
      " [-1]] u-v\n"
     ]
    }
   ],
   "source": [
    "print(\" 4C+2D\\n \",4*C+2*D)\n",
    "print(2*(A+B),\"2(A+B)\")\n",
    "print(u-v,\"u-v\")"
   ]
  },
  {
   "cell_type": "markdown",
   "metadata": {},
   "source": [
    "#### 4) Does $(\\textit{A}\\textit{B})^{T}$ = $\\textit{B}^{T}\\textit{A}^{T}$? Produce an assertion that checks for this."
   ]
  },
  {
   "cell_type": "code",
   "execution_count": 72,
   "metadata": {
    "collapsed": false
   },
   "outputs": [
    {
     "name": "stdout",
     "output_type": "stream",
     "text": [
      "[[  0   5 -18]\n",
      " [  0   4  20]\n",
      " [-12   8   0]]\n",
      "[[-12 -16 -13]\n",
      " [  1  17 -36]\n",
      " [ -9  11   2]]\n",
      "[[ 3  0  4]\n",
      " [-1  2  2]\n",
      " [ 6  5 -4]]\n",
      "[[ 0 -5 -3]\n",
      " [-5  2  4]\n",
      " [-3  4  0]]\n"
     ]
    }
   ],
   "source": [
    "print(B.T*A.T)\n",
    "print(B.T.dot(A.T))\n",
    "print(A)\n",
    "print(B)\n",
    "\n",
    "assert(((A.dot(B.T)).all()) == ((B.T).dot((A.T)).all())) ### Check to see if the matrix A and B and equal \n"
   ]
  },
  {
   "cell_type": "markdown",
   "metadata": {
    "collapsed": true
   },
   "source": [
    "#### 5) Solve the linear system below by hand, then check your answers in Python using [numpy.linalg.solve](https://docs.scipy.org/doc/numpy-1.10.1/reference/generated/numpy.linalg.solve.html).\n",
    "\n",
    "$$\n",
    "\\begin{align}\n",
    "x + y + 2z & = 3 \\\\\n",
    "3x + 4y + 8z & = 10 \\\\\n",
    "-2x + 2y + z & = 7\n",
    "\\end{align}\n",
    "$$\n"
   ]
  },
  {
   "cell_type": "code",
   "execution_count": 56,
   "metadata": {
    "collapsed": false
   },
   "outputs": [],
   "source": [
    "coefficient_matrix = np.array([[1,1,2],\n",
    "                              [3,4,8],\n",
    "                              [-2,2,1]])\n",
    "dependent_matrix = np.array([[3],\n",
    "                            [10],\n",
    "                            [7]])\n"
   ]
  },
  {
   "cell_type": "code",
   "execution_count": 57,
   "metadata": {
    "collapsed": false
   },
   "outputs": [
    {
     "data": {
      "text/plain": [
       "array([[ 2.],\n",
       "       [ 7.],\n",
       "       [-3.]])"
      ]
     },
     "execution_count": 57,
     "metadata": {},
     "output_type": "execute_result"
    }
   ],
   "source": [
    "np.linalg.solve(coefficient_matrix,dependent_matrix)"
   ]
  },
  {
   "cell_type": "code",
   "execution_count": null,
   "metadata": {
    "collapsed": true
   },
   "outputs": [],
   "source": []
  }
 ],
 "metadata": {
  "anaconda-cloud": {},
  "kernelspec": {
   "display_name": "Python [Root]",
   "language": "python",
   "name": "Python [Root]"
  },
  "language_info": {
   "codemirror_mode": {
    "name": "ipython",
    "version": 3
   },
   "file_extension": ".py",
   "mimetype": "text/x-python",
   "name": "python",
   "nbconvert_exporter": "python",
   "pygments_lexer": "ipython3",
   "version": "3.5.2"
  }
 },
 "nbformat": 4,
 "nbformat_minor": 0
}
