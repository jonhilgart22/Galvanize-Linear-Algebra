{
 "cells": [
  {
   "cell_type": "markdown",
   "metadata": {},
   "source": [
    "# RAT 5.4\n",
    "\n",
    "1. Describe in your own words what an orthogonal matrix is in terms of its action on other matrices or vectors. In what ways do we obtain an orthogonal matrix?\n",
    "\n",
    "2. Assume $D$ is orthogonal. What is its determinant?\n",
    "\n",
    "3. What is the transpose of $A=\\begin{bmatrix}1 & 3 & -1\\\\2 & -1 & -2\\\\4 & 1& -1\\end{bmatrix}$? What is the closed formula for the transpose of a matrix?\n",
    "\n",
    "4. What is a symmetric matrix? What is the closed formula for the transpose of a symmetric matrix?\n",
    "\n",
    "5. Identify the image and kernel of $A = \\begin{bmatrix}1 & 3 & -1\\\\2 & 7 & -2\\\\3 & 9& -3\\end{bmatrix}$\n",
    "\n",
    "6. Take two vectors $v_1 = \\begin{bmatrix}1 \\\\ -1 \\\\ -3\\end{bmatrix}$, $v_2 = \\begin{bmatrix}3 \\\\ -2 \\\\ 1\\end{bmatrix}$. Are these two vectors normal to each other? Produce a calculation that shows this. Use the Gram-Schmidt method to make them *orthonormal* to each other. Now do they form a basis for $\\mathbb{R}^2$?"
   ]
  },
  {
   "cell_type": "markdown",
   "metadata": {
    "collapsed": true
   },
   "source": [
    "\n",
    "# 1)\n",
    "- An orthogonal matrix is a matrix that is both orthogonal and normalized. This mean that is any column dot another columns = 0, because orthogonal vectors have a dot product of zero, and the norm of any column is 1 (normalized). Another property; if A is an orthogonal matrix, then $A^{-1}$ = A$^T$. Also, A $* A^T$ = Identify matrix.\n",
    "\n",
    "- When an orthogonal matrix acts upon a vector, the vector only rotates in space. The vector does not change angle or magnitude (due to the properties of an orthogonal matrix). "
   ]
  },
  {
   "cell_type": "markdown",
   "metadata": {},
   "source": [
    "# 2)\n",
    "\n",
    "- The determinant of orthogonal matrices is either +/- 1."
   ]
  },
  {
   "cell_type": "markdown",
   "metadata": {},
   "source": [
    "# 3)\n",
    "\n",
    "- The transpose of $A=\\begin{bmatrix}1 & 3 & -1\\\\2 & -1 & -2\\\\4 & 1& -1\\end{bmatrix}$ = \n",
    "\n",
    "$A^T=\\begin{bmatrix}1 & 2 & 4\\\\3 & -1 & 1\\\\-1 & -2& -1\\end{bmatrix}$\n",
    "\n",
    "- The general formula for the tranpose is $[A^T]_{ij} =[A]_{ji}$"
   ]
  },
  {
   "cell_type": "markdown",
   "metadata": {},
   "source": [
    "# 4)\n",
    "\n",
    "- A symmetric matrix is a matrix where the $A^T = A$. This means that $[A^T]_{ij}=[A]_{ij}$ "
   ]
  },
  {
   "cell_type": "markdown",
   "metadata": {},
   "source": [
    "# 5)\n",
    "\n",
    "5. Identify the image and kernel of $A = \\begin{bmatrix}1 & 3 & -1\\\\2 & 7 & -2\\\\3 & 9& -3\\end{bmatrix}$"
   ]
  },
  {
   "cell_type": "markdown",
   "metadata": {},
   "source": [
    "- The image is the set of linearly independent columns. In our case the image is the first two columns $[1,2,3]^T and [3,7,9]^T$."
   ]
  },
  {
   "cell_type": "markdown",
   "metadata": {},
   "source": [
    "- The kernel is the solution set when Ax = 0. The kernel for this matrix is t $* [ 0,0,0]^T$."
   ]
  },
  {
   "cell_type": "markdown",
   "metadata": {},
   "source": [
    "# 6)\n",
    "\n",
    "$v_1 = \\begin{bmatrix}1 \\\\ -1 \\\\ -3\\end{bmatrix}$, $v_2 = \\begin{bmatrix}3 \\\\ -2 \\\\ 1\\end{bmatrix}$\n"
   ]
  },
  {
   "cell_type": "markdown",
   "metadata": {},
   "source": [
    "V1 * V2 = 3. Since the dot product does not equal zero these vectors are not normal to eachother.\n",
    "\n",
    "Gram schmidt"
   ]
  },
  {
   "cell_type": "markdown",
   "metadata": {},
   "source": [
    "First, normalize vector one.\n",
    "\n",
    "v1~ = [1/sqrt(11)  , -1 / sqrt(11) , -3 / sqrt(11) ]\n",
    "\n",
    "Next, take the projection of v2 onto v1.\n",
    "\n",
    "v2~ = v2 - proj(V2 onto V1)\n",
    "\n",
    "v2~ = $[3, -2 , 1] - [(3) / 11] *[1,-1,-3]$\n",
    "\n",
    "v2~ = [3, -2 , 1] - [ 3/11, -3/11 , -9/11 ]\n",
    "\n",
    "v2~ = [30/11 , 22/11 , 20/11]\n",
    "\n",
    "next normalize v2~. [30/11 / sqrt( 30/11^2 , 22/11^2, 20/11^2) , 22/11/ sqrt( 30/11^2 , 22/11^2, 20/11^2) , 20/11/ sqrt( 30/11^2 , 22/11^2, 20/11^2)]\n",
    "\n",
    "\n",
    "These vectors do form a basis for R2. "
   ]
  },
  {
   "cell_type": "code",
   "execution_count": null,
   "metadata": {
    "collapsed": true
   },
   "outputs": [],
   "source": []
  }
 ],
 "metadata": {
  "anaconda-cloud": {},
  "kernelspec": {
   "display_name": "Python [Root]",
   "language": "python",
   "name": "Python [Root]"
  },
  "language_info": {
   "codemirror_mode": {
    "name": "ipython",
    "version": 3
   },
   "file_extension": ".py",
   "mimetype": "text/x-python",
   "name": "python",
   "nbconvert_exporter": "python",
   "pygments_lexer": "ipython3",
   "version": "3.5.2"
  }
 },
 "nbformat": 4,
 "nbformat_minor": 0
}
