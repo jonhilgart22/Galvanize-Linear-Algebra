{
 "cells": [
  {
   "cell_type": "markdown",
   "metadata": {},
   "source": [
    "# DSCI 6001 5.3 Lab \n",
    "\n",
    "## QR Factorization II\n",
    "\n",
    "\n",
    "## Practical application of the QR algorithm: Stabilized Gram-Schmidt \n",
    "\n",
    "\n",
    "Because the GS mapping is so onerous (and numerically unstable) to calculate, and the results so difficult to compare,\n",
    "there are several ways in which this problem is addressed. The first is by creating the **Modified or Stabilized Gram Schmidt** algorithm, which creates a different Gram-Schmidt factorization (usually in-place) by using normalized vectors as the input in all parts of the computation, making numerical errors much smaller by comparison:\n",
    "\n",
    "#### Modified Gram-Schmidt\n",
    "\n",
    "\n",
    "$for\\ i\\ in\\ \\{1 \\cdots k\\}$\n",
    "\n",
    "  $\\ \\ \\ \\ \\ for\\ j\\ in\\ \\{1 \\cdots j-1\\}$\n",
    "  \n",
    "   $\\ \\ \\ \\ \\ \\ \\ \\  v_j = v_j - \\text{proj}_{v_{i}}v_{j}$\n",
    "   \n",
    "   $\\ \\ \\ \\ \\   v_j = v_{j}/\\|v_{j}\\|$\n",
    "            \n",
    "\n",
    "### TASK:\n",
    "\n",
    "Implement the MGS algorithm using the below code stub.\n"
   ]
  },
  {
   "cell_type": "code",
   "execution_count": 1,
   "metadata": {
    "collapsed": true
   },
   "outputs": [],
   "source": [
    "import numpy as np"
   ]
  },
  {
   "cell_type": "code",
   "execution_count": 173,
   "metadata": {
    "collapsed": false
   },
   "outputs": [],
   "source": [
    "def stabilized_gram_schmidt(a):\n",
    "        print(a)\n",
    "        a=a\n",
    "        a_t = a.T.astype(float)\n",
    "        print(a_t)\n",
    "        \n",
    "        def projection(c2,c1): return (c2.dot(c1)/(c1.dot(c1)))*c1\n",
    "        \n",
    "        for j, row in enumerate(a_t):\n",
    "            ## a is transposed\n",
    "            if j ==0:\n",
    "                #print(a[j],'first a j')\n",
    "                #print(a_t[j],'a transposed j')\n",
    "                #print ((a_t[j]/np.linalg.norm(a_t[j])) , 'norm of first row')\n",
    "                \n",
    "                a_t[j]=(a_t[j]/np.linalg.norm(a_t[j])) ### normalzie the first vector\n",
    "                \n",
    "                #print(a_t[j],'first a[j]')\n",
    "            else:\n",
    "                #print(a[j],'a j')\n",
    "                #print(j,'j')\n",
    "                \n",
    "                a_t[j]=a_t[j]-sum([projection(a_t[j],a_t[i]) for i in range(j)]) ### subtract the projections\n",
    "                \n",
    "                a_t[j]=(a_t[j]/np.linalg.norm(a_t[j])) ## normalize the vector\n",
    "                \n",
    "                #print(a_t[j],'a')\n",
    "        return a_t.T\n",
    "                \n",
    "                \n",
    "        # * I recommend getting the number of columns (or rows if you prefer to flip the matrix)\n",
    "        # * make sure your matrix A is cast into floats\n",
    "        # * begin the top for loop\n",
    "                #* begin the bottom for loop\n",
    "                        # * use the projection subtraction here:\n",
    "                        # remove projection of a[j] over a[i] from a[j]\n",
    "                # * normalize the column (or row) you're working through\n",
    "                \n",
    "        #pass # * return the matrix here. don't rely on pass-by-reference"
   ]
  },
  {
   "cell_type": "code",
   "execution_count": 174,
   "metadata": {
    "collapsed": false
   },
   "outputs": [],
   "source": [
    "#stablized_gram_schmidt()"
   ]
  },
  {
   "cell_type": "code",
   "execution_count": 175,
   "metadata": {
    "collapsed": true
   },
   "outputs": [],
   "source": [
    "A = np.array([[-2, 0, 1 ],\n",
    "              [1, -2, 1],\n",
    "              [1, -1, 0]])"
   ]
  },
  {
   "cell_type": "code",
   "execution_count": 176,
   "metadata": {
    "collapsed": false
   },
   "outputs": [
    {
     "name": "stdout",
     "output_type": "stream",
     "text": [
      "[[-2  0  1]\n",
      " [ 1 -2  1]\n",
      " [ 1 -1  0]]\n",
      "[[-2.  1.  1.]\n",
      " [ 0. -2. -1.]\n",
      " [ 1.  1.  0.]]\n"
     ]
    },
    {
     "data": {
      "text/plain": [
       "array([[-0.81649658, -0.53452248, -0.21821789],\n",
       "       [ 0.40824829, -0.80178373,  0.43643578],\n",
       "       [ 0.40824829, -0.26726124, -0.87287156]])"
      ]
     },
     "execution_count": 176,
     "metadata": {},
     "output_type": "execute_result"
    }
   ],
   "source": [
    "stabilized_gram_schmidt(A)"
   ]
  },
  {
   "cell_type": "code",
   "execution_count": 177,
   "metadata": {
    "collapsed": false
   },
   "outputs": [
    {
     "name": "stdout",
     "output_type": "stream",
     "text": [
      "[0]\n"
     ]
    }
   ],
   "source": [
    "print([item for item in range(1)])"
   ]
  },
  {
   "cell_type": "code",
   "execution_count": 178,
   "metadata": {
    "collapsed": true
   },
   "outputs": [],
   "source": [
    "B = np.array([[-2,1,1]])"
   ]
  },
  {
   "cell_type": "code",
   "execution_count": 179,
   "metadata": {
    "collapsed": false
   },
   "outputs": [
    {
     "data": {
      "text/plain": [
       "array([[-0.81649658,  0.40824829,  0.40824829]])"
      ]
     },
     "execution_count": 179,
     "metadata": {},
     "output_type": "execute_result"
    }
   ],
   "source": [
    "B/np.linalg.norm(B)"
   ]
  },
  {
   "cell_type": "code",
   "execution_count": 180,
   "metadata": {
    "collapsed": false
   },
   "outputs": [
    {
     "name": "stdout",
     "output_type": "stream",
     "text": [
      "[[-2  0  1]\n",
      " [ 1 -2  1]\n",
      " [ 1 -1  0]]\n",
      "[[-2.  1.  1.]\n",
      " [ 0. -2. -1.]\n",
      " [ 1.  1.  0.]]\n",
      "[[-0.81649658 -0.53452248 -0.21821789]\n",
      " [ 0.40824829 -0.80178373  0.43643578]\n",
      " [ 0.40824829 -0.26726124 -0.87287156]] Q\n",
      "[[ -2.00000000e+00  -2.42270526e-17   1.00000000e+00]\n",
      " [  1.00000000e+00  -2.00000000e+00   1.00000000e+00]\n",
      " [  1.00000000e+00  -1.00000000e+00   2.37163747e-16]]\n"
     ]
    }
   ],
   "source": [
    "A = np.array([[-2, 0, 1 ],[1, -2, 1],[1, -1, 0]])\n",
    "Q = stabilized_gram_schmidt(A)\n",
    "R = Q.dot(A)\n",
    "\n",
    "R = Q.T.dot(A)\n",
    "print(Q,'Q')\n",
    "print(Q.dot(R))\n",
    "\n",
    "\n",
    "A = np.array([[-2, 0, 1 ],[1, -2, 1],[1, -1, 0]])\n",
    "\n",
    "assert np.allclose(Q.dot(R),A)\n"
   ]
  },
  {
   "cell_type": "code",
   "execution_count": 160,
   "metadata": {
    "collapsed": false
   },
   "outputs": [
    {
     "name": "stdout",
     "output_type": "stream",
     "text": [
      "[]\n"
     ]
    }
   ],
   "source": [
    "print([item for item in range(0)])"
   ]
  },
  {
   "cell_type": "code",
   "execution_count": null,
   "metadata": {
    "collapsed": true
   },
   "outputs": [],
   "source": []
  }
 ],
 "metadata": {
  "kernelspec": {
   "display_name": "Python [Root]",
   "language": "python",
   "name": "Python [Root]"
  },
  "language_info": {
   "codemirror_mode": {
    "name": "ipython",
    "version": 3
   },
   "file_extension": ".py",
   "mimetype": "text/x-python",
   "name": "python",
   "nbconvert_exporter": "python",
   "pygments_lexer": "ipython3",
   "version": "3.5.2"
  }
 },
 "nbformat": 4,
 "nbformat_minor": 0
}
