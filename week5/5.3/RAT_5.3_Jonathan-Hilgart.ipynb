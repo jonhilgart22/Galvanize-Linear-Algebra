{
 "cells": [
  {
   "cell_type": "markdown",
   "metadata": {},
   "source": [
    "# RAT 5.3\n",
    "\n",
    "Explain the three matrices of the SVD in your own words.\n",
    "\n",
    "1. What does each represent in terms of changes of basis or deformation between the row space and column space? \n",
    "\n",
    "2. What does linear least squares do with respect to the coefficients $b$ in terms of mapping the row space to the column space?"
   ]
  },
  {
   "cell_type": "markdown",
   "metadata": {
    "collapsed": true
   },
   "source": [
    "# 1\n",
    "\n",
    "The U matrix is the feature space , the D matrix the eigenvalues, and the V.T matrix is the sample space.\n",
    "\n",
    "\n",
    "There are three elements of SVD the U  matrix, the diagonal D matrix, and the V.T matrix.\n",
    "\n",
    "The V.T matrix changes the basis of the matrix into the column space. The diagonal (D) matrix, applies a transformation on this vector in the new basis (this could be a shrinking or expanding along the eigenvectors with a magnitude dictated by the eigenvalues). Finally, the U matrix changes the basis back to the original row space of the vector. \n",
    "\n",
    "In addition, since we know that the U matrix and the V.T matrix are orthogonal, this vector maintains it's original angle and it transformed by the magnitude of the eigenvalues in matrix D. "
   ]
  },
  {
   "cell_type": "markdown",
   "metadata": {},
   "source": [
    "# 2\n",
    "\n",
    "Linear least squares is used when you have a point b that is outside of the columns space (i.e. outside of your image). This approach takes the projection of point b onto the columnspace in order to find a point within the columnspace that is as close as possible (in distance) to b. \n",
    "\n",
    "Effectively, this mean that your matrix A is mapping your coefficients from the row space to an aproximation in the column space given by the shortest distance from the point outside the columnspace to a point contained within the columspace.\n",
    "\n"
   ]
  },
  {
   "cell_type": "code",
   "execution_count": null,
   "metadata": {
    "collapsed": true
   },
   "outputs": [],
   "source": []
  }
 ],
 "metadata": {
  "anaconda-cloud": {},
  "kernelspec": {
   "display_name": "Python [Root]",
   "language": "python",
   "name": "Python [Root]"
  },
  "language_info": {
   "codemirror_mode": {
    "name": "ipython",
    "version": 3
   },
   "file_extension": ".py",
   "mimetype": "text/x-python",
   "name": "python",
   "nbconvert_exporter": "python",
   "pygments_lexer": "ipython3",
   "version": "3.5.2"
  }
 },
 "nbformat": 4,
 "nbformat_minor": 0
}
