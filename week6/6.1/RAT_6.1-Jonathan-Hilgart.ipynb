{
 "cells": [
  {
   "cell_type": "markdown",
   "metadata": {},
   "source": [
    "# RAT 6.1\n",
    "\n",
    "1. Factor these two vectors to their simplest representation:\n",
    "   \n",
    "    $v_1 = \\begin{bmatrix}15\\\\-25\\\\-5\\end{bmatrix}$\n",
    "    \n",
    "    $v_2 = \\begin{bmatrix}-3\\sqrt{15}\\\\15\\sqrt{5}\\\\-9\\sqrt{20}\\end{bmatrix}$\n",
    "    \n",
    "2. Calculate the inner product of $v_1$ and $v_2$, $v_1^{T}v_2$\n",
    "\n",
    "3. Make a short list of 5-10 elementary functions\n",
    "\n",
    "4. What is the formal (equation) definition of the derivative? What does it describe?\n",
    "\n",
    "5. Calculate the limit derivative of $f(x) = x^{2}$. Show all steps.\n",
    "\n",
    "6. What is the second whole derivative with respect to x of $f(x) = sin^{2}(x)$? Show all steps and use the chain rule.\n",
    "\n"
   ]
  },
  {
   "cell_type": "markdown",
   "metadata": {
    "collapsed": true
   },
   "source": [
    "# 1) \n",
    "- v1/5 = [3,-5,-1]\n",
    "- v2 = [-3$*\\sqrt{5}*\\sqrt{3}  , 15*\\sqrt{5} ,   -9 *\\sqrt{5}*\\sqrt{4} ]$\n",
    "- $v2/ \\sqrt{5}  = [ -3*\\sqrt{3}  , 15 , -9*\\sqrt{4} ]$"
   ]
  },
  {
   "cell_type": "markdown",
   "metadata": {},
   "source": [
    "# 2)\n",
    "\n",
    "- Inner product of V1 and V2 is not defined because they are two columns vectors.\n",
    "\n",
    "- Inner product of $V_1^T * V_2$ = [ $ ( 3 * -3*\\sqrt{3}) + (-5 * 15) + (-1 * -9 * \\sqrt{4}) ]$\n",
    "\n"
   ]
  },
  {
   "cell_type": "markdown",
   "metadata": {},
   "source": [
    "# 3)\n",
    "\n",
    "- mean()\n",
    "- std()\n",
    "- len()\n",
    "- range()\n",
    "- enumerate()\n",
    "- lambda x: x\n",
    "- pd.concat()\n",
    "- .append()\n",
    "- .insert()\n",
    "- pd.DataFrame()\n",
    "- pd.read_sql('SQL', engine)\n",
    "- df.describe()\n",
    "- set()\n"
   ]
  },
  {
   "cell_type": "markdown",
   "metadata": {},
   "source": [
    "# 4)\n",
    "\n",
    "- The general equation for a derivative describes the instantaneous rate of change.\n",
    "\n",
    "- $[F(a + \\delta{t}) - F(A) ] / \\delta{t} $. Where delta describes your rate of change. "
   ]
  },
  {
   "cell_type": "markdown",
   "metadata": {},
   "source": [
    "# 5)\n",
    "\n",
    "- The limit derivative of x^2 as x->0 is;\n",
    "\n",
    "$[F(a + \\delta{x}) - F(A) ] / \\delta{t}   = F[(x + \\delta{x})^2 - x^2] / \\delta{x}$\n",
    "\n",
    "$= [(x^2 + 2\\delta{x} + \\delta{x}^2)-x^2] / \\delta{x}$\n",
    "\n",
    "$=[3\\delta{x}] / \\delta{x}$\n",
    "\n",
    "$=2\\delta{x}$  or **2x**"
   ]
  },
  {
   "cell_type": "markdown",
   "metadata": {},
   "source": [
    "# 6)\n",
    "\n",
    "f(x) = sin^2(x)\n",
    "\n",
    "=$ F^'*g(x)*g^'(x)$\n",
    "\n",
    "= $2sin(x)*cos(x)$ \n",
    "\n"
   ]
  },
  {
   "cell_type": "code",
   "execution_count": null,
   "metadata": {
    "collapsed": true
   },
   "outputs": [],
   "source": []
  }
 ],
 "metadata": {
  "anaconda-cloud": {},
  "kernelspec": {
   "display_name": "Python [Root]",
   "language": "python",
   "name": "Python [Root]"
  },
  "language_info": {
   "codemirror_mode": {
    "name": "ipython",
    "version": 3
   },
   "file_extension": ".py",
   "mimetype": "text/x-python",
   "name": "python",
   "nbconvert_exporter": "python",
   "pygments_lexer": "ipython3",
   "version": "3.5.2"
  }
 },
 "nbformat": 4,
 "nbformat_minor": 0
}
