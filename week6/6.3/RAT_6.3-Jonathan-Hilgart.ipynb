{
 "cells": [
  {
   "cell_type": "markdown",
   "metadata": {},
   "source": [
    "# RAT 6.3\n",
    "\n",
    "1) Write the formula of and describe the meaning of the divergence of a vector field.\n",
    "\n",
    "2) Take the total derivative with respect to t of $w = x3yz + xy + z + 3$ where $x = 3\\ cos(t)$, $y = 3\\ sin(t)$, $z = 2t$. Evaluate at $t = \\frac{\\pi}{2}$\n",
    "\n",
    "3) What does it mean when I say that two matrices $P$ and $Q$ are similar matrices? Write the formula. Provide a complete (numerical) example of two similar matrices. You may use numpy to generate and/or test the example."
   ]
  },
  {
   "cell_type": "markdown",
   "metadata": {
    "collapsed": true
   },
   "source": [
    "- 1) The divergence is the dot product of del with a vector-valued function. This tells you how quickly vectors at a given vectors are increasing or decreasing from or towards a central point. \n",
    "\n",
    "$$div(\\vec{f}) = \\vec{\\nabla} \\cdot \\vec{f} = \\dfrac{\\partial f}{\\partial x}+\\dfrac{\\partial f}{\\partial y}+\\dfrac{\\partial f}{\\partial z}$$"
   ]
  },
  {
   "cell_type": "markdown",
   "metadata": {},
   "source": [
    "- 2) $ w = 3cos(t)^3*3sin(t)*2t +3cos(t)*3sin(t) + 3 $\n",
    "\n",
    ">Derivative with respect to T is =>  $54*cos(t)^2*(sin(t)^2)*t -18*cos(t)^4*t + 18*cos(t)^3*sin(t) + 9*sin(t)^2-9*cos(t)^2 + 2t $\n",
    "\n",
    "> evaluate at $pie/2$.\n",
    "\n",
    "> 0 - 0 + 0 + 0  = 2"
   ]
  },
  {
   "cell_type": "code",
   "execution_count": 1,
   "metadata": {
    "collapsed": false
   },
   "outputs": [
    {
     "data": {
      "text/plain": [
       "54"
      ]
     },
     "execution_count": 1,
     "metadata": {},
     "output_type": "execute_result"
    }
   ],
   "source": [
    "18*3"
   ]
  },
  {
   "cell_type": "markdown",
   "metadata": {},
   "source": [
    "- 3) Similar matrices mean  that$ Q = P * D * P ^{-1}$. Same eigenvalues."
   ]
  },
  {
   "cell_type": "code",
   "execution_count": 3,
   "metadata": {
    "collapsed": false
   },
   "outputs": [],
   "source": [
    "#3\n",
    "import numpy as np\n",
    "A = np.array([[4,0],\n",
    "             [0,-1]])\n",
    "B = np.array ([[5,-3],\n",
    "              [2,-2]])"
   ]
  },
  {
   "cell_type": "code",
   "execution_count": 5,
   "metadata": {
    "collapsed": false
   },
   "outputs": [
    {
     "data": {
      "text/plain": [
       "(array([ 4., -1.]), array([[ 1.,  0.],\n",
       "        [ 0.,  1.]]))"
      ]
     },
     "execution_count": 5,
     "metadata": {},
     "output_type": "execute_result"
    }
   ],
   "source": [
    "np.linalg.eig(A)"
   ]
  },
  {
   "cell_type": "code",
   "execution_count": 7,
   "metadata": {
    "collapsed": false
   },
   "outputs": [
    {
     "data": {
      "text/plain": [
       "(array([ 4., -1.]), array([[ 0.9486833 ,  0.4472136 ],\n",
       "        [ 0.31622777,  0.89442719]]))"
      ]
     },
     "execution_count": 7,
     "metadata": {},
     "output_type": "execute_result"
    }
   ],
   "source": [
    "np.linalg.eig(B)"
   ]
  },
  {
   "cell_type": "code",
   "execution_count": 8,
   "metadata": {
    "collapsed": true
   },
   "outputs": [],
   "source": [
    "# A and B have the same eigenvalues"
   ]
  },
  {
   "cell_type": "code",
   "execution_count": null,
   "metadata": {
    "collapsed": true
   },
   "outputs": [],
   "source": []
  }
 ],
 "metadata": {
  "anaconda-cloud": {},
  "kernelspec": {
   "display_name": "Python [Root]",
   "language": "python",
   "name": "Python [Root]"
  },
  "language_info": {
   "codemirror_mode": {
    "name": "ipython",
    "version": 3
   },
   "file_extension": ".py",
   "mimetype": "text/x-python",
   "name": "python",
   "nbconvert_exporter": "python",
   "pygments_lexer": "ipython3",
   "version": "3.5.2"
  }
 },
 "nbformat": 4,
 "nbformat_minor": 0
}
