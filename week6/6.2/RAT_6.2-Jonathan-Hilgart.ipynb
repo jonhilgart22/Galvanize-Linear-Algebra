{
 "cells": [
  {
   "cell_type": "markdown",
   "metadata": {},
   "source": [
    "# RAT 6.2\n",
    "\n",
    "1) Take the first directional derivative with respect to $t$ of the parametric description of location $x(t) = \\begin{bmatrix}e^{-2t}\\\\2te^{2t}\\\\t^2\\end{bmatrix}$. What does this quantity signify - that is to say, what is its meaning?"
   ]
  },
  {
   "cell_type": "markdown",
   "metadata": {},
   "source": [
    "# 1)\n",
    "\n",
    "- The first directional derivative is the gradient, which tells you the rate of change of the slope for each element at any particular scalar T in each coordinate (x,y,z).\n",
    "\n",
    "- The first derivative here is $[e^{-2t}*-2 ,2 * e ^{2t}*(2t+1)  , 2t ] $"
   ]
  },
  {
   "cell_type": "markdown",
   "metadata": {},
   "source": [
    "2) $f = ln(x)$, $g = x^2e^{x}$ $h = sin(x)$ Compose $g \\circ f \\circ h$. What is the domain of this function? What is its range? Is it a linear transformation?"
   ]
  },
  {
   "cell_type": "markdown",
   "metadata": {},
   "source": [
    "# 2)\n",
    "\n",
    "- g(f(h(x))) : $ g = x^2*e^x  , f = ln(sin(x)), $ \n",
    "\n",
    "- $g(f(h(x))) = ln(sin(x))^2*e^{ln(sin(x))} $\n",
    "\n",
    "- The domain of this function is all real numbers in R^2. The range is all positive numbers in R2. \n",
    "\n",
    "- Properties of a linear transformation state that T(u +v) = T(u) + T(v). Our function is not a linear transformation because if u = 1 and v =1, sin(1) = 1 and sin(1)  =1 . This is not the same as sin(2)."
   ]
  },
  {
   "cell_type": "markdown",
   "metadata": {},
   "source": [
    "3) Write the Del Operator in any number of coordinates. What is the difference between $\\vec{\\nabla\\ } f$ and $ f\\ \\vec{\\nabla}$ for a **scalar** valued function f?"
   ]
  },
  {
   "cell_type": "markdown",
   "metadata": {},
   "source": [
    "# 3)\n",
    "\n",
    "- The del operator is partial derivative for each element of a vector field.\n",
    "\n",
    "i.e. if F is a vector field comprised of [x,y,z] the del = [partial derivative (F) / partial derivative (x) , partial derivative (F) / partial derivative (y)  , partial derivative (F) / partial derivative (z) ]\n",
    "\n",
    "\n",
    "- $Del * F$ is your gradient, while $F * Del$ is an operator that will map your function to a scalar >"
   ]
  },
  {
   "cell_type": "markdown",
   "metadata": {},
   "source": [
    "4) $\\vec{f}(x,y,z) = \\begin{bmatrix}3xyz^3\\\\2sin(x)yz^2\\\\z\\ sin^{2}(xy)\\end{bmatrix}$. Compute $\\vec{\\nabla}\\vec{f}$. What does this vector function describe?"
   ]
  },
  {
   "cell_type": "markdown",
   "metadata": {},
   "source": [
    "# 4)\n",
    "\n",
    "- $\\vec{\\nabla}\\vec{f} = [9yz^2 , 2*sin(x)*z^2 , sin^2(xy)]^T$. This is the gradient of the function that describes the rate of change of the slope at for each element in your coordinate plane.\n",
    "\n",
    "\n",
    "\n"
   ]
  },
  {
   "cell_type": "markdown",
   "metadata": {
    "collapsed": true
   },
   "source": [
    "5) Compute $\\vec{\\nabla}\\cdot \\vec{f}$. What does this vector function describe?"
   ]
  },
  {
   "cell_type": "markdown",
   "metadata": {
    "collapsed": true
   },
   "source": [
    "# 5)\n",
    "\n",
    "- Your del dot your vector function is your divergence. This tells you how quickly each vector in your vector field is moving away (if positive) or contracting (if negative).\n",
    "\n",
    "- $ [9yz^2 + 2*sin(x)*z^2 + sin^2(xy)]$"
   ]
  },
  {
   "cell_type": "code",
   "execution_count": null,
   "metadata": {
    "collapsed": true
   },
   "outputs": [],
   "source": []
  }
 ],
 "metadata": {
  "anaconda-cloud": {},
  "kernelspec": {
   "display_name": "Python [Root]",
   "language": "python",
   "name": "Python [Root]"
  },
  "language_info": {
   "codemirror_mode": {
    "name": "ipython",
    "version": 3
   },
   "file_extension": ".py",
   "mimetype": "text/x-python",
   "name": "python",
   "nbconvert_exporter": "python",
   "pygments_lexer": "ipython3",
   "version": "3.5.2"
  }
 },
 "nbformat": 4,
 "nbformat_minor": 0
}
