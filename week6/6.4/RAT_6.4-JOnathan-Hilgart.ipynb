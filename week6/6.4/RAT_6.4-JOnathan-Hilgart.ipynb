{
 "cells": [
  {
   "cell_type": "markdown",
   "metadata": {},
   "source": [
    "# RAT 6.4\n",
    "\n",
    "1. Write a working OLS regression using Numpy and describe in your own words the inputs and outputs. \n",
    "\n",
    "2. Describe in your own words what an eigenvalue and eigenvector are.\n",
    "\n",
    "3. Use GJ elimination to produce the inverse of $M = \\begin{bmatrix}1 & 1  & 1\\\\ 2 & 3 & 5 \\\\ 4 & 0 & 5\\end{bmatrix}$\n",
    "\n",
    "4. Can you invert a nonsquare matrix? Is it possible to produce an inverse for a nonsquare matrix if we only consider its image? "
   ]
  },
  {
   "cell_type": "markdown",
   "metadata": {
    "collapsed": true
   },
   "source": []
  },
  {
   "cell_type": "markdown",
   "metadata": {},
   "source": [
    "Formula for OLS regression is "
   ]
  },
  {
   "cell_type": "code",
   "execution_count": 1,
   "metadata": {
    "collapsed": true
   },
   "outputs": [],
   "source": [
    "import numpy as np"
   ]
  },
  {
   "cell_type": "code",
   "execution_count": 36,
   "metadata": {
    "collapsed": true
   },
   "outputs": [],
   "source": [
    "def projection(c1,c2): return (c1.dot(c2)/(c2.dot(c2)))*c2"
   ]
  },
  {
   "cell_type": "code",
   "execution_count": 49,
   "metadata": {
    "collapsed": false
   },
   "outputs": [],
   "source": [
    "a=np.array([[1,2]])\n",
    "\n",
    "b = np.array([[-4,3]])\n",
    "\n",
    "C = np.array([[1,0],\n",
    "             [2,0]])\n"
   ]
  },
  {
   "cell_type": "code",
   "execution_count": null,
   "metadata": {
    "collapsed": false
   },
   "outputs": [],
   "source": []
  },
  {
   "cell_type": "code",
   "execution_count": 50,
   "metadata": {
    "collapsed": false
   },
   "outputs": [
    {
     "data": {
      "text/plain": [
       "array([[5, 0]])"
      ]
     },
     "execution_count": 50,
     "metadata": {},
     "output_type": "execute_result"
    }
   ],
   "source": [
    "a.dot(C)"
   ]
  },
  {
   "cell_type": "markdown",
   "metadata": {},
   "source": [
    "# To fine the OLS regression, you need to map Ax to b, which is a point outside of the columnspace of your projection matrix. Once you have this point, then you take the projection of this point onto the rowspace.\n",
    "\n",
    "- Ax~=p\n",
    "- b = Ax~-p"
   ]
  },
  {
   "cell_type": "markdown",
   "metadata": {},
   "source": [
    ">In this example, for matrix C our columnspace is composed of $[1,0]^T,[0,-2]^T$. Therefore, if we place the restriction that x>0, then this columnspace does NOT span R2. Therefore, we can find points outside of the columnspace (anything with a negative x-cordinate), that we can not reach due to this constraint. Therefore, lets our b point is $[-1,1]^T$. We can take the projection of b onto the columnspace to find a point, p, which is our OLS projection of b onto the columnspace."
   ]
  },
  {
   "cell_type": "code",
   "execution_count": 55,
   "metadata": {
    "collapsed": true
   },
   "outputs": [],
   "source": [
    "column_space = np.array([[1,0],\n",
    "                        [0,-2]])"
   ]
  },
  {
   "cell_type": "code",
   "execution_count": 56,
   "metadata": {
    "collapsed": false
   },
   "outputs": [
    {
     "name": "stderr",
     "output_type": "stream",
     "text": [
      "/Users/jonathanhilgart/anaconda/lib/python3.5/site-packages/ipykernel/__main__.py:1: RuntimeWarning: divide by zero encountered in true_divide\n",
      "  if __name__ == '__main__':\n",
      "/Users/jonathanhilgart/anaconda/lib/python3.5/site-packages/ipykernel/__main__.py:1: RuntimeWarning: invalid value encountered in multiply\n",
      "  if __name__ == '__main__':\n"
     ]
    },
    {
     "data": {
      "text/plain": [
       "array([[ -4.,  nan],\n",
       "       [ nan,   3.]])"
      ]
     },
     "execution_count": 56,
     "metadata": {},
     "output_type": "execute_result"
    }
   ],
   "source": [
    "projection(b,column_space)"
   ]
  },
  {
   "cell_type": "markdown",
   "metadata": {},
   "source": [
    "# 2) An eigenvalue is the magnitude, in each direction of your eigenvector, that you vector (or matrix) undergoes during a transformation. The eigenvectors tell you the direction of this transformation. Therefore, the eigenvalues work in the direction of the eigenvectors."
   ]
  },
  {
   "cell_type": "markdown",
   "metadata": {},
   "source": [
    "# 3) You need to put an identify matrix next to this matrix to solve. \n",
    "\n",
    " $M = \\begin{bmatrix}1 & 1  & 1\\\\ 2 & 3 & 5 \\\\ 4 & 0 & 5\\end{bmatrix}$ $I = \\begin{bmatrix}1 & 0  & 0\\\\ 0 & 1 & 0 \\\\ 0 & 0 & 1\\end{bmatrix}$"
   ]
  },
  {
   "cell_type": "markdown",
   "metadata": {},
   "source": [
    ">I am going to do the work on paper and write the steps here\n",
    "\n",
    "- L2 = 2L1-L2 \n",
    "- L3 = 4L1-L3\n",
    "- L1 = L2 + L1 \n",
    "- L2 = -3L3 + l2\n",
    "- L1 = -2L3 + L1 \n",
    "-L2 and L3 multiply by -1\n",
    "\n",
    "Inverse is $Inverse of M = \\begin{bmatrix}7 & -1  & 2\\\\ 10 & -1 & 3 \\\\ -4 & 0 & -1\\end{bmatrix}$"
   ]
  },
  {
   "cell_type": "markdown",
   "metadata": {},
   "source": [
    "# 4 ) Yes you can invert a non-square matrix using a psuedoinverse. We can not invert a non-square matrix using only the image."
   ]
  },
  {
   "cell_type": "code",
   "execution_count": null,
   "metadata": {
    "collapsed": true
   },
   "outputs": [],
   "source": []
  }
 ],
 "metadata": {
  "kernelspec": {
   "display_name": "Python [Root]",
   "language": "python",
   "name": "Python [Root]"
  },
  "language_info": {
   "codemirror_mode": {
    "name": "ipython",
    "version": 3
   },
   "file_extension": ".py",
   "mimetype": "text/x-python",
   "name": "python",
   "nbconvert_exporter": "python",
   "pygments_lexer": "ipython3",
   "version": "3.5.2"
  }
 },
 "nbformat": 4,
 "nbformat_minor": 0
}
