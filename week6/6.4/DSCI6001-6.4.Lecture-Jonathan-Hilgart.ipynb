{
 "cells": [
  {
   "cell_type": "markdown",
   "metadata": {},
   "source": [
    "# DSCI 6001 6.4 Lecture - Lagrange Multipliers\n",
    "\n",
    "## By the End of this Lecture You Will Be Able To:\n",
    "1. Describe the concepts behind Lagrange multipliers in your own words.\n",
    "2. Solve basic problems with Lagrange multipliers.\n",
    "\n",
    "### Finding the maximum of a function given a constraint\n",
    "\n",
    "Frequently we desire to find the maximum possible value of a function within the limits of a certain constraining function.\n",
    "\n",
    "In a previous lecture, we found the maxima and minima (i.e. found the absolute extrema) of a chosen function within the region described by another function. \n",
    "\n",
    "Finding potential optimal points in the interior of the region isn’t too bad in general, all that we needed to do was find the critical points ($grad(f) = 0$) and plug them into the function to get the values of the maxima and minima. On the boundary, we could solve in one coordinate using a substution and then find the other coordinate, yielding a set of points that we could test for maxima and minima.\n",
    "\n",
    "As a whole, however, this turns out to be a pretty painful and messy process with a lot of overhead.\n",
    "\n",
    "There is another way of optimizing a function subject to given constraint (function).  The constraint might be the equation(s) that describe the boundary of a closed region, although it can be anything. It doesn't have to be just a closed boundary. \n",
    "\n",
    "So, let’s get things set up.  We want to optimize (i.e. find the extrema of) a function, subject to a given constraint. For example, here we consider two different types of constraint, a circle of radius 5, and a line, $y = -2-3(x-5.7)$. "
   ]
  },
  {
   "cell_type": "code",
   "execution_count": 1,
   "metadata": {
    "collapsed": false
   },
   "outputs": [
    {
     "data": {
      "text/plain": [
       "(-5, 5)"
      ]
     },
     "execution_count": 1,
     "metadata": {},
     "output_type": "execute_result"
    },
    {
     "data": {
      "image/png": "[encoded data removed]",
      "text/plain": [
       "<matplotlib.figure.Figure at 0x10417fd68>"
      ]
     },
     "metadata": {},
     "output_type": "display_data"
    }
   ],
   "source": [
    "\n",
    "import matplotlib\n",
    "import numpy as np\n",
    "import matplotlib.cm as cm\n",
    "import matplotlib.mlab as mlab\n",
    "import matplotlib.pyplot as plt\n",
    "\n",
    "%matplotlib inline\n",
    "matplotlib.rcParams['contour.negative_linestyle'] = 'dashed'\n",
    "matplotlib.rcParams['xtick.direction'] = 'out'\n",
    "matplotlib.rcParams['ytick.direction'] = 'out'\n",
    "\n",
    "delta = 0.025\n",
    "x = np.arange(-10.0, 10.0, delta)\n",
    "y = np.arange(-10.0, 10.0, delta)\n",
    "X, Y = np.meshgrid(x, y)\n",
    "Z = 2*X**2+Y**2\n",
    "#Z1 = mlab.bivariate_normal(X, Y, 1.0, 1.0, 0.0, 0.0)\n",
    "#Z2 = mlab.bivariate_normal(X, Y, 1.5, 0.5, 1, 1)\n",
    "#Z = 10.0 * (Z2 - Z1)\n",
    "\n",
    "fig = plt.figure()\n",
    "ax=fig.add_subplot(1,1,1, aspect='equal')\n",
    "\n",
    "CS = plt.contour(X, Y, Z, 8,\n",
    "                 colors='k', # negative contours will be dashed by default\n",
    "                 )\n",
    "\n",
    "circ=plt.Circle((0,0), radius=4.5, color='g', fill=False)\n",
    "ax.add_patch(circ)\n",
    "\n",
    "line = plt.plot(x,(-2-3*(x-5.65)))\n",
    "\n",
    "plt.clabel(CS, fontsize=9, inline=1)\n",
    "#plt.xlim((-10,10))\n",
    "#plt.ylim((-10,10))\n",
    "\n",
    "\n",
    "plt.xlim((0,5))\n",
    "plt.ylim((-5,5))\n"
   ]
  },
  {
   "cell_type": "markdown",
   "metadata": {},
   "source": [
    "In order to get the maximum (optimum) value on the constraint, we need to look for the places where the values of $f(x,y)$ and the constraint are not only the same, but their gradients are the same (hence providing a maximum for both)."
   ]
  },
  {
   "cell_type": "markdown",
   "metadata": {},
   "source": [
    "### Computing the Lagrange multiplier $\\lambda$\n",
    "\n",
    "So we have established that we need to make the gradient of the sampled function $f$ equal to the constraint function $g$:\n",
    "\n",
    "$$\\nabla f = \\lambda \\nabla g$$\n",
    "\n",
    "And we also have the constraint fixed to a constant:\n",
    "\n",
    "$$g = c$$\n",
    "\n",
    "Therefore we can write:\n",
    "\n",
    "$$f(x,y) = 2x^2+y^2$$\n",
    "\n",
    "$$g(x, y) = y+2+3(x-5.65)$$\n",
    "\n",
    "Thus,\n",
    "\n",
    "$$f_x = 4x$$\n",
    "$$f_y = 2y$$\n",
    "$$g_x = 3$$\n",
    "$$g_y = 1$$\n",
    "\n",
    "So we can write:\n",
    "\n",
    "$$4x = \\lambda 3$$\n",
    "$$2y = \\lambda 1$$\n",
    "\n",
    "Also,\n",
    "\n",
    "$$\\frac{4}{3}x = 2y$$\n",
    "\n",
    "$$\\frac{2}{3}x = y$$\n",
    "\n",
    "\n",
    "Thus we can solve using the constraint:\n",
    "\n",
    "$$\\frac{2}{3}x = -2-3(x-5.65)$$\n",
    "\n",
    "$$2x = -6-9(x-5.65)$$\n",
    "\n",
    "\n",
    "$$x = 4.62, y = 3.08$$"
   ]
  },
  {
   "cell_type": "code",
   "execution_count": null,
   "metadata": {
    "collapsed": true
   },
   "outputs": [],
   "source": []
  }
 ],
 "metadata": {
  "kernelspec": {
   "display_name": "Python [Root]",
   "language": "python",
   "name": "Python [Root]"
  },
  "language_info": {
   "codemirror_mode": {
    "name": "ipython",
    "version": 3
   },
   "file_extension": ".py",
   "mimetype": "text/x-python",
   "name": "python",
   "nbconvert_exporter": "python",
   "pygments_lexer": "ipython3",
   "version": "3.5.2"
  }
 },
 "nbformat": 4,
 "nbformat_minor": 0
}
